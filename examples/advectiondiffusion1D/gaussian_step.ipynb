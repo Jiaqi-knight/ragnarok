{
 "cells": [
  {
   "cell_type": "markdown",
   "metadata": {},
   "source": [
    "# Advection-Diffusion 1D: Gaussian step"
   ]
  },
  {
   "cell_type": "markdown",
   "metadata": {},
   "source": [
    "A 1D advection-diffusion problem with a gaussian step as initial condition."
   ]
  },
  {
   "cell_type": "markdown",
   "metadata": {},
   "source": [
    "## Import Modules"
   ]
  },
  {
   "cell_type": "markdown",
   "metadata": {},
   "source": [
    "**Standard**"
   ]
  },
  {
   "cell_type": "code",
   "execution_count": 1,
   "metadata": {},
   "outputs": [],
   "source": [
    "import time\n",
    "import numpy as np\n",
    "import math"
   ]
  },
  {
   "cell_type": "markdown",
   "metadata": {},
   "source": [
    "**High performance computing**"
   ]
  },
  {
   "cell_type": "code",
   "execution_count": 2,
   "metadata": {},
   "outputs": [],
   "source": [
    "from numba import vectorize, jit"
   ]
  },
  {
   "cell_type": "markdown",
   "metadata": {},
   "source": [
    "**Plotting**"
   ]
  },
  {
   "cell_type": "code",
   "execution_count": 3,
   "metadata": {},
   "outputs": [],
   "source": [
    "import gr\n",
    "from gr import pygr\n",
    "gr.inline('svg')"
   ]
  },
  {
   "cell_type": "markdown",
   "metadata": {},
   "source": [
    "**Lattice boltzmann solver**"
   ]
  },
  {
   "cell_type": "code",
   "execution_count": 4,
   "metadata": {},
   "outputs": [],
   "source": [
    "import ragnarok"
   ]
  },
  {
   "cell_type": "markdown",
   "metadata": {},
   "source": [
    "## Plotting function"
   ]
  },
  {
   "cell_type": "code",
   "execution_count": 7,
   "metadata": {},
   "outputs": [],
   "source": [
    "def plot(variable,t):\n",
    "    pygr.plot(variable,ylim=(0.9,1.7),title='T = {}'.format(t),accelerate=True)"
   ]
  },
  {
   "cell_type": "markdown",
   "metadata": {},
   "source": [
    "## Settings"
   ]
  },
  {
   "cell_type": "markdown",
   "metadata": {},
   "source": [
    "**Simulation parameters**"
   ]
  },
  {
   "cell_type": "code",
   "execution_count": 8,
   "metadata": {},
   "outputs": [],
   "source": [
    "N = 800 # Number of lattice\n",
    "u = 0.1 # Lattice speed\n",
    "nu = 5e-8 # Viscosity\n",
    "T_max = 4000 # Maximum number of time steps"
   ]
  },
  {
   "cell_type": "markdown",
   "metadata": {},
   "source": [
    "**Postprocessing parameters**"
   ]
  },
  {
   "cell_type": "code",
   "execution_count": 9,
   "metadata": {},
   "outputs": [],
   "source": [
    "plot_step = 10"
   ]
  },
  {
   "cell_type": "markdown",
   "metadata": {},
   "source": [
    "## Solver"
   ]
  },
  {
   "cell_type": "markdown",
   "metadata": {},
   "source": [
    "Initialze the advection diffusion 1D solver"
   ]
  },
  {
   "cell_type": "code",
   "execution_count": 10,
   "metadata": {},
   "outputs": [],
   "source": [
    "solver = ragnarok.AdvectionDiffusion1D(u=u, nu=nu, Nx=N)"
   ]
  },
  {
   "cell_type": "markdown",
   "metadata": {},
   "source": [
    "Reference parameters:"
   ]
  },
  {
   "cell_type": "code",
   "execution_count": 11,
   "metadata": {},
   "outputs": [],
   "source": [
    "# Get parameters\n",
    "u   = solver.u\n",
    "Nx  = solver.Nx\n",
    "x = solver.x"
   ]
  },
  {
   "cell_type": "markdown",
   "metadata": {},
   "source": [
    "## Initial conditions\n",
    "\n",
    "Define the initial condition:\n",
    "\n",
    "\\begin{equation}\n",
    "    $\\rho_0 (0\\le x \\le N) = 1 + \\frac{1}{2}\\exp \\left\\{ -5000\\left( \\frac{x}{N} - \\frac{1}{2} \\right)^2\\right\\}$\n",
    "\\end{equation}"
   ]
  },
  {
   "cell_type": "markdown",
   "metadata": {},
   "source": [
    "** Step gaussian profile for density**"
   ]
  },
  {
   "cell_type": "code",
   "execution_count": 10,
   "metadata": {},
   "outputs": [],
   "source": [
    "rho0 = 1 + 0.5*np.exp(-5000*(np.arange(N)/float(N) - 0.25)**2 )\n",
    "solver.rho = rho0"
   ]
  },
  {
   "cell_type": "markdown",
   "metadata": {},
   "source": [
    "**Correction initial population**"
   ]
  },
  {
   "cell_type": "markdown",
   "metadata": {},
   "source": [
    "Correct equilibrium population:   "
   ]
  },
  {
   "cell_type": "code",
   "execution_count": 11,
   "metadata": {},
   "outputs": [],
   "source": [
    "solver.correct_feq_python()"
   ]
  },
  {
   "cell_type": "markdown",
   "metadata": {},
   "source": [
    "Initialize population:    "
   ]
  },
  {
   "cell_type": "code",
   "execution_count": 12,
   "metadata": {},
   "outputs": [],
   "source": [
    "solver.f = solver.feq.copy()"
   ]
  },
  {
   "cell_type": "markdown",
   "metadata": {},
   "source": [
    "Correct macroscopic properties:    "
   ]
  },
  {
   "cell_type": "code",
   "execution_count": 13,
   "metadata": {},
   "outputs": [],
   "source": [
    "solver.correct_macroscopic_python()"
   ]
  },
  {
   "cell_type": "markdown",
   "metadata": {},
   "source": [
    "** Plot initial condition **"
   ]
  },
  {
   "cell_type": "code",
   "execution_count": 14,
   "metadata": {},
   "outputs": [
    {
     "data": {
      "image/svg+xml": [
       "<svg height=\"450\" viewBox=\"0 0 600 450\" width=\"600\" xmlns=\"http://www.w3.org/2000/svg\" xmlns:xlink=\"http://www.w3.org/1999/xlink\">\n",
       "<defs>\n",
       "  <clipPath id=\"clip4700\">\n",
       "    <rect height=\"361\" width=\"481\" x=\"75\" y=\"33\"/>\n",
       "  </clipPath>\n",
       "</defs>\n",
       "<defs>\n",
       "  <clipPath id=\"clip4701\">\n",
       "    <rect height=\"450\" width=\"600\" x=\"0\" y=\"0\"/>\n",
       "  </clipPath>\n",
       "</defs>\n",
       "<polyline clip-path=\"url(#clip4701)\" points=\"   75,384.75 555,384.75    \" style=\"stroke:#ededed; stroke-width:1.05; stroke-opacity:1; fill:none\"/>\n",
       "<polyline clip-path=\"url(#clip4701)\" points=\"   75,366.75 555,366.75    \" style=\"stroke:#ededed; stroke-width:1.05; stroke-opacity:1; fill:none\"/>\n",
       "<polyline clip-path=\"url(#clip4701)\" points=\"   75,348.75 555,348.75    \" style=\"stroke:#cccccc; stroke-width:1.05; stroke-opacity:1; fill:none\"/>\n",
       "<polyline clip-path=\"url(#clip4701)\" points=\"   75,330.75 555,330.75    \" style=\"stroke:#ededed; stroke-width:1.05; stroke-opacity:1; fill:none\"/>\n",
       "<polyline clip-path=\"url(#clip4701)\" points=\"   75,312.75 555,312.75    \" style=\"stroke:#ededed; stroke-width:1.05; stroke-opacity:1; fill:none\"/>\n",
       "<polyline clip-path=\"url(#clip4701)\" points=\"   75,294.75 555,294.75    \" style=\"stroke:#ededed; stroke-width:1.05; stroke-opacity:1; fill:none\"/>\n",
       "<polyline clip-path=\"url(#clip4701)\" points=\"   75,276.75 555,276.75    \" style=\"stroke:#ededed; stroke-width:1.05; stroke-opacity:1; fill:none\"/>\n",
       "<polyline clip-path=\"url(#clip4701)\" points=\"   75,258.75 555,258.75    \" style=\"stroke:#cccccc; stroke-width:1.05; stroke-opacity:1; fill:none\"/>\n",
       "<polyline clip-path=\"url(#clip4701)\" points=\"   75,240.75 555,240.75    \" style=\"stroke:#ededed; stroke-width:1.05; stroke-opacity:1; fill:none\"/>\n",
       "<polyline clip-path=\"url(#clip4701)\" points=\"   75,222.75 555,222.75    \" style=\"stroke:#ededed; stroke-width:1.05; stroke-opacity:1; fill:none\"/>\n",
       "<polyline clip-path=\"url(#clip4701)\" points=\"   75,204.75 555,204.75    \" style=\"stroke:#ededed; stroke-width:1.05; stroke-opacity:1; fill:none\"/>\n",
       "<polyline clip-path=\"url(#clip4701)\" points=\"   75,186.75 555,186.75    \" style=\"stroke:#ededed; stroke-width:1.05; stroke-opacity:1; fill:none\"/>\n",
       "<polyline clip-path=\"url(#clip4701)\" points=\"   75,168.75 555,168.75    \" style=\"stroke:#cccccc; stroke-width:1.05; stroke-opacity:1; fill:none\"/>\n",
       "<polyline clip-path=\"url(#clip4701)\" points=\"   75,150.75 555,150.75    \" style=\"stroke:#ededed; stroke-width:1.05; stroke-opacity:1; fill:none\"/>\n",
       "<polyline clip-path=\"url(#clip4701)\" points=\"   75,132.75 555,132.75    \" style=\"stroke:#ededed; stroke-width:1.05; stroke-opacity:1; fill:none\"/>\n",
       "<polyline clip-path=\"url(#clip4701)\" points=\"   75,114.75 555,114.75    \" style=\"stroke:#ededed; stroke-width:1.05; stroke-opacity:1; fill:none\"/>\n",
       "<polyline clip-path=\"url(#clip4701)\" points=\"   75,96.75 555,96.75    \" style=\"stroke:#ededed; stroke-width:1.05; stroke-opacity:1; fill:none\"/>\n",
       "<polyline clip-path=\"url(#clip4701)\" points=\"   75,78.75 555,78.75    \" style=\"stroke:#cccccc; stroke-width:1.05; stroke-opacity:1; fill:none\"/>\n",
       "<polyline clip-path=\"url(#clip4701)\" points=\"   75,60.75 555,60.75    \" style=\"stroke:#ededed; stroke-width:1.05; stroke-opacity:1; fill:none\"/>\n",
       "<polyline clip-path=\"url(#clip4701)\" points=\"   75,42.75 555,42.75    \" style=\"stroke:#ededed; stroke-width:1.05; stroke-opacity:1; fill:none\"/>\n",
       "<polyline clip-path=\"url(#clip4701)\" points=\"   99,393.75 99,33.75    \" style=\"stroke:#ededed; stroke-width:1.05; stroke-opacity:1; fill:none\"/>\n",
       "<polyline clip-path=\"url(#clip4701)\" points=\"   123,393.75 123,33.75    \" style=\"stroke:#ededed; stroke-width:1.05; stroke-opacity:1; fill:none\"/>\n",
       "<polyline clip-path=\"url(#clip4701)\" points=\"   147,393.75 147,33.75    \" style=\"stroke:#ededed; stroke-width:1.05; stroke-opacity:1; fill:none\"/>\n",
       "<polyline clip-path=\"url(#clip4701)\" points=\"   171,393.75 171,33.75    \" style=\"stroke:#ededed; stroke-width:1.05; stroke-opacity:1; fill:none\"/>\n",
       "<polyline clip-path=\"url(#clip4701)\" points=\"   195,393.75 195,33.75    \" style=\"stroke:#cccccc; stroke-width:1.05; stroke-opacity:1; fill:none\"/>\n",
       "<polyline clip-path=\"url(#clip4701)\" points=\"   219,393.75 219,33.75    \" style=\"stroke:#ededed; stroke-width:1.05; stroke-opacity:1; fill:none\"/>\n",
       "<polyline clip-path=\"url(#clip4701)\" points=\"   243,393.75 243,33.75    \" style=\"stroke:#ededed; stroke-width:1.05; stroke-opacity:1; fill:none\"/>\n",
       "<polyline clip-path=\"url(#clip4701)\" points=\"   267,393.75 267,33.75    \" style=\"stroke:#ededed; stroke-width:1.05; stroke-opacity:1; fill:none\"/>\n",
       "<polyline clip-path=\"url(#clip4701)\" points=\"   291,393.75 291,33.75    \" style=\"stroke:#ededed; stroke-width:1.05; stroke-opacity:1; fill:none\"/>\n",
       "<polyline clip-path=\"url(#clip4701)\" points=\"   315,393.75 315,33.75    \" style=\"stroke:#cccccc; stroke-width:1.05; stroke-opacity:1; fill:none\"/>\n",
       "<polyline clip-path=\"url(#clip4701)\" points=\"   339,393.75 339,33.75    \" style=\"stroke:#ededed; stroke-width:1.05; stroke-opacity:1; fill:none\"/>\n",
       "<polyline clip-path=\"url(#clip4701)\" points=\"   363,393.75 363,33.75    \" style=\"stroke:#ededed; stroke-width:1.05; stroke-opacity:1; fill:none\"/>\n",
       "<polyline clip-path=\"url(#clip4701)\" points=\"   387,393.75 387,33.75    \" style=\"stroke:#ededed; stroke-width:1.05; stroke-opacity:1; fill:none\"/>\n",
       "<polyline clip-path=\"url(#clip4701)\" points=\"   411,393.75 411,33.75    \" style=\"stroke:#ededed; stroke-width:1.05; stroke-opacity:1; fill:none\"/>\n",
       "<polyline clip-path=\"url(#clip4701)\" points=\"   435,393.75 435,33.75    \" style=\"stroke:#cccccc; stroke-width:1.05; stroke-opacity:1; fill:none\"/>\n",
       "<polyline clip-path=\"url(#clip4701)\" points=\"   459,393.75 459,33.75    \" style=\"stroke:#ededed; stroke-width:1.05; stroke-opacity:1; fill:none\"/>\n",
       "<polyline clip-path=\"url(#clip4701)\" points=\"   483,393.75 483,33.75    \" style=\"stroke:#ededed; stroke-width:1.05; stroke-opacity:1; fill:none\"/>\n",
       "<polyline clip-path=\"url(#clip4701)\" points=\"   507,393.75 507,33.75    \" style=\"stroke:#ededed; stroke-width:1.05; stroke-opacity:1; fill:none\"/>\n",
       "<polyline clip-path=\"url(#clip4701)\" points=\"   531,393.75 531,33.75    \" style=\"stroke:#ededed; stroke-width:1.05; stroke-opacity:1; fill:none\"/>\n",
       "<polyline clip-path=\"url(#clip4701)\" points=\"   555,393.75 555,33.75    \" style=\"stroke:#cccccc; stroke-width:1.05; stroke-opacity:1; fill:none\"/>\n",
       "<g clip-path=\"url(#clip4701)\">\n",
       "<text style=\"fill:#000000; fill-opacity:1; font-family:Arial,Helvetica Neue,Helvetica,sans-serif; font-size:15; text-anchor:start;\" transform=\"rotate(0, 49.5919, 353.016)\" x=\"49.5919\" y=\"353.016\">1.0</text>\n",
       "</g>\n",
       "<g clip-path=\"url(#clip4701)\">\n",
       "<text style=\"fill:#000000; fill-opacity:1; font-family:Arial,Helvetica Neue,Helvetica,sans-serif; font-size:15; text-anchor:start;\" transform=\"rotate(0, 49.5919, 263.016)\" x=\"49.5919\" y=\"263.016\">1.2</text>\n",
       "</g>\n",
       "<g clip-path=\"url(#clip4701)\">\n",
       "<text style=\"fill:#000000; fill-opacity:1; font-family:Arial,Helvetica Neue,Helvetica,sans-serif; font-size:15; text-anchor:start;\" transform=\"rotate(0, 49.5919, 173.016)\" x=\"49.5919\" y=\"173.016\">1.4</text>\n",
       "</g>\n",
       "<g clip-path=\"url(#clip4701)\">\n",
       "<text style=\"fill:#000000; fill-opacity:1; font-family:Arial,Helvetica Neue,Helvetica,sans-serif; font-size:15; text-anchor:start;\" transform=\"rotate(0, 49.5919, 83.016)\" x=\"49.5919\" y=\"83.016\">1.6</text>\n",
       "</g>\n",
       "<polyline clip-path=\"url(#clip4701)\" points=\"   75,393.75 75,384.75 79.5,384.75 75,384.75 75,366.75 79.5,366.75 75,366.75 75,348.75 84,348.75 75,348.75    75,330.75 79.5,330.75 75,330.75 75,312.75 79.5,312.75 75,312.75 75,294.75 79.5,294.75 75,294.75 75,276.75    79.5,276.75 75,276.75 75,258.75 84,258.75 75,258.75 75,240.75 79.5,240.75 75,240.75 75,222.75 79.5,222.75    75,222.75 75,204.75 79.5,204.75 75,204.75 75,186.75 79.5,186.75 75,186.75 75,168.75 84,168.75 75,168.75    75,150.75 79.5,150.75 75,150.75 75,132.75 79.5,132.75 75,132.75 75,114.75 79.5,114.75 75,114.75 75,96.75    79.5,96.75 75,96.75 75,78.75 84,78.75 75,78.75 75,60.75 79.5,60.75 75,60.75 75,42.75 79.5,42.75    75,42.75 75,33.75    \" style=\"stroke:#000000; stroke-width:1.05; stroke-opacity:1; fill:none\"/>\n",
       "<g clip-path=\"url(#clip4701)\">\n",
       "<text style=\"fill:#000000; fill-opacity:1; font-family:Arial,Helvetica Neue,Helvetica,sans-serif; font-size:15; text-anchor:start;\" transform=\"rotate(0, 70.8184, 411.642)\" x=\"70.8184\" y=\"411.642\">0</text>\n",
       "</g>\n",
       "<g clip-path=\"url(#clip4701)\">\n",
       "<text style=\"fill:#000000; fill-opacity:1; font-family:Arial,Helvetica Neue,Helvetica,sans-serif; font-size:15; text-anchor:start;\" transform=\"rotate(0, 182.455, 411.642)\" x=\"182.455\" y=\"411.642\">200</text>\n",
       "</g>\n",
       "<g clip-path=\"url(#clip4701)\">\n",
       "<text style=\"fill:#000000; fill-opacity:1; font-family:Arial,Helvetica Neue,Helvetica,sans-serif; font-size:15; text-anchor:start;\" transform=\"rotate(0, 302.455, 411.642)\" x=\"302.455\" y=\"411.642\">400</text>\n",
       "</g>\n",
       "<g clip-path=\"url(#clip4701)\">\n",
       "<text style=\"fill:#000000; fill-opacity:1; font-family:Arial,Helvetica Neue,Helvetica,sans-serif; font-size:15; text-anchor:start;\" transform=\"rotate(0, 422.455, 411.642)\" x=\"422.455\" y=\"411.642\">600</text>\n",
       "</g>\n",
       "<g clip-path=\"url(#clip4701)\">\n",
       "<text style=\"fill:#000000; fill-opacity:1; font-family:Arial,Helvetica Neue,Helvetica,sans-serif; font-size:15; text-anchor:start;\" transform=\"rotate(0, 542.455, 411.642)\" x=\"542.455\" y=\"411.642\">800</text>\n",
       "</g>\n",
       "<polyline clip-path=\"url(#clip4701)\" points=\"   75,393.75 75,393.75 75,384.75 75,393.75 99,393.75 99,389.25 99,393.75 123,393.75 123,389.25 123,393.75    147,393.75 147,389.25 147,393.75 171,393.75 171,389.25 171,393.75 195,393.75 195,384.75 195,393.75 219,393.75    219,389.25 219,393.75 243,393.75 243,389.25 243,393.75 267,393.75 267,389.25 267,393.75 291,393.75 291,389.25    291,393.75 315,393.75 315,384.75 315,393.75 339,393.75 339,389.25 339,393.75 363,393.75 363,389.25 363,393.75    387,393.75 387,389.25 387,393.75 411,393.75 411,389.25 411,393.75 435,393.75 435,384.75 435,393.75 459,393.75    459,389.25 459,393.75 483,393.75 483,389.25 483,393.75 507,393.75 507,389.25 507,393.75 531,393.75 531,389.25    531,393.75 555,393.75 555,384.75 555,393.75    \" style=\"stroke:#000000; stroke-width:1.05; stroke-opacity:1; fill:none\"/>\n",
       "<polyline clip-path=\"url(#clip4701)\" points=\"   555,393.75 555,384.75 550.5,384.75 555,384.75 555,366.75 550.5,366.75 555,366.75 555,348.75 546,348.75 555,348.75    555,330.75 550.5,330.75 555,330.75 555,312.75 550.5,312.75 555,312.75 555,294.75 550.5,294.75 555,294.75 555,276.75    550.5,276.75 555,276.75 555,258.75 546,258.75 555,258.75 555,240.75 550.5,240.75 555,240.75 555,222.75 550.5,222.75    555,222.75 555,204.75 550.5,204.75 555,204.75 555,186.75 550.5,186.75 555,186.75 555,168.75 546,168.75 555,168.75    555,150.75 550.5,150.75 555,150.75 555,132.75 550.5,132.75 555,132.75 555,114.75 550.5,114.75 555,114.75 555,96.75    550.5,96.75 555,96.75 555,78.75 546,78.75 555,78.75 555,60.75 550.5,60.75 555,60.75 555,42.75 550.5,42.75    555,42.75 555,33.75    \" style=\"stroke:#000000; stroke-width:1.05; stroke-opacity:1; fill:none\"/>\n",
       "<polyline clip-path=\"url(#clip4701)\" points=\"   75,33.75 75,33.75 75,42.75 75,33.75 99,33.75 99,38.25 99,33.75 123,33.75 123,38.25 123,33.75    147,33.75 147,38.25 147,33.75 171,33.75 171,38.25 171,33.75 195,33.75 195,42.75 195,33.75 219,33.75    219,38.25 219,33.75 243,33.75 243,38.25 243,33.75 267,33.75 267,38.25 267,33.75 291,33.75 291,38.25    291,33.75 315,33.75 315,42.75 315,33.75 339,33.75 339,38.25 339,33.75 363,33.75 363,38.25 363,33.75    387,33.75 387,38.25 387,33.75 411,33.75 411,38.25 411,33.75 435,33.75 435,42.75 435,33.75 459,33.75    459,38.25 459,33.75 483,33.75 483,38.25 483,33.75 507,33.75 507,38.25 507,33.75 531,33.75 531,38.25    531,33.75 555,33.75 555,42.75 555,33.75    \" style=\"stroke:#000000; stroke-width:1.05; stroke-opacity:1; fill:none\"/>\n",
       "<g clip-path=\"url(#clip4701)\">\n",
       "<text style=\"fill:#000000; fill-opacity:1; font-family:Arial,Helvetica Neue,Helvetica,sans-serif; font-size:15; text-anchor:start;\" transform=\"rotate(0, 297.649, 13.392)\" x=\"297.649\" y=\"13.392\">T = 0</text>\n",
       "</g>\n",
       "<polyline clip-path=\"url(#clip4700)\" points=\"   75.6,348.75 76.2,348.75 76.8,348.75 77.4,348.75 78,348.75 78.6,348.75 79.2,348.75 79.8,348.75 80.4,348.75 81,348.75    81.6,348.75 82.2,348.75 82.8,348.75 83.4,348.75 84,348.75 84.6,348.75 85.2,348.75 85.8,348.75 86.4,348.75 87,348.75    87.6,348.75 88.2,348.75 88.8,348.75 89.4,348.75 90,348.75 90.6,348.75 91.2,348.75 91.8,348.75 92.4,348.75 93,348.75    93.6,348.75 94.2,348.75 94.8,348.75 95.4,348.75 96,348.75 96.6,348.75 97.2,348.75 97.8,348.75 98.4,348.75 99,348.75    99.6,348.75 100.2,348.75 100.8,348.75 101.4,348.75 102,348.75 102.6,348.75 103.2,348.75 103.8,348.75 104.4,348.75 105,348.75    105.6,348.75 106.2,348.75 106.8,348.75 107.4,348.75 108,348.75 108.6,348.75 109.2,348.75 109.8,348.75 110.4,348.75 111,348.75    111.6,348.75 112.2,348.75 112.8,348.75 113.4,348.75 114,348.75 114.6,348.75 115.2,348.75 115.8,348.75 116.4,348.75 117,348.75    117.6,348.75 118.2,348.75 118.8,348.75 119.4,348.75 120,348.75 120.6,348.75 121.2,348.75 121.8,348.75 122.4,348.75 123,348.75    123.6,348.75 124.2,348.75 124.8,348.75 125.4,348.75 126,348.75 126.6,348.75 127.2,348.75 127.8,348.75 128.4,348.75 129,348.75    129.6,348.75 130.2,348.75 130.8,348.75 131.4,348.75 132,348.75 132.6,348.75 133.2,348.75 133.8,348.75 134.4,348.75 135,348.75    135.6,348.75 136.2,348.75 136.8,348.75 137.4,348.75 138,348.75 138.6,348.75 139.2,348.75 139.8,348.75 140.4,348.75 141,348.75    141.6,348.75 142.2,348.75 142.8,348.75 143.4,348.75 144,348.75 144.6,348.75 145.2,348.75 145.8,348.75 146.4,348.75 147,348.75    147.6,348.75 148.2,348.75 148.8,348.75 149.4,348.75 150,348.75 150.6,348.75 151.2,348.75 151.8,348.75 152.4,348.75 153,348.75    153.6,348.75 154.2,348.75 154.8,348.75 155.4,348.75 156,348.75 156.6,348.75 157.2,348.75 157.8,348.75 158.4,348.75 159,348.75    159.6,348.75 160.2,348.75 160.8,348.75 161.4,348.75 162,348.75 162.6,348.75 163.2,348.75 163.8,348.75 164.4,348.75 165,348.75    165.6,348.75 166.2,348.75 166.8,348.75 167.4,348.75 168,348.75 168.6,348.75 169.2,348.75 169.8,348.75 170.4,348.75 171,348.75    171.6,348.749 172.2,348.748 172.8,348.747 173.4,348.745 174,348.741 174.6,348.734 175.2,348.723 175.8,348.705 176.4,348.675 177,348.627    177.6,348.551 178.2,348.435 178.8,348.258 179.4,347.994 180,347.606 180.6,347.045 181.2,346.25 181.8,345.142 182.4,343.621 183,341.574    183.6,338.864 184.2,335.343 184.8,330.849 185.4,325.22 186,318.3 186.6,309.955 187.2,300.09 187.8,288.663 188.4,275.703 189,261.324    189.6,245.737 190.2,229.253 190.8,212.281 191.4,195.313 192,178.911 192.6,163.67 193.2,150.188 193.8,139.027 194.4,130.673 195,125.501    195.6,123.75 196.2,125.501 196.8,130.673 197.4,139.027 198,150.188 198.6,163.67 199.2,178.911 199.8,195.313 200.4,212.281 201,229.253    201.6,245.737 202.2,261.324 202.8,275.703 203.4,288.663 204,300.09 204.6,309.955 205.2,318.3 205.8,325.22 206.4,330.849 207,335.343    207.6,338.864 208.2,341.574 208.8,343.621 209.4,345.142 210,346.25 210.6,347.045 211.2,347.606 211.8,347.994 212.4,348.258 213,348.435    213.6,348.551 214.2,348.627 214.8,348.675 215.4,348.705 216,348.723 216.6,348.734 217.2,348.741 217.8,348.745 218.4,348.747 219,348.748    219.6,348.749 220.2,348.75 220.8,348.75 221.4,348.75 222,348.75 222.6,348.75 223.2,348.75 223.8,348.75 224.4,348.75 225,348.75    225.6,348.75 226.2,348.75 226.8,348.75 227.4,348.75 228,348.75 228.6,348.75 229.2,348.75 229.8,348.75 230.4,348.75 231,348.75    231.6,348.75 232.2,348.75 232.8,348.75 233.4,348.75 234,348.75 234.6,348.75 235.2,348.75 235.8,348.75 236.4,348.75 237,348.75    237.6,348.75 238.2,348.75 238.8,348.75 239.4,348.75 240,348.75 240.6,348.75 241.2,348.75 241.8,348.75 242.4,348.75 243,348.75    243.6,348.75 244.2,348.75 244.8,348.75 245.4,348.75 246,348.75 246.6,348.75 247.2,348.75 247.8,348.75 248.4,348.75 249,348.75    249.6,348.75 250.2,348.75 250.8,348.75 251.4,348.75 252,348.75 252.6,348.75 253.2,348.75 253.8,348.75 254.4,348.75 255,348.75    255.6,348.75 256.2,348.75 256.8,348.75 257.4,348.75 258,348.75 258.6,348.75 259.2,348.75 259.8,348.75 260.4,348.75 261,348.75    261.6,348.75 262.2,348.75 262.8,348.75 263.4,348.75 264,348.75 264.6,348.75 265.2,348.75 265.8,348.75 266.4,348.75 267,348.75    267.6,348.75 268.2,348.75 268.8,348.75 269.4,348.75 270,348.75 270.6,348.75 271.2,348.75 271.8,348.75 272.4,348.75 273,348.75    273.6,348.75 274.2,348.75 274.8,348.75 275.4,348.75 276,348.75 276.6,348.75 277.2,348.75 277.8,348.75 278.4,348.75 279,348.75    279.6,348.75 280.2,348.75 280.8,348.75 281.4,348.75 282,348.75 282.6,348.75 283.2,348.75 283.8,348.75 284.4,348.75 285,348.75    285.6,348.75 286.2,348.75 286.8,348.75 287.4,348.75 288,348.75 288.6,348.75 289.2,348.75 289.8,348.75 290.4,348.75 291,348.75    291.6,348.75 292.2,348.75 292.8,348.75 293.4,348.75 294,348.75 294.6,348.75 295.2,348.75 295.8,348.75 296.4,348.75 297,348.75    297.6,348.75 298.2,348.75 298.8,348.75 299.4,348.75 300,348.75 300.6,348.75 301.2,348.75 301.8,348.75 302.4,348.75 303,348.75    303.6,348.75 304.2,348.75 304.8,348.75 305.4,348.75 306,348.75 306.6,348.75 307.2,348.75 307.8,348.75 308.4,348.75 309,348.75    309.6,348.75 310.2,348.75 310.8,348.75 311.4,348.75 312,348.75 312.6,348.75 313.2,348.75 313.8,348.75 314.4,348.75 315,348.75    315.6,348.75 316.2,348.75 316.8,348.75 317.4,348.75 318,348.75 318.6,348.75 319.2,348.75 319.8,348.75 320.4,348.75 321,348.75    321.6,348.75 322.2,348.75 322.8,348.75 323.4,348.75 324,348.75 324.6,348.75 325.2,348.75 325.8,348.75 326.4,348.75 327,348.75    327.6,348.75 328.2,348.75 328.8,348.75 329.4,348.75 330,348.75 330.6,348.75 331.2,348.75 331.8,348.75 332.4,348.75 333,348.75    333.6,348.75 334.2,348.75 334.8,348.75 335.4,348.75 336,348.75 336.6,348.75 337.2,348.75 337.8,348.75 338.4,348.75 339,348.75    339.6,348.75 340.2,348.75 340.8,348.75 341.4,348.75 342,348.75 342.6,348.75 343.2,348.75 343.8,348.75 344.4,348.75 345,348.75    345.6,348.75 346.2,348.75 346.8,348.75 347.4,348.75 348,348.75 348.6,348.75 349.2,348.75 349.8,348.75 350.4,348.75 351,348.75    351.6,348.75 352.2,348.75 352.8,348.75 353.4,348.75 354,348.75 354.6,348.75 355.2,348.75 355.8,348.75 356.4,348.75 357,348.75    357.6,348.75 358.2,348.75 358.8,348.75 359.4,348.75 360,348.75 360.6,348.75 361.2,348.75 361.8,348.75 362.4,348.75 363,348.75    363.6,348.75 364.2,348.75 364.8,348.75 365.4,348.75 366,348.75 366.6,348.75 367.2,348.75 367.8,348.75 368.4,348.75 369,348.75    369.6,348.75 370.2,348.75 370.8,348.75 371.4,348.75 372,348.75 372.6,348.75 373.2,348.75 373.8,348.75 374.4,348.75 375,348.75    375.6,348.75 376.2,348.75 376.8,348.75 377.4,348.75 378,348.75 378.6,348.75 379.2,348.75 379.8,348.75 380.4,348.75 381,348.75    381.6,348.75 382.2,348.75 382.8,348.75 383.4,348.75 384,348.75 384.6,348.75 385.2,348.75 385.8,348.75 386.4,348.75 387,348.75    387.6,348.75 388.2,348.75 388.8,348.75 389.4,348.75 390,348.75 390.6,348.75 391.2,348.75 391.8,348.75 392.4,348.75 393,348.75    393.6,348.75 394.2,348.75 394.8,348.75 395.4,348.75 396,348.75 396.6,348.75 397.2,348.75 397.8,348.75 398.4,348.75 399,348.75    399.6,348.75 400.2,348.75 400.8,348.75 401.4,348.75 402,348.75 402.6,348.75 403.2,348.75 403.8,348.75 404.4,348.75 405,348.75    405.6,348.75 406.2,348.75 406.8,348.75 407.4,348.75 408,348.75 408.6,348.75 409.2,348.75 409.8,348.75 410.4,348.75 411,348.75    411.6,348.75 412.2,348.75 412.8,348.75 413.4,348.75 414,348.75 414.6,348.75 415.2,348.75 415.8,348.75 416.4,348.75 417,348.75    417.6,348.75 418.2,348.75 418.8,348.75 419.4,348.75 420,348.75 420.6,348.75 421.2,348.75 421.8,348.75 422.4,348.75 423,348.75    423.6,348.75 424.2,348.75 424.8,348.75 425.4,348.75 426,348.75 426.6,348.75 427.2,348.75 427.8,348.75 428.4,348.75 429,348.75    429.6,348.75 430.2,348.75 430.8,348.75 431.4,348.75 432,348.75 432.6,348.75 433.2,348.75 433.8,348.75 434.4,348.75 435,348.75    435.6,348.75 436.2,348.75 436.8,348.75 437.4,348.75 438,348.75 438.6,348.75 439.2,348.75 439.8,348.75 440.4,348.75 441,348.75    441.6,348.75 442.2,348.75 442.8,348.75 443.4,348.75 444,348.75 444.6,348.75 445.2,348.75 445.8,348.75 446.4,348.75 447,348.75    447.6,348.75 448.2,348.75 448.8,348.75 449.4,348.75 450,348.75 450.6,348.75 451.2,348.75 451.8,348.75 452.4,348.75 453,348.75    453.6,348.75 454.2,348.75 454.8,348.75 455.4,348.75 456,348.75 456.6,348.75 457.2,348.75 457.8,348.75 458.4,348.75 459,348.75    459.6,348.75 460.2,348.75 460.8,348.75 461.4,348.75 462,348.75 462.6,348.75 463.2,348.75 463.8,348.75 464.4,348.75 465,348.75    465.6,348.75 466.2,348.75 466.8,348.75 467.4,348.75 468,348.75 468.6,348.75 469.2,348.75 469.8,348.75 470.4,348.75 471,348.75    471.6,348.75 472.2,348.75 472.8,348.75 473.4,348.75 474,348.75 474.6,348.75 475.2,348.75 475.8,348.75 476.4,348.75 477,348.75    477.6,348.75 478.2,348.75 478.8,348.75 479.4,348.75 480,348.75 480.6,348.75 481.2,348.75 481.8,348.75 482.4,348.75 483,348.75    483.6,348.75 484.2,348.75 484.8,348.75 485.4,348.75 486,348.75 486.6,348.75 487.2,348.75 487.8,348.75 488.4,348.75 489,348.75    489.6,348.75 490.2,348.75 490.8,348.75 491.4,348.75 492,348.75 492.6,348.75 493.2,348.75 493.8,348.75 494.4,348.75 495,348.75    495.6,348.75 496.2,348.75 496.8,348.75 497.4,348.75 498,348.75 498.6,348.75 499.2,348.75 499.8,348.75 500.4,348.75 501,348.75    501.6,348.75 502.2,348.75 502.8,348.75 503.4,348.75 504,348.75 504.6,348.75 505.2,348.75 505.8,348.75 506.4,348.75 507,348.75    507.6,348.75 508.2,348.75 508.8,348.75 509.4,348.75 510,348.75 510.6,348.75 511.2,348.75 511.8,348.75 512.4,348.75 513,348.75    513.6,348.75 514.2,348.75 514.8,348.75 515.4,348.75 516,348.75 516.6,348.75 517.2,348.75 517.8,348.75 518.4,348.75 519,348.75    519.6,348.75 520.2,348.75 520.8,348.75 521.4,348.75 522,348.75 522.6,348.75 523.2,348.75 523.8,348.75 524.4,348.75 525,348.75    525.6,348.75 526.2,348.75 526.8,348.75 527.4,348.75 528,348.75 528.6,348.75 529.2,348.75 529.8,348.75 530.4,348.75 531,348.75    531.6,348.75 532.2,348.75 532.8,348.75 533.4,348.75 534,348.75 534.6,348.75 535.2,348.75 535.8,348.75 536.4,348.75 537,348.75    537.6,348.75 538.2,348.75 538.8,348.75 539.4,348.75 540,348.75 540.6,348.75 541.2,348.75 541.8,348.75 542.4,348.75 543,348.75    543.6,348.75 544.2,348.75 544.8,348.75 545.4,348.75 546,348.75 546.6,348.75 547.2,348.75 547.8,348.75 548.4,348.75 549,348.75    549.6,348.75 550.2,348.75 550.8,348.75 551.4,348.75 552,348.75 552.6,348.75 553.2,348.75 553.8,348.75 554.4,348.75 555,348.75       \" style=\"stroke:#00528a; stroke-width:1.05; stroke-opacity:1; fill:none\"/>\n",
       "</svg>"
      ],
      "text/plain": [
       "<IPython.core.display.SVG object>"
      ]
     },
     "metadata": {},
     "output_type": "display_data"
    }
   ],
   "source": [
    "plot(solver.rho,0)"
   ]
  },
  {
   "cell_type": "markdown",
   "metadata": {},
   "source": [
    "## Time stepping\n",
    "\n",
    "**Simulation Algorithm**:\n",
    " 1. `stream`: Streaming / advection step: $f'_i(x) \\leftarrow f^n_i(x-c_i)$\n",
    " 2. `correct_macroscopic`: Correct the macroscopic parameters: ${\\rho',u_x',u_y',P'} = f(f',c)$\n",
    " 3. `correct_feq`: Correct the equilbirum population: $f_{eq}' = f(\\rho',u_x',u_y',P')$\n",
    " 4. `relax`: Relaxation / collision step: $f^{n+1}_i(x) \\leftarrow f'_i  + \\alpha\\beta \\left[f'^{eq}_i(x,t) - f'_i(x,t)\\right]$\n",
    "\n",
    "$x=y$"
   ]
  },
  {
   "cell_type": "code",
   "execution_count": 15,
   "metadata": {},
   "outputs": [
    {
     "data": {
      "image/svg+xml": [
       "<svg height=\"450\" viewBox=\"0 0 600 450\" width=\"600\" xmlns=\"http://www.w3.org/2000/svg\" xmlns:xlink=\"http://www.w3.org/1999/xlink\">\n",
       "<defs>\n",
       "  <clipPath id=\"clip4700\">\n",
       "    <rect height=\"361\" width=\"481\" x=\"75\" y=\"33\"/>\n",
       "  </clipPath>\n",
       "</defs>\n",
       "<defs>\n",
       "  <clipPath id=\"clip4701\">\n",
       "    <rect height=\"450\" width=\"600\" x=\"0\" y=\"0\"/>\n",
       "  </clipPath>\n",
       "</defs>\n",
       "<polyline clip-path=\"url(#clip4701)\" points=\"   75,384.75 555,384.75    \" style=\"stroke:#ededed; stroke-width:1.05; stroke-opacity:1; fill:none\"/>\n",
       "<polyline clip-path=\"url(#clip4701)\" points=\"   75,366.75 555,366.75    \" style=\"stroke:#ededed; stroke-width:1.05; stroke-opacity:1; fill:none\"/>\n",
       "<polyline clip-path=\"url(#clip4701)\" points=\"   75,348.75 555,348.75    \" style=\"stroke:#cccccc; stroke-width:1.05; stroke-opacity:1; fill:none\"/>\n",
       "<polyline clip-path=\"url(#clip4701)\" points=\"   75,330.75 555,330.75    \" style=\"stroke:#ededed; stroke-width:1.05; stroke-opacity:1; fill:none\"/>\n",
       "<polyline clip-path=\"url(#clip4701)\" points=\"   75,312.75 555,312.75    \" style=\"stroke:#ededed; stroke-width:1.05; stroke-opacity:1; fill:none\"/>\n",
       "<polyline clip-path=\"url(#clip4701)\" points=\"   75,294.75 555,294.75    \" style=\"stroke:#ededed; stroke-width:1.05; stroke-opacity:1; fill:none\"/>\n",
       "<polyline clip-path=\"url(#clip4701)\" points=\"   75,276.75 555,276.75    \" style=\"stroke:#ededed; stroke-width:1.05; stroke-opacity:1; fill:none\"/>\n",
       "<polyline clip-path=\"url(#clip4701)\" points=\"   75,258.75 555,258.75    \" style=\"stroke:#cccccc; stroke-width:1.05; stroke-opacity:1; fill:none\"/>\n",
       "<polyline clip-path=\"url(#clip4701)\" points=\"   75,240.75 555,240.75    \" style=\"stroke:#ededed; stroke-width:1.05; stroke-opacity:1; fill:none\"/>\n",
       "<polyline clip-path=\"url(#clip4701)\" points=\"   75,222.75 555,222.75    \" style=\"stroke:#ededed; stroke-width:1.05; stroke-opacity:1; fill:none\"/>\n",
       "<polyline clip-path=\"url(#clip4701)\" points=\"   75,204.75 555,204.75    \" style=\"stroke:#ededed; stroke-width:1.05; stroke-opacity:1; fill:none\"/>\n",
       "<polyline clip-path=\"url(#clip4701)\" points=\"   75,186.75 555,186.75    \" style=\"stroke:#ededed; stroke-width:1.05; stroke-opacity:1; fill:none\"/>\n",
       "<polyline clip-path=\"url(#clip4701)\" points=\"   75,168.75 555,168.75    \" style=\"stroke:#cccccc; stroke-width:1.05; stroke-opacity:1; fill:none\"/>\n",
       "<polyline clip-path=\"url(#clip4701)\" points=\"   75,150.75 555,150.75    \" style=\"stroke:#ededed; stroke-width:1.05; stroke-opacity:1; fill:none\"/>\n",
       "<polyline clip-path=\"url(#clip4701)\" points=\"   75,132.75 555,132.75    \" style=\"stroke:#ededed; stroke-width:1.05; stroke-opacity:1; fill:none\"/>\n",
       "<polyline clip-path=\"url(#clip4701)\" points=\"   75,114.75 555,114.75    \" style=\"stroke:#ededed; stroke-width:1.05; stroke-opacity:1; fill:none\"/>\n",
       "<polyline clip-path=\"url(#clip4701)\" points=\"   75,96.75 555,96.75    \" style=\"stroke:#ededed; stroke-width:1.05; stroke-opacity:1; fill:none\"/>\n",
       "<polyline clip-path=\"url(#clip4701)\" points=\"   75,78.75 555,78.75    \" style=\"stroke:#cccccc; stroke-width:1.05; stroke-opacity:1; fill:none\"/>\n",
       "<polyline clip-path=\"url(#clip4701)\" points=\"   75,60.75 555,60.75    \" style=\"stroke:#ededed; stroke-width:1.05; stroke-opacity:1; fill:none\"/>\n",
       "<polyline clip-path=\"url(#clip4701)\" points=\"   75,42.75 555,42.75    \" style=\"stroke:#ededed; stroke-width:1.05; stroke-opacity:1; fill:none\"/>\n",
       "<polyline clip-path=\"url(#clip4701)\" points=\"   99,393.75 99,33.75    \" style=\"stroke:#ededed; stroke-width:1.05; stroke-opacity:1; fill:none\"/>\n",
       "<polyline clip-path=\"url(#clip4701)\" points=\"   123,393.75 123,33.75    \" style=\"stroke:#ededed; stroke-width:1.05; stroke-opacity:1; fill:none\"/>\n",
       "<polyline clip-path=\"url(#clip4701)\" points=\"   147,393.75 147,33.75    \" style=\"stroke:#ededed; stroke-width:1.05; stroke-opacity:1; fill:none\"/>\n",
       "<polyline clip-path=\"url(#clip4701)\" points=\"   171,393.75 171,33.75    \" style=\"stroke:#ededed; stroke-width:1.05; stroke-opacity:1; fill:none\"/>\n",
       "<polyline clip-path=\"url(#clip4701)\" points=\"   195,393.75 195,33.75    \" style=\"stroke:#cccccc; stroke-width:1.05; stroke-opacity:1; fill:none\"/>\n",
       "<polyline clip-path=\"url(#clip4701)\" points=\"   219,393.75 219,33.75    \" style=\"stroke:#ededed; stroke-width:1.05; stroke-opacity:1; fill:none\"/>\n",
       "<polyline clip-path=\"url(#clip4701)\" points=\"   243,393.75 243,33.75    \" style=\"stroke:#ededed; stroke-width:1.05; stroke-opacity:1; fill:none\"/>\n",
       "<polyline clip-path=\"url(#clip4701)\" points=\"   267,393.75 267,33.75    \" style=\"stroke:#ededed; stroke-width:1.05; stroke-opacity:1; fill:none\"/>\n",
       "<polyline clip-path=\"url(#clip4701)\" points=\"   291,393.75 291,33.75    \" style=\"stroke:#ededed; stroke-width:1.05; stroke-opacity:1; fill:none\"/>\n",
       "<polyline clip-path=\"url(#clip4701)\" points=\"   315,393.75 315,33.75    \" style=\"stroke:#cccccc; stroke-width:1.05; stroke-opacity:1; fill:none\"/>\n",
       "<polyline clip-path=\"url(#clip4701)\" points=\"   339,393.75 339,33.75    \" style=\"stroke:#ededed; stroke-width:1.05; stroke-opacity:1; fill:none\"/>\n",
       "<polyline clip-path=\"url(#clip4701)\" points=\"   363,393.75 363,33.75    \" style=\"stroke:#ededed; stroke-width:1.05; stroke-opacity:1; fill:none\"/>\n",
       "<polyline clip-path=\"url(#clip4701)\" points=\"   387,393.75 387,33.75    \" style=\"stroke:#ededed; stroke-width:1.05; stroke-opacity:1; fill:none\"/>\n",
       "<polyline clip-path=\"url(#clip4701)\" points=\"   411,393.75 411,33.75    \" style=\"stroke:#ededed; stroke-width:1.05; stroke-opacity:1; fill:none\"/>\n",
       "<polyline clip-path=\"url(#clip4701)\" points=\"   435,393.75 435,33.75    \" style=\"stroke:#cccccc; stroke-width:1.05; stroke-opacity:1; fill:none\"/>\n",
       "<polyline clip-path=\"url(#clip4701)\" points=\"   459,393.75 459,33.75    \" style=\"stroke:#ededed; stroke-width:1.05; stroke-opacity:1; fill:none\"/>\n",
       "<polyline clip-path=\"url(#clip4701)\" points=\"   483,393.75 483,33.75    \" style=\"stroke:#ededed; stroke-width:1.05; stroke-opacity:1; fill:none\"/>\n",
       "<polyline clip-path=\"url(#clip4701)\" points=\"   507,393.75 507,33.75    \" style=\"stroke:#ededed; stroke-width:1.05; stroke-opacity:1; fill:none\"/>\n",
       "<polyline clip-path=\"url(#clip4701)\" points=\"   531,393.75 531,33.75    \" style=\"stroke:#ededed; stroke-width:1.05; stroke-opacity:1; fill:none\"/>\n",
       "<polyline clip-path=\"url(#clip4701)\" points=\"   555,393.75 555,33.75    \" style=\"stroke:#cccccc; stroke-width:1.05; stroke-opacity:1; fill:none\"/>\n",
       "<g clip-path=\"url(#clip4701)\">\n",
       "<text style=\"fill:#000000; fill-opacity:1; font-family:Arial,Helvetica Neue,Helvetica,sans-serif; font-size:15; text-anchor:start;\" transform=\"rotate(0, 49.5919, 353.016)\" x=\"49.5919\" y=\"353.016\">1.0</text>\n",
       "</g>\n",
       "<g clip-path=\"url(#clip4701)\">\n",
       "<text style=\"fill:#000000; fill-opacity:1; font-family:Arial,Helvetica Neue,Helvetica,sans-serif; font-size:15; text-anchor:start;\" transform=\"rotate(0, 49.5919, 263.016)\" x=\"49.5919\" y=\"263.016\">1.2</text>\n",
       "</g>\n",
       "<g clip-path=\"url(#clip4701)\">\n",
       "<text style=\"fill:#000000; fill-opacity:1; font-family:Arial,Helvetica Neue,Helvetica,sans-serif; font-size:15; text-anchor:start;\" transform=\"rotate(0, 49.5919, 173.016)\" x=\"49.5919\" y=\"173.016\">1.4</text>\n",
       "</g>\n",
       "<g clip-path=\"url(#clip4701)\">\n",
       "<text style=\"fill:#000000; fill-opacity:1; font-family:Arial,Helvetica Neue,Helvetica,sans-serif; font-size:15; text-anchor:start;\" transform=\"rotate(0, 49.5919, 83.016)\" x=\"49.5919\" y=\"83.016\">1.6</text>\n",
       "</g>\n",
       "<polyline clip-path=\"url(#clip4701)\" points=\"   75,393.75 75,384.75 79.5,384.75 75,384.75 75,366.75 79.5,366.75 75,366.75 75,348.75 84,348.75 75,348.75    75,330.75 79.5,330.75 75,330.75 75,312.75 79.5,312.75 75,312.75 75,294.75 79.5,294.75 75,294.75 75,276.75    79.5,276.75 75,276.75 75,258.75 84,258.75 75,258.75 75,240.75 79.5,240.75 75,240.75 75,222.75 79.5,222.75    75,222.75 75,204.75 79.5,204.75 75,204.75 75,186.75 79.5,186.75 75,186.75 75,168.75 84,168.75 75,168.75    75,150.75 79.5,150.75 75,150.75 75,132.75 79.5,132.75 75,132.75 75,114.75 79.5,114.75 75,114.75 75,96.75    79.5,96.75 75,96.75 75,78.75 84,78.75 75,78.75 75,60.75 79.5,60.75 75,60.75 75,42.75 79.5,42.75    75,42.75 75,33.75    \" style=\"stroke:#000000; stroke-width:1.05; stroke-opacity:1; fill:none\"/>\n",
       "<g clip-path=\"url(#clip4701)\">\n",
       "<text style=\"fill:#000000; fill-opacity:1; font-family:Arial,Helvetica Neue,Helvetica,sans-serif; font-size:15; text-anchor:start;\" transform=\"rotate(0, 70.8184, 411.642)\" x=\"70.8184\" y=\"411.642\">0</text>\n",
       "</g>\n",
       "<g clip-path=\"url(#clip4701)\">\n",
       "<text style=\"fill:#000000; fill-opacity:1; font-family:Arial,Helvetica Neue,Helvetica,sans-serif; font-size:15; text-anchor:start;\" transform=\"rotate(0, 182.455, 411.642)\" x=\"182.455\" y=\"411.642\">200</text>\n",
       "</g>\n",
       "<g clip-path=\"url(#clip4701)\">\n",
       "<text style=\"fill:#000000; fill-opacity:1; font-family:Arial,Helvetica Neue,Helvetica,sans-serif; font-size:15; text-anchor:start;\" transform=\"rotate(0, 302.455, 411.642)\" x=\"302.455\" y=\"411.642\">400</text>\n",
       "</g>\n",
       "<g clip-path=\"url(#clip4701)\">\n",
       "<text style=\"fill:#000000; fill-opacity:1; font-family:Arial,Helvetica Neue,Helvetica,sans-serif; font-size:15; text-anchor:start;\" transform=\"rotate(0, 422.455, 411.642)\" x=\"422.455\" y=\"411.642\">600</text>\n",
       "</g>\n",
       "<g clip-path=\"url(#clip4701)\">\n",
       "<text style=\"fill:#000000; fill-opacity:1; font-family:Arial,Helvetica Neue,Helvetica,sans-serif; font-size:15; text-anchor:start;\" transform=\"rotate(0, 542.455, 411.642)\" x=\"542.455\" y=\"411.642\">800</text>\n",
       "</g>\n",
       "<polyline clip-path=\"url(#clip4701)\" points=\"   75,393.75 75,393.75 75,384.75 75,393.75 99,393.75 99,389.25 99,393.75 123,393.75 123,389.25 123,393.75    147,393.75 147,389.25 147,393.75 171,393.75 171,389.25 171,393.75 195,393.75 195,384.75 195,393.75 219,393.75    219,389.25 219,393.75 243,393.75 243,389.25 243,393.75 267,393.75 267,389.25 267,393.75 291,393.75 291,389.25    291,393.75 315,393.75 315,384.75 315,393.75 339,393.75 339,389.25 339,393.75 363,393.75 363,389.25 363,393.75    387,393.75 387,389.25 387,393.75 411,393.75 411,389.25 411,393.75 435,393.75 435,384.75 435,393.75 459,393.75    459,389.25 459,393.75 483,393.75 483,389.25 483,393.75 507,393.75 507,389.25 507,393.75 531,393.75 531,389.25    531,393.75 555,393.75 555,384.75 555,393.75    \" style=\"stroke:#000000; stroke-width:1.05; stroke-opacity:1; fill:none\"/>\n",
       "<polyline clip-path=\"url(#clip4701)\" points=\"   555,393.75 555,384.75 550.5,384.75 555,384.75 555,366.75 550.5,366.75 555,366.75 555,348.75 546,348.75 555,348.75    555,330.75 550.5,330.75 555,330.75 555,312.75 550.5,312.75 555,312.75 555,294.75 550.5,294.75 555,294.75 555,276.75    550.5,276.75 555,276.75 555,258.75 546,258.75 555,258.75 555,240.75 550.5,240.75 555,240.75 555,222.75 550.5,222.75    555,222.75 555,204.75 550.5,204.75 555,204.75 555,186.75 550.5,186.75 555,186.75 555,168.75 546,168.75 555,168.75    555,150.75 550.5,150.75 555,150.75 555,132.75 550.5,132.75 555,132.75 555,114.75 550.5,114.75 555,114.75 555,96.75    550.5,96.75 555,96.75 555,78.75 546,78.75 555,78.75 555,60.75 550.5,60.75 555,60.75 555,42.75 550.5,42.75    555,42.75 555,33.75    \" style=\"stroke:#000000; stroke-width:1.05; stroke-opacity:1; fill:none\"/>\n",
       "<polyline clip-path=\"url(#clip4701)\" points=\"   75,33.75 75,33.75 75,42.75 75,33.75 99,33.75 99,38.25 99,33.75 123,33.75 123,38.25 123,33.75    147,33.75 147,38.25 147,33.75 171,33.75 171,38.25 171,33.75 195,33.75 195,42.75 195,33.75 219,33.75    219,38.25 219,33.75 243,33.75 243,38.25 243,33.75 267,33.75 267,38.25 267,33.75 291,33.75 291,38.25    291,33.75 315,33.75 315,42.75 315,33.75 339,33.75 339,38.25 339,33.75 363,33.75 363,38.25 363,33.75    387,33.75 387,38.25 387,33.75 411,33.75 411,38.25 411,33.75 435,33.75 435,42.75 435,33.75 459,33.75    459,38.25 459,33.75 483,33.75 483,38.25 483,33.75 507,33.75 507,38.25 507,33.75 531,33.75 531,38.25    531,33.75 555,33.75 555,42.75 555,33.75    \" style=\"stroke:#000000; stroke-width:1.05; stroke-opacity:1; fill:none\"/>\n",
       "<g clip-path=\"url(#clip4701)\">\n",
       "<text style=\"fill:#000000; fill-opacity:1; font-family:Arial,Helvetica Neue,Helvetica,sans-serif; font-size:15; text-anchor:start;\" transform=\"rotate(0, 285.104, 13.392)\" x=\"285.104\" y=\"13.392\">T = 3990</text>\n",
       "</g>\n",
       "<polyline clip-path=\"url(#clip4700)\" points=\"   75.6,348.751 76.2,348.751 76.8,348.751 77.4,348.751 78,348.752 78.6,348.752 79.2,348.751 79.8,348.749 80.4,348.747 81,348.744    81.6,348.741 82.2,348.739 82.8,348.739 83.4,348.74 84,348.745 84.6,348.752 85.2,348.763 85.8,348.777 86.4,348.794 87,348.811    87.6,348.828 88.2,348.844 88.8,348.856 89.4,348.862 90,348.863 90.6,348.857 91.2,348.844 91.8,348.824 92.4,348.799 93,348.769    93.6,348.737 94.2,348.705 94.8,348.674 95.4,348.646 96,348.623 96.6,348.605 97.2,348.595 97.8,348.591 98.4,348.593 99,348.602    99.6,348.615 100.2,348.633 100.8,348.653 101.4,348.674 102,348.696 102.6,348.718 103.2,348.737 103.8,348.755 104.4,348.77 105,348.782    105.6,348.791 106.2,348.798 106.8,348.801 107.4,348.803 108,348.803 108.6,348.801 109.2,348.798 109.8,348.795 110.4,348.791 111,348.786    111.6,348.782 112.2,348.778 112.8,348.774 113.4,348.77 114,348.767 114.6,348.764 115.2,348.761 115.8,348.759 116.4,348.757 117,348.756    117.6,348.754 118.2,348.753 118.8,348.753 119.4,348.752 120,348.752 120.6,348.751 121.2,348.751 121.8,348.751 122.4,348.75 123,348.75    123.6,348.75 124.2,348.75 124.8,348.75 125.4,348.75 126,348.75 126.6,348.75 127.2,348.75 127.8,348.75 128.4,348.75 129,348.75    129.6,348.75 130.2,348.75 130.8,348.75 131.4,348.75 132,348.75 132.6,348.75 133.2,348.75 133.8,348.75 134.4,348.75 135,348.75    135.6,348.75 136.2,348.75 136.8,348.75 137.4,348.75 138,348.75 138.6,348.75 139.2,348.75 139.8,348.75 140.4,348.75 141,348.75    141.6,348.75 142.2,348.75 142.8,348.75 143.4,348.75 144,348.75 144.6,348.75 145.2,348.75 145.8,348.75 146.4,348.75 147,348.75    147.6,348.75 148.2,348.75 148.8,348.75 149.4,348.75 150,348.75 150.6,348.75 151.2,348.75 151.8,348.75 152.4,348.75 153,348.75    153.6,348.75 154.2,348.75 154.8,348.75 155.4,348.75 156,348.75 156.6,348.75 157.2,348.75 157.8,348.75 158.4,348.75 159,348.75    159.6,348.75 160.2,348.75 160.8,348.75 161.4,348.75 162,348.75 162.6,348.75 163.2,348.75 163.8,348.75 164.4,348.75 165,348.75    165.6,348.75 166.2,348.75 166.8,348.75 167.4,348.75 168,348.75 168.6,348.75 169.2,348.75 169.8,348.75 170.4,348.75 171,348.75    171.6,348.75 172.2,348.75 172.8,348.75 173.4,348.75 174,348.75 174.6,348.75 175.2,348.75 175.8,348.75 176.4,348.75 177,348.75    177.6,348.75 178.2,348.75 178.8,348.75 179.4,348.75 180,348.75 180.6,348.75 181.2,348.75 181.8,348.75 182.4,348.75 183,348.75    183.6,348.75 184.2,348.75 184.8,348.75 185.4,348.75 186,348.75 186.6,348.75 187.2,348.75 187.8,348.75 188.4,348.75 189,348.75    189.6,348.75 190.2,348.75 190.8,348.75 191.4,348.75 192,348.75 192.6,348.75 193.2,348.75 193.8,348.75 194.4,348.75 195,348.75    195.6,348.75 196.2,348.75 196.8,348.75 197.4,348.75 198,348.75 198.6,348.75 199.2,348.75 199.8,348.75 200.4,348.75 201,348.75    201.6,348.75 202.2,348.75 202.8,348.75 203.4,348.75 204,348.75 204.6,348.75 205.2,348.75 205.8,348.75 206.4,348.75 207,348.75    207.6,348.75 208.2,348.75 208.8,348.75 209.4,348.75 210,348.75 210.6,348.75 211.2,348.75 211.8,348.75 212.4,348.75 213,348.75    213.6,348.75 214.2,348.75 214.8,348.75 215.4,348.75 216,348.75 216.6,348.75 217.2,348.75 217.8,348.75 218.4,348.75 219,348.75    219.6,348.75 220.2,348.75 220.8,348.75 221.4,348.75 222,348.75 222.6,348.75 223.2,348.75 223.8,348.75 224.4,348.75 225,348.75    225.6,348.75 226.2,348.75 226.8,348.75 227.4,348.75 228,348.75 228.6,348.75 229.2,348.75 229.8,348.75 230.4,348.75 231,348.75    231.6,348.75 232.2,348.75 232.8,348.75 233.4,348.75 234,348.75 234.6,348.75 235.2,348.75 235.8,348.75 236.4,348.75 237,348.75    237.6,348.75 238.2,348.75 238.8,348.75 239.4,348.75 240,348.75 240.6,348.75 241.2,348.75 241.8,348.75 242.4,348.75 243,348.75    243.6,348.75 244.2,348.75 244.8,348.75 245.4,348.75 246,348.75 246.6,348.75 247.2,348.75 247.8,348.75 248.4,348.75 249,348.75    249.6,348.75 250.2,348.75 250.8,348.75 251.4,348.75 252,348.75 252.6,348.75 253.2,348.75 253.8,348.75 254.4,348.75 255,348.75    255.6,348.75 256.2,348.75 256.8,348.75 257.4,348.75 258,348.75 258.6,348.75 259.2,348.75 259.8,348.75 260.4,348.75 261,348.75    261.6,348.75 262.2,348.75 262.8,348.75 263.4,348.75 264,348.75 264.6,348.75 265.2,348.75 265.8,348.75 266.4,348.75 267,348.75    267.6,348.75 268.2,348.75 268.8,348.75 269.4,348.75 270,348.75 270.6,348.75 271.2,348.75 271.8,348.75 272.4,348.75 273,348.75    273.6,348.75 274.2,348.75 274.8,348.75 275.4,348.75 276,348.75 276.6,348.75 277.2,348.75 277.8,348.75 278.4,348.75 279,348.75    279.6,348.75 280.2,348.75 280.8,348.75 281.4,348.75 282,348.75 282.6,348.75 283.2,348.75 283.8,348.75 284.4,348.75 285,348.75    285.6,348.75 286.2,348.75 286.8,348.75 287.4,348.75 288,348.75 288.6,348.75 289.2,348.75 289.8,348.75 290.4,348.75 291,348.75    291.6,348.75 292.2,348.75 292.8,348.75 293.4,348.75 294,348.75 294.6,348.75 295.2,348.75 295.8,348.75 296.4,348.75 297,348.75    297.6,348.75 298.2,348.75 298.8,348.75 299.4,348.75 300,348.75 300.6,348.75 301.2,348.75 301.8,348.75 302.4,348.75 303,348.75    303.6,348.75 304.2,348.75 304.8,348.75 305.4,348.75 306,348.75 306.6,348.75 307.2,348.75 307.8,348.75 308.4,348.75 309,348.75    309.6,348.75 310.2,348.75 310.8,348.75 311.4,348.75 312,348.75 312.6,348.75 313.2,348.75 313.8,348.75 314.4,348.75 315,348.75    315.6,348.75 316.2,348.75 316.8,348.75 317.4,348.75 318,348.75 318.6,348.75 319.2,348.75 319.8,348.75 320.4,348.75 321,348.75    321.6,348.75 322.2,348.75 322.8,348.75 323.4,348.75 324,348.75 324.6,348.75 325.2,348.75 325.8,348.75 326.4,348.75 327,348.75    327.6,348.75 328.2,348.75 328.8,348.75 329.4,348.75 330,348.75 330.6,348.75 331.2,348.75 331.8,348.75 332.4,348.75 333,348.75    333.6,348.75 334.2,348.75 334.8,348.75 335.4,348.75 336,348.75 336.6,348.75 337.2,348.75 337.8,348.75 338.4,348.75 339,348.75    339.6,348.75 340.2,348.75 340.8,348.75 341.4,348.75 342,348.75 342.6,348.75 343.2,348.75 343.8,348.75 344.4,348.75 345,348.75    345.6,348.75 346.2,348.75 346.8,348.75 347.4,348.75 348,348.75 348.6,348.75 349.2,348.75 349.8,348.75 350.4,348.75 351,348.75    351.6,348.75 352.2,348.75 352.8,348.75 353.4,348.75 354,348.75 354.6,348.75 355.2,348.75 355.8,348.75 356.4,348.75 357,348.75    357.6,348.75 358.2,348.75 358.8,348.75 359.4,348.75 360,348.75 360.6,348.75 361.2,348.75 361.8,348.75 362.4,348.75 363,348.75    363.6,348.75 364.2,348.75 364.8,348.75 365.4,348.75 366,348.75 366.6,348.75 367.2,348.75 367.8,348.75 368.4,348.75 369,348.75    369.6,348.75 370.2,348.75 370.8,348.75 371.4,348.75 372,348.75 372.6,348.75 373.2,348.75 373.8,348.75 374.4,348.75 375,348.75    375.6,348.75 376.2,348.75 376.8,348.75 377.4,348.75 378,348.75 378.6,348.75 379.2,348.75 379.8,348.75 380.4,348.75 381,348.75    381.6,348.75 382.2,348.75 382.8,348.75 383.4,348.75 384,348.75 384.6,348.75 385.2,348.75 385.8,348.75 386.4,348.75 387,348.75    387.6,348.75 388.2,348.75 388.8,348.75 389.4,348.75 390,348.75 390.6,348.75 391.2,348.75 391.8,348.75 392.4,348.75 393,348.75    393.6,348.75 394.2,348.75 394.8,348.75 395.4,348.75 396,348.75 396.6,348.75 397.2,348.75 397.8,348.75 398.4,348.75 399,348.75    399.6,348.75 400.2,348.75 400.8,348.75 401.4,348.75 402,348.75 402.6,348.75 403.2,348.75 403.8,348.75 404.4,348.75 405,348.75    405.6,348.75 406.2,348.75 406.8,348.75 407.4,348.75 408,348.75 408.6,348.75 409.2,348.75 409.8,348.75 410.4,348.75 411,348.749    411.6,348.748 412.2,348.747 412.8,348.745 413.4,348.741 414,348.734 414.6,348.722 415.2,348.704 415.8,348.673 416.4,348.625 417,348.55    417.6,348.433 418.2,348.256 418.8,347.992 419.4,347.604 420,347.045 420.6,346.25 421.2,345.142 421.8,343.622 422.4,341.573 423,338.861    423.6,335.335 424.2,330.833 424.8,325.192 425.4,318.255 426,309.888 426.6,299.997 427.2,288.54 427.8,275.548 428.4,261.139 429,245.527    429.6,229.028 430.2,212.053 430.8,195.099 431.4,178.73 432,163.541 432.6,150.129 433.2,139.052 433.8,130.79 434.4,125.711 435,124.047    435.6,125.87 436.2,131.094 436.8,139.476 437.4,150.637 438,164.093 438.6,179.284 439.2,195.618 439.8,212.505 440.4,229.392 441,245.793    441.6,261.303 442.2,275.618 442.8,288.528 443.4,299.921 444,309.767 444.6,318.107 445.2,325.033 445.8,330.676 446.4,335.189 447,338.732    447.6,341.464 448.2,343.534 448.8,345.073 449.4,346.199 450,347.008 450.6,347.579 451.2,347.975 451.8,348.245 452.4,348.426 453,348.546    453.6,348.623 454.2,348.673 454.8,348.704 455.4,348.723 456,348.734 456.6,348.741 457.2,348.745 457.8,348.747 458.4,348.748 459,348.749    459.6,348.75 460.2,348.75 460.8,348.75 461.4,348.75 462,348.75 462.6,348.75 463.2,348.75 463.8,348.75 464.4,348.75 465,348.75    465.6,348.75 466.2,348.75 466.8,348.75 467.4,348.75 468,348.75 468.6,348.75 469.2,348.75 469.8,348.75 470.4,348.75 471,348.75    471.6,348.75 472.2,348.75 472.8,348.75 473.4,348.75 474,348.75 474.6,348.75 475.2,348.75 475.8,348.75 476.4,348.75 477,348.75    477.6,348.75 478.2,348.75 478.8,348.75 479.4,348.75 480,348.75 480.6,348.75 481.2,348.75 481.8,348.75 482.4,348.75 483,348.75    483.6,348.75 484.2,348.75 484.8,348.75 485.4,348.75 486,348.75 486.6,348.75 487.2,348.75 487.8,348.75 488.4,348.75 489,348.75    489.6,348.75 490.2,348.75 490.8,348.75 491.4,348.75 492,348.75 492.6,348.75 493.2,348.75 493.8,348.75 494.4,348.75 495,348.75    495.6,348.75 496.2,348.75 496.8,348.75 497.4,348.75 498,348.75 498.6,348.75 499.2,348.75 499.8,348.75 500.4,348.75 501,348.75    501.6,348.75 502.2,348.75 502.8,348.75 503.4,348.75 504,348.75 504.6,348.75 505.2,348.75 505.8,348.75 506.4,348.75 507,348.75    507.6,348.75 508.2,348.75 508.8,348.75 509.4,348.75 510,348.75 510.6,348.751 511.2,348.751 511.8,348.751 512.4,348.751 513,348.752    513.6,348.752 514.2,348.753 514.8,348.754 515.4,348.755 516,348.756 516.6,348.758 517.2,348.76 517.8,348.762 518.4,348.764 519,348.766    519.6,348.769 520.2,348.772 520.8,348.775 521.4,348.778 522,348.781 522.6,348.784 523.2,348.785 523.8,348.787 524.4,348.787 525,348.786    525.6,348.783 526.2,348.779 526.8,348.772 527.4,348.764 528,348.754 528.6,348.741 529.2,348.728 529.8,348.713 530.4,348.698 531,348.683    531.6,348.669 532.2,348.657 532.8,348.647 533.4,348.641 534,348.639 534.6,348.642 535.2,348.649 535.8,348.661 536.4,348.677 537,348.696    537.6,348.718 538.2,348.74 538.8,348.763 539.4,348.783 540,348.801 540.6,348.815 541.2,348.824 541.8,348.829 542.4,348.829 543,348.824    543.6,348.816 544.2,348.805 544.8,348.793 545.4,348.781 546,348.769 546.6,348.759 547.2,348.751 547.8,348.746 548.4,348.743 549,348.742    549.6,348.742 550.2,348.744 550.8,348.746 551.4,348.748 552,348.749 552.6,348.751 553.2,348.751 553.8,348.751 554.4,348.751 555,348.751       \" style=\"stroke:#00528a; stroke-width:1.05; stroke-opacity:1; fill:none\"/>\n",
       "</svg>"
      ],
      "text/plain": [
       "<IPython.core.display.SVG object>"
      ]
     },
     "metadata": {},
     "output_type": "display_data"
    },
    {
     "name": "stdout",
     "output_type": "stream",
     "text": [
      "Total time: 4.10423 sec for 4000 steps, 1.02606 ms/step\n"
     ]
    }
   ],
   "source": [
    "for t in range(T_max):\n",
    "    if t==1: # skip JIT overhead\n",
    "        startTime = time.time()\n",
    "    \n",
    "    # Print time\n",
    "    if (t % (T_max // 4))  == 0: print('T = %d' % t)\n",
    "\n",
    "    # Plot\n",
    "    if t % plot_step == 0:\n",
    "        plot(solver.rho,t)\n",
    "   \n",
    "    # Step 1: Streaming / advection step: f'_i(x) <- f^n_i(x-c_i)\n",
    "    solver.stream_python()\n",
    "    \n",
    "    # Step 2: Correct the macroscopic parameters: {rho',ux',uy',P'} = f(f',c)\n",
    "    solver.correct_macroscopic_python()\n",
    "    \n",
    "    # Step 3: Correct the equilbirum population: f_eq' = f(rho',ux',uy',P')\n",
    "    solver.correct_feq_python()\n",
    "    \n",
    "    # Step 4: Relaxation / collision step: f^{n+1}_i(x) <- f'_i + \\alpha\\beta [f^{eq}'_i(x,t) - f'_i(x,t)]\n",
    "    solver.relax_python()\n",
    "    \n",
    "    if solver.rho.min() <= 0.:\n",
    "        print('Density is negative!')\n",
    "        break\n",
    "\n",
    "# Done\n",
    "duration = time.time()-startTime\n",
    "print('Total time: {:3g} sec for {:d} steps, {:3g} ms/step'.format(duration, T_max, duration/T_max*1000))        "
   ]
  }
 ],
 "metadata": {
  "kernelspec": {
   "display_name": "Python 3",
   "language": "python",
   "name": "python3"
  },
  "language_info": {
   "codemirror_mode": {
    "name": "ipython",
    "version": 3
   },
   "file_extension": ".py",
   "mimetype": "text/x-python",
   "name": "python",
   "nbconvert_exporter": "python",
   "pygments_lexer": "ipython3",
   "version": "3.6.4"
  }
 },
 "nbformat": 4,
 "nbformat_minor": 2
}
