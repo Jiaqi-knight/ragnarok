{
 "cells": [
  {
   "cell_type": "markdown",
   "metadata": {},
   "source": [
    "# Navier-Stokes 2D: Doubly-periodic shear layer"
   ]
  },
  {
   "cell_type": "markdown",
   "metadata": {},
   "source": [
    "A 2D NS problem with a doubly-period shear layer initial condition.\n",
    "\n",
    "\n",
    "** Lattice Boltzmann method **\n",
    "\n",
    "A simple lattice Boltzmann Bhatnagar-Gross-Krook (LBGK) model is used, given in discrete form as:\n",
    "\\begin{equation}\n",
    "f_i \\left(\\mathbf{x} + \\mathbf{c}_i, t+1\\right) - f_i \\left(\\mathbf{x}, t\\right) = \\alpha \\beta \\left(f_i^{eq} - f_i\\right)\n",
    "\\end{equation}\n",
    "\n",
    "where $\\alpha = 2$, $\\beta = \\left(2\\nu/c_s^2 +1 \\right)^{-1}$, $f_i$ is the population of discrete velocities $\\mathbf{c}_i$ and $f_i^{eq}$ is the equilibrium population. The local macroscopic (i.e. density and momentum) is defined as:\n",
    "\n",
    "\\begin{equation}\n",
    "\\rho = \\Sigma_i f_i\n",
    "\\end{equation} \n",
    "and\n",
    "\\begin{equation}\n",
    "\\rho \\mathbf{u} = \\Sigma_i \\mathbf{c}_i f_i\n",
    "\\end{equation} \n",
    "\n",
    "The present LBM model uses D2Q9 lattice, discretizing the velocity spaces with 9 population function for simulating 2D-dimensional flow. The associated lattice velocites $[c_x, c_y]^T$ and lattice weights $W$ are:\n",
    "\n",
    "\\begin{equation}\n",
    "\\left[\\begin{array}{c}\n",
    "\tc_x\\\\c_y\n",
    "\t\\end{array} \\right]\n",
    "\t=\n",
    "\t\\left[\n",
    "\\begin{array}{ccccccccc}\n",
    "\t0 & 1 & 0 & -1 & 0 & 1 & -1 & -1 & 1\\\\ \n",
    "\t0 & 0 & 1 & 0 & -1 & 1 & 1 & -1 & -1\\\\ \n",
    "\t\\end{array} \\right]\n",
    "\\end{equation}\n",
    "and\n",
    "\\begin{equation}\n",
    "W = \n",
    "\\left[\n",
    "\\begin{array}{ccccccccc}\n",
    "\\frac{4}{9} & \\frac{1}{9} & \\frac{1}{9} & \\frac{1}{9}& \\frac{1}{9} & \\frac{1}{36} & \\frac{1}{36}  & \\frac{1}{36}  & \\frac{1}{36} \\\\ \n",
    "\\end{array} \\right]\n",
    "\\end{equation}\n",
    "\n",
    "The equilibrium population $f_i^{eq}$ is determined from local conservations:\n",
    "\\begin{equation}\n",
    "f_i^{eq} = \\rho W_i \\left(2 - \\sqrt{1 + 3 u_x^2}\\right) \\left(2 - \\sqrt{1 + 3 u_y^2}\\right) \\\\\n",
    "\\left(\\frac{2u_x- \\sqrt{1 + 3 u_x^2}}{1 - u_x}\\right)^{c_{x,i}} \\left(\\frac{2u_y- \\sqrt{1 + 3 u_y^2}}{1 - u_y}\\right)^{c_{y,i}}\n",
    "\\end{equation}\n",
    "\n",
    "The discrete LBM is split into two operations: advection (streaming) and relaxtion (collision) step.\n"
   ]
  },
  {
   "cell_type": "markdown",
   "metadata": {},
   "source": [
    "## Import Modules"
   ]
  },
  {
   "cell_type": "markdown",
   "metadata": {},
   "source": [
    "**Standard**"
   ]
  },
  {
   "cell_type": "code",
   "execution_count": 1,
   "metadata": {},
   "outputs": [],
   "source": [
    "import time\n",
    "import numpy as np\n",
    "import math"
   ]
  },
  {
   "cell_type": "markdown",
   "metadata": {},
   "source": [
    "**High performance computing**"
   ]
  },
  {
   "cell_type": "code",
   "execution_count": 2,
   "metadata": {},
   "outputs": [],
   "source": [
    "from numba import vectorize, jit"
   ]
  },
  {
   "cell_type": "markdown",
   "metadata": {},
   "source": [
    "**Plotting**"
   ]
  },
  {
   "cell_type": "code",
   "execution_count": 3,
   "metadata": {},
   "outputs": [],
   "source": [
    "import matplotlib.pyplot as plt\n",
    "import gr\n",
    "from gr import pygr\n",
    "gr.inline('svg')"
   ]
  },
  {
   "cell_type": "markdown",
   "metadata": {},
   "source": [
    "**Lattice boltzmann solver**"
   ]
  },
  {
   "cell_type": "code",
   "execution_count": 4,
   "metadata": {},
   "outputs": [],
   "source": [
    "import ragnarok"
   ]
  },
  {
   "cell_type": "markdown",
   "metadata": {},
   "source": [
    "## Initial condition"
   ]
  },
  {
   "cell_type": "code",
   "execution_count": 5,
   "metadata": {},
   "outputs": [],
   "source": [
    "def doublyperiodicshearlayer():\n",
    "    delta = 0.05\n",
    "    kappa = 80.0\n",
    "    u0 = 0.01\n",
    "    ux = np.zeros(x.shape)\n",
    "    ux[y<=Ny/2.0] = u0*np.tanh(kappa*(y[y<=Ny/2.0]/float(Ny) - 0.25))\n",
    "    ux[y>Ny/2.0]  = u0*np.tanh(kappa*(0.75 - y[y>Ny/2.0]/float(Ny)))\n",
    "    uy = delta*u0*np.sin(2*np.pi*(x/float(Nx) + 0.25))\n",
    "    return ux, uy"
   ]
  },
  {
   "cell_type": "markdown",
   "metadata": {},
   "source": [
    "## Plotting function"
   ]
  },
  {
   "cell_type": "markdown",
   "metadata": {},
   "source": [
    "**GR version**"
   ]
  },
  {
   "cell_type": "code",
   "execution_count": 18,
   "metadata": {},
   "outputs": [],
   "source": [
    "def plot(t,zlim=(-0.25,0.25)):\n",
    "    vortz = curl(solver.u)\n",
    "    pygr.surface(vortz, rotation=0, tilt=90,colormap=34,\n",
    "                 xlabel='x', ylabel='y', title='vortz - T = {}'.format(t),\n",
    "                 zlim=zlim, accelerate=True)"
   ]
  },
  {
   "cell_type": "markdown",
   "metadata": {},
   "source": [
    "** MPL version:**"
   ]
  },
  {
   "cell_type": "code",
   "execution_count": 7,
   "metadata": {},
   "outputs": [],
   "source": [
    "def plot_mpl(i):\n",
    "    plt.figure('plot')\n",
    "    plt.clf()\n",
    "    vortz = curl(solver.u)\n",
    "    levels = np.linspace(-0.25,0.25,26)\n",
    "    plt.contourf(x,y,vortz,levels,cmap='RdBu_r',extend='both')\n",
    "    plt.xlabel('x')\n",
    "    plt.ylabel('y')\n",
    "    plt.title('T = %d' % i)\n",
    "    plt.colorbar(ticks=levels[::5])\n",
    "    plt.axis('scaled')\n",
    "    plt.axis([0,Nx,0,Ny])\n",
    "    plt.pause(0.1)\n",
    "    "
   ]
  },
  {
   "cell_type": "markdown",
   "metadata": {},
   "source": [
    "## Post-processing functions"
   ]
  },
  {
   "cell_type": "markdown",
   "metadata": {},
   "source": [
    "**Velocity norm:**"
   ]
  },
  {
   "cell_type": "code",
   "execution_count": 8,
   "metadata": {},
   "outputs": [],
   "source": [
    "@vectorize(['float64(float64,float64)'],target='parallel')\n",
    "def calcnorm(ux,uy):\n",
    "    return math.sqrt(ux**2+uy**2)"
   ]
  },
  {
   "cell_type": "markdown",
   "metadata": {},
   "source": [
    "**Velocity curl - vorticity:**"
   ]
  },
  {
   "cell_type": "code",
   "execution_count": 9,
   "metadata": {},
   "outputs": [],
   "source": [
    "@jit\n",
    "def curl(u):\n",
    "    dudx,dudy = np.gradient(u[0], 1.0/Nx,1.0/Ny)\n",
    "    dvdx,dvdy = np.gradient(u[1], 1.0/Nx,1.0/Ny)\n",
    "    return dvdx - dudy"
   ]
  },
  {
   "cell_type": "markdown",
   "metadata": {},
   "source": [
    "## Settings"
   ]
  },
  {
   "cell_type": "markdown",
   "metadata": {},
   "source": [
    "**Simulation parameters**"
   ]
  },
  {
   "cell_type": "code",
   "execution_count": 10,
   "metadata": {},
   "outputs": [],
   "source": [
    "Re = 30000 # Reynolds number\n",
    "T = 20000 # Number of time steps \n",
    "U = 0.1 # Lattice velocity\n",
    "\n",
    "Nx = 100 # Number of lattice in x-dir\n",
    "Ny = 100 # Number of lattice in y-dir"
   ]
  },
  {
   "cell_type": "markdown",
   "metadata": {},
   "source": [
    "**Postprocessing parameters**"
   ]
  },
  {
   "cell_type": "code",
   "execution_count": 11,
   "metadata": {},
   "outputs": [],
   "source": [
    "# Flags\n",
    "apply_bc = True\n",
    "plot_step = 100\n",
    "plot_save = False\n",
    "plot_flag = True"
   ]
  },
  {
   "cell_type": "markdown",
   "metadata": {},
   "source": [
    "## Solver"
   ]
  },
  {
   "cell_type": "markdown",
   "metadata": {},
   "source": [
    "Initialze the 2D NS solver:"
   ]
  },
  {
   "cell_type": "code",
   "execution_count": 12,
   "metadata": {},
   "outputs": [
    {
     "name": "stdout",
     "output_type": "stream",
     "text": [
      "nu = 0.000333\n",
      "beta = 0.998004\n",
      "omega = 1.996008\n"
     ]
    }
   ],
   "source": [
    "solver = ragnarok.NavierStokes2D(U=U, Re=Re, Nx=Nx, Ny=Ny)"
   ]
  },
  {
   "cell_type": "markdown",
   "metadata": {},
   "source": [
    "Reference parameters:"
   ]
  },
  {
   "cell_type": "code",
   "execution_count": 13,
   "metadata": {},
   "outputs": [],
   "source": [
    "# Get parameters\n",
    "L = solver.L\n",
    "U = solver.U\n",
    "nu = solver.nu\n",
    "Nx = solver.Nx\n",
    "Ny = solver.Ny\n",
    "cs = solver.cs\n",
    "x = solver.x[0]\n",
    "y = solver.x[1]"
   ]
  },
  {
   "cell_type": "markdown",
   "metadata": {},
   "source": [
    "## Initial conditions\n",
    "\n",
    "The doubly periodic shear layer (DPSL) describes the case of roll-up of two anti-parallel shear layers within a periodic square domain. The initial condition is given as:\n",
    "\n",
    "\\begin{align}\n",
    "u_x &= \\left\\{  \\begin{array}{l}\n",
    "u_0 \\tanh \\left[\\kappa \\left(\\frac{y}{N} - \\frac{1}{4}\\right) \\right], y \\le N/2, \\\\\n",
    "u_0 \\tanh \\left(\\kappa \\left(\\frac{3}{4} - \\frac{y}{N}\\right) \\right), y > N/2, \\\\\n",
    "\\end{array} \\right.\\\\\n",
    "\\\\\n",
    "u_y &= \\delta \\sin \\left[ 2 \\pi  \\left(\\frac{x}{N} + \\frac{1}{4} \\right)\\right].\n",
    "\\end{align}"
   ]
  },
  {
   "cell_type": "markdown",
   "metadata": {},
   "source": [
    "**Assign the initial condition:**"
   ]
  },
  {
   "cell_type": "code",
   "execution_count": 19,
   "metadata": {},
   "outputs": [],
   "source": [
    "# Setup initial conditions (Doubly periodic shear layer)\n",
    "ux, uy = doublyperiodicshearlayer()"
   ]
  },
  {
   "cell_type": "markdown",
   "metadata": {},
   "source": [
    "**Initialize the population:**"
   ]
  },
  {
   "cell_type": "code",
   "execution_count": 20,
   "metadata": {},
   "outputs": [],
   "source": [
    "solver.initialize(ux=ux,uy=uy)"
   ]
  },
  {
   "cell_type": "markdown",
   "metadata": {},
   "source": [
    "** Plot initial condition **"
   ]
  },
  {
   "cell_type": "code",
   "execution_count": 21,
   "metadata": {},
   "outputs": [
    {
     "data": {
      "image/svg+xml": [
       "<svg height=\"450\" viewBox=\"0 0 600 450\" width=\"600\" xmlns=\"http://www.w3.org/2000/svg\" xmlns:xlink=\"http://www.w3.org/1999/xlink\">\n",
       "<defs>\n",
       "  <clipPath id=\"clip7200\">\n",
       "    <rect height=\"361\" width=\"390\" x=\"75\" y=\"33\"/>\n",
       "  </clipPath>\n",
       "</defs>\n",
       "<defs>\n",
       "  <clipPath id=\"clip7201\">\n",
       "    <rect height=\"450\" width=\"600\" x=\"0\" y=\"0\"/>\n",
       "  </clipPath>\n",
       "</defs>\n",
       "<polyline clip-path=\"url(#clip7201)\" points=\"   75,393.75 75,33.75    \" style=\"stroke:#cccccc; stroke-width:1.05; stroke-opacity:1; fill:none\"/>\n",
       "<polyline clip-path=\"url(#clip7201)\" points=\"   75,33.75 463.5,33.75    \" style=\"stroke:#cccccc; stroke-width:1.05; stroke-opacity:1; fill:none\"/>\n",
       "<polyline clip-path=\"url(#clip7201)\" points=\"   75,393.75 75,33.75    \" style=\"stroke:#ededed; stroke-width:1.05; stroke-opacity:1; fill:none\"/>\n",
       "<polyline clip-path=\"url(#clip7201)\" points=\"   75,33.75 463.5,33.75    \" style=\"stroke:#ededed; stroke-width:1.05; stroke-opacity:1; fill:none\"/>\n",
       "<polyline clip-path=\"url(#clip7201)\" points=\"   75,393.75 75,33.75    \" style=\"stroke:#cccccc; stroke-width:1.05; stroke-opacity:1; fill:none\"/>\n",
       "<polyline clip-path=\"url(#clip7201)\" points=\"   75,33.75 463.5,33.75    \" style=\"stroke:#cccccc; stroke-width:1.05; stroke-opacity:1; fill:none\"/>\n",
       "<polyline clip-path=\"url(#clip7201)\" points=\"   75,393.75 75,33.75    \" style=\"stroke:#ededed; stroke-width:1.05; stroke-opacity:1; fill:none\"/>\n",
       "<polyline clip-path=\"url(#clip7201)\" points=\"   75,33.75 463.5,33.75    \" style=\"stroke:#ededed; stroke-width:1.05; stroke-opacity:1; fill:none\"/>\n",
       "<polyline clip-path=\"url(#clip7201)\" points=\"   75,393.75 75,33.75    \" style=\"stroke:#cccccc; stroke-width:1.05; stroke-opacity:1; fill:none\"/>\n",
       "<polyline clip-path=\"url(#clip7201)\" points=\"   75,33.75 463.5,33.75    \" style=\"stroke:#cccccc; stroke-width:1.05; stroke-opacity:1; fill:none\"/>\n",
       "<polyline clip-path=\"url(#clip7201)\" points=\"   75,393.75 75,33.75    \" style=\"stroke:#ededed; stroke-width:1.05; stroke-opacity:1; fill:none\"/>\n",
       "<polyline clip-path=\"url(#clip7201)\" points=\"   75,33.75 463.5,33.75    \" style=\"stroke:#ededed; stroke-width:1.05; stroke-opacity:1; fill:none\"/>\n",
       "<polyline clip-path=\"url(#clip7201)\" points=\"   113.85,393.75 113.85,33.75    \" style=\"stroke:#ededed; stroke-width:1.05; stroke-opacity:1; fill:none\"/>\n",
       "<polyline clip-path=\"url(#clip7201)\" points=\"   113.85,33.75 113.85,33.75    \" style=\"stroke:#ededed; stroke-width:1.05; stroke-opacity:1; fill:none\"/>\n",
       "<polyline clip-path=\"url(#clip7201)\" points=\"   152.7,393.75 152.7,33.75    \" style=\"stroke:#cccccc; stroke-width:1.05; stroke-opacity:1; fill:none\"/>\n",
       "<polyline clip-path=\"url(#clip7201)\" points=\"   152.7,33.75 152.7,33.75    \" style=\"stroke:#cccccc; stroke-width:1.05; stroke-opacity:1; fill:none\"/>\n",
       "<polyline clip-path=\"url(#clip7201)\" points=\"   191.55,393.75 191.55,33.75    \" style=\"stroke:#ededed; stroke-width:1.05; stroke-opacity:1; fill:none\"/>\n",
       "<polyline clip-path=\"url(#clip7201)\" points=\"   191.55,33.75 191.55,33.75    \" style=\"stroke:#ededed; stroke-width:1.05; stroke-opacity:1; fill:none\"/>\n",
       "<polyline clip-path=\"url(#clip7201)\" points=\"   230.4,393.75 230.4,33.75    \" style=\"stroke:#cccccc; stroke-width:1.05; stroke-opacity:1; fill:none\"/>\n",
       "<polyline clip-path=\"url(#clip7201)\" points=\"   230.4,33.75 230.4,33.75    \" style=\"stroke:#cccccc; stroke-width:1.05; stroke-opacity:1; fill:none\"/>\n",
       "<polyline clip-path=\"url(#clip7201)\" points=\"   269.25,393.75 269.25,33.75    \" style=\"stroke:#ededed; stroke-width:1.05; stroke-opacity:1; fill:none\"/>\n",
       "<polyline clip-path=\"url(#clip7201)\" points=\"   269.25,33.75 269.25,33.75    \" style=\"stroke:#ededed; stroke-width:1.05; stroke-opacity:1; fill:none\"/>\n",
       "<polyline clip-path=\"url(#clip7201)\" points=\"   308.1,393.75 308.1,33.75    \" style=\"stroke:#cccccc; stroke-width:1.05; stroke-opacity:1; fill:none\"/>\n",
       "<polyline clip-path=\"url(#clip7201)\" points=\"   308.1,33.75 308.1,33.75    \" style=\"stroke:#cccccc; stroke-width:1.05; stroke-opacity:1; fill:none\"/>\n",
       "<polyline clip-path=\"url(#clip7201)\" points=\"   346.95,393.75 346.95,33.75    \" style=\"stroke:#ededed; stroke-width:1.05; stroke-opacity:1; fill:none\"/>\n",
       "<polyline clip-path=\"url(#clip7201)\" points=\"   346.95,33.75 346.95,33.75    \" style=\"stroke:#ededed; stroke-width:1.05; stroke-opacity:1; fill:none\"/>\n",
       "<polyline clip-path=\"url(#clip7201)\" points=\"   385.8,393.75 385.8,33.75    \" style=\"stroke:#cccccc; stroke-width:1.05; stroke-opacity:1; fill:none\"/>\n",
       "<polyline clip-path=\"url(#clip7201)\" points=\"   385.8,33.75 385.8,33.75    \" style=\"stroke:#cccccc; stroke-width:1.05; stroke-opacity:1; fill:none\"/>\n",
       "<polyline clip-path=\"url(#clip7201)\" points=\"   424.65,393.75 424.65,33.75    \" style=\"stroke:#ededed; stroke-width:1.05; stroke-opacity:1; fill:none\"/>\n",
       "<polyline clip-path=\"url(#clip7201)\" points=\"   424.65,33.75 424.65,33.75    \" style=\"stroke:#ededed; stroke-width:1.05; stroke-opacity:1; fill:none\"/>\n",
       "<polyline clip-path=\"url(#clip7201)\" points=\"   463.5,393.75 463.5,33.75    \" style=\"stroke:#cccccc; stroke-width:1.05; stroke-opacity:1; fill:none\"/>\n",
       "<polyline clip-path=\"url(#clip7201)\" points=\"   463.5,33.75 463.5,33.75    \" style=\"stroke:#cccccc; stroke-width:1.05; stroke-opacity:1; fill:none\"/>\n",
       "<polyline clip-path=\"url(#clip7201)\" points=\"   75,357.75 463.5,357.75    \" style=\"stroke:#ededed; stroke-width:1.05; stroke-opacity:1; fill:none\"/>\n",
       "<polyline clip-path=\"url(#clip7201)\" points=\"   75,357.75 75,357.75    \" style=\"stroke:#ededed; stroke-width:1.05; stroke-opacity:1; fill:none\"/>\n",
       "<polyline clip-path=\"url(#clip7201)\" points=\"   75,321.75 463.5,321.75    \" style=\"stroke:#cccccc; stroke-width:1.05; stroke-opacity:1; fill:none\"/>\n",
       "<polyline clip-path=\"url(#clip7201)\" points=\"   75,321.75 75,321.75    \" style=\"stroke:#cccccc; stroke-width:1.05; stroke-opacity:1; fill:none\"/>\n",
       "<polyline clip-path=\"url(#clip7201)\" points=\"   75,285.75 463.5,285.75    \" style=\"stroke:#ededed; stroke-width:1.05; stroke-opacity:1; fill:none\"/>\n",
       "<polyline clip-path=\"url(#clip7201)\" points=\"   75,285.75 75,285.75    \" style=\"stroke:#ededed; stroke-width:1.05; stroke-opacity:1; fill:none\"/>\n",
       "<polyline clip-path=\"url(#clip7201)\" points=\"   75,249.75 463.5,249.75    \" style=\"stroke:#cccccc; stroke-width:1.05; stroke-opacity:1; fill:none\"/>\n",
       "<polyline clip-path=\"url(#clip7201)\" points=\"   75,249.75 75,249.75    \" style=\"stroke:#cccccc; stroke-width:1.05; stroke-opacity:1; fill:none\"/>\n",
       "<polyline clip-path=\"url(#clip7201)\" points=\"   75,213.75 463.5,213.75    \" style=\"stroke:#ededed; stroke-width:1.05; stroke-opacity:1; fill:none\"/>\n",
       "<polyline clip-path=\"url(#clip7201)\" points=\"   75,213.75 75,213.75    \" style=\"stroke:#ededed; stroke-width:1.05; stroke-opacity:1; fill:none\"/>\n",
       "<polyline clip-path=\"url(#clip7201)\" points=\"   75,177.75 463.5,177.75    \" style=\"stroke:#cccccc; stroke-width:1.05; stroke-opacity:1; fill:none\"/>\n",
       "<polyline clip-path=\"url(#clip7201)\" points=\"   75,177.75 75,177.75    \" style=\"stroke:#cccccc; stroke-width:1.05; stroke-opacity:1; fill:none\"/>\n",
       "<polyline clip-path=\"url(#clip7201)\" points=\"   75,141.75 463.5,141.75    \" style=\"stroke:#ededed; stroke-width:1.05; stroke-opacity:1; fill:none\"/>\n",
       "<polyline clip-path=\"url(#clip7201)\" points=\"   75,141.75 75,141.75    \" style=\"stroke:#ededed; stroke-width:1.05; stroke-opacity:1; fill:none\"/>\n",
       "<polyline clip-path=\"url(#clip7201)\" points=\"   75,105.75 463.5,105.75    \" style=\"stroke:#cccccc; stroke-width:1.05; stroke-opacity:1; fill:none\"/>\n",
       "<polyline clip-path=\"url(#clip7201)\" points=\"   75,105.75 75,105.75    \" style=\"stroke:#cccccc; stroke-width:1.05; stroke-opacity:1; fill:none\"/>\n",
       "<polyline clip-path=\"url(#clip7201)\" points=\"   75,69.75 463.5,69.75    \" style=\"stroke:#ededed; stroke-width:1.05; stroke-opacity:1; fill:none\"/>\n",
       "<polyline clip-path=\"url(#clip7201)\" points=\"   75,69.75 75,69.75    \" style=\"stroke:#ededed; stroke-width:1.05; stroke-opacity:1; fill:none\"/>\n",
       "<polyline clip-path=\"url(#clip7201)\" points=\"   75,33.75 463.5,33.75    \" style=\"stroke:#cccccc; stroke-width:1.05; stroke-opacity:1; fill:none\"/>\n",
       "<polyline clip-path=\"url(#clip7201)\" points=\"   75,33.75 75,33.75    \" style=\"stroke:#cccccc; stroke-width:1.05; stroke-opacity:1; fill:none\"/>\n",
       "<g clip-path=\"url(#clip7201)\">\n",
       "<text style=\"fill:#000000; fill-opacity:1; font-family:Arial,Helvetica Neue,Helvetica,sans-serif; font-size:14; text-anchor:start;\" transform=\"rotate(0, 231.978, 11.8219)\" x=\"231.978\" y=\"11.8219\">vortz - T = 0</text>\n",
       "</g>\n",
       "<g clip-path=\"url(#clip7201)\">\n",
       "<text style=\"fill:#000000; fill-opacity:1; font-family:Arial,Helvetica Neue,Helvetica,sans-serif; font-size:14; text-anchor:start;\" transform=\"rotate(0, 265.93, 443.25)\" x=\"265.93\" y=\"443.25\">x</text>\n",
       "</g>\n",
       "<g clip-path=\"url(#clip7201)\">\n",
       "<text style=\"fill:#000000; fill-opacity:1; font-family:Arial,Helvetica Neue,Helvetica,sans-serif; font-size:14; text-anchor:start;\" transform=\"rotate(-90, 16.6781, 217.07)\" x=\"16.6781\" y=\"217.07\">y</text>\n",
       "</g>\n",
       "<g clip-path=\"url(#clip7200)\">\n",
       "<image height=\"360\" transform=\"translate(75, 34)\" width=\"389\" xlink:href=\"data:image/png;base64, iVBORw0KGgoAAAANSUhEUgAAAYUAAAFoCAYAAAC4+ecUAAAICklEQVR4nO3dwUrcXBzG4ZNR+Rbt xoXY3oMUev83UYoX0eLSjeA4+RY2r6PHccbSMTnJ84BYhMBfmObnSTJzur7vy7b1ujz/AQCLsRp7 AACmQxQACFEAIEQBgBAFAEIUAAhRACBEAYAQBQBCFAAIUQAgRAGAEAUAQhQACFEAIEQBgBAFAEIU AAhRACBEAYAQBQBCFAAIUQAgRAGAEAUAQhQACFEAIEQBgBAFAEIUAAhRACBEAYAQBQBCFAAIUQAg RAGAEAUAQhQACFEAIEQBgBAFAEIUAAhRACBEAYAQBQBCFAAIUQAgRAGAEAUAQhQACFEAIEQBgBAF AEIUAAhRACBEAYAQBQBCFAAIUQAgRAGAEAUAQhQACFEAIEQBgBAFAOJ07AGA8XWlH3uEJvSlG3uE oxMFoJTyGAZx2K0vXelKXzYzv8AiCkCIwtuGMMx5xSAKAAd4Gcy5hqGKwqpsxpgDYPK2wzDXVVUV hbn+ogD/wtzPkXUUNg9jzAHt6ed9cmC35i8cdbt/g/qewnp9zFFgPjYutdKo1e4nqOoo3N8fcxSY j83GaoE2rVY7Vwt1FO7ujj0OzMMQBXGgNUMUXolDHYXb248aC9q2HYThC1qwHYTh6486Cjc3Hzka tG17tQAtGWLwYrVQR+H6+iPHgnmwUqBVL246WynAvyIKtOrNlcKPHx85CgATUkfh168RxgBgCkQB gOj6l9dBu86FUYCFmvduEQC8iygAEKIAQIgCACEKAIQoABD1+xQ+fx5hDACmoI7C168jjAHAFNRR +PJlhDEAmII6Ct+/jzAGAFNQR+HycoQxoEE+KptW7difuZTXonBxccxRYD7stkarVrsfPK2jcHV1 zFFgPh4e7LhGm4YtOF+Jg5UC/K3t/ZmFgZZsR+HFpaQ6CufnHzUWtG87CsJAS3asFuoonNY/At4w BEEUaM1BUTg7+6hxYD7cdKZVXffsElK989p67c8dgIWqVgp92f38KjBPXfG34CGWcH6sorDxwamw KF3pS1+60pVeHA4w93OklQLwLAzsN+fz5LyTB+zV/1kjDP9m2Tx/CiQMq7IRhoUTBSAEAVEAQhRw TwGAEAUAQhQACFEAIEQBgBAFAEIUAAhRACBEAYAQBQBCFAAIUQAgRAGAEAUAQhQACFEAIEQBgBAF AEIUAAhRACBEAYAQBQBCFAAIUQAgRAGAEAUAQhQACFEAIEQBgBAFAEIUAAhRACBEAYAQBQBCFAAI UQAgRAGAEAUAQhQACFEAIEQBgBAFAEIUAAhRACBEAYAQBQBCFAAIUQAgRAGAEAUAQhQACFEAIEQB gBAFAEIUAAhRACBEAYAQBQBCFAAIUQAgRAGAEAUAQhQACFEAIEQBgBAFAEIUAAhRACBEAYAQBQBC FAAIUQAgRAGAEAUAQhQACFEAIEQBgBAFAEIUAAhRACBEAYAQBQBCFAAIUQAgRAGAEAUAQhQACFEA IEQBgBAFAEIUAAhRACBEAYAQBQBCFAAIUQAgRAGAEAUAQhQACFEAIEQBgBAFAEIUAAhRACBEAYAQ BQBCFAAIUQAgRAGAEAUAQhQACFEAIEQBgBAFAEIUAAhRACBEAYAQBQBCFAAIUQAgRAGAEAUAQhQA CFEAIEQBgBAFAEIUAAhRACBEAYAQBQBCFAAIUQAgRAGAEAUAQhQACFEAIE7HHmBMfT/2BG3ourEn AD7KoqNQijAcQhRgORYfhc1GGPbp+1JWK3GAJVh8FAbCsFvfP8ZTGGD+qigs+eS45N/9LUMQhu/A fFVReHgYYwymrO8fXxddJ5wwd1YKHGy4jOQSEsxXFYX1+u0DRINWiRns91dR2GyONQ4cT9e5JwL7 VFG4v99/0GYjDLRniIIVA+xWReHu7u0D+v5pteCmNC3puqcwnJyMPQ1MUxWF29v9B21HwT0GWjKs FE5OrBjgNVUUbm4OO1AUaNWwUhAFqFVRuL4+/ODhUhK0xg1neN1frxQGokCrrBSgVkXh588xxgBg Cqoo/P49xhgATIEoABBd/+KmQNcVdwkAFsozGACEKAAQogBAiAIAIQoAhCgAENX7FD59GmMMAKag isLl5RhjADAFogBAVFH49m2MMQCYgnevFHxUNq3yUdmwXxWFi4v9B202xxgFjmvYoxnYrYrC1dXb Bwz7Mw/foRVDFFYrO6/BLu9eKQxbcA57NEMrtqNwcjL2NDBNVRTOzw87sO9LWa//9ThwfF33GAWX kqBWReG0+sluq5Ubz7TpPa9zWJLqv8bZ2eEHn5yIAm1arawU4DVVFP77b4wxxiFoh3HyhOWoorC0 E4Aw7Le01wQsWRWFJT2V0fePT1AJw37DUzvAvC16pdB1z993wX5Len3AEi06CqU8/QXsjXiHW9pr BJZk8Q/mDU9QDasGgCVbfBRKeVotiAKwdKLwhw9LA7BHMwBbRAGAEAUAQhQACFEAIEQBgBAFAEIU AAhRACBEAYAQBQBCFAAIUQAgRAGAEAUAQhQACFEAIEQBgBAFAEIUAAhRACBEAYAQBQBCFAAIUQAg RAGAEAUAQhQACFEAIEQBgBAFAEIUAAhRACBEAYAQBQBCFAAIUQAgRAGAEAUAQhQACFEAIEQBgBAF AEIUAAhRACBEAYAQBQBCFAAIUQAgRAGAEAUAQhQACFEAIEQBgBAFAEIUAAhRACBEAYAQBQBCFAAI UQAgRAGAEAUAQhQACFEAIEQBgBAFAEIUAIiu7/uxZwBgIqwUAAhRACD+BwwwN9foHCPLAAAAAElF TkSuQmCC \"/>\n",
       "</g>\n",
       "<polyline clip-path=\"url(#clip7201)\" points=\"   70.9141,409.433 70.9141,409.433    \" style=\"stroke:#000000; stroke-width:1; stroke-opacity:1; fill:none\"/>\n",
       "<polyline clip-path=\"url(#clip7201)\" points=\"   65.4662,409.433 65.9202,409.433 67.2822,409.433 69.5521,409.433 70.9141,409.433 73.184,409.433 74.546,409.433 75,409.433 74.546,409.433    73.184,409.433 70.9141,409.433 69.5521,409.433 67.2822,409.433 65.9202,409.433 65.4662,409.433    \" style=\"stroke:#000000; stroke-width:1; stroke-opacity:1; fill:none\"/>\n",
       "<polyline clip-path=\"url(#clip7201)\" points=\"   74.092,409.433 74.546,409.433 75,409.433 74.546,409.433 74.092,409.433    \" style=\"stroke:#000000; stroke-width:1; stroke-opacity:1; fill:none\"/>\n",
       "<polyline clip-path=\"url(#clip7201)\" points=\"   67.7362,409.433 67.2822,409.433 66.3742,409.433 65.9202,409.433 65.4662,409.433 65.9202,409.433 66.3742,409.433 67.2822,409.433 68.1902,409.433    69.0982,409.433 70.4601,409.433 75,409.433    \" style=\"stroke:#000000; stroke-width:1; stroke-opacity:1; fill:none\"/>\n",
       "<polyline clip-path=\"url(#clip7201)\" points=\"   65.4662,409.433 65.9202,409.433 67.2822,409.433 69.5521,409.433 70.9141,409.433 73.184,409.433 74.546,409.433 75,409.433 74.546,409.433    73.184,409.433 70.9141,409.433 69.5521,409.433 67.2822,409.433 65.9202,409.433 65.4662,409.433    \" style=\"stroke:#000000; stroke-width:1; stroke-opacity:1; fill:none\"/>\n",
       "<polyline clip-path=\"url(#clip7201)\" points=\"   65.4662,409.433 65.9202,409.433 67.2822,409.433 69.5521,409.433 70.9141,409.433 73.184,409.433 74.546,409.433 75,409.433 74.546,409.433    73.184,409.433 70.9141,409.433 69.5521,409.433 67.2822,409.433 65.9202,409.433 65.4662,409.433    \" style=\"stroke:#000000; stroke-width:1; stroke-opacity:1; fill:none\"/>\n",
       "<polyline clip-path=\"url(#clip7201)\" points=\"   74.092,409.433 74.546,409.433 75,409.433 74.546,409.433 74.092,409.433    \" style=\"stroke:#000000; stroke-width:1; stroke-opacity:1; fill:none\"/>\n",
       "<polyline clip-path=\"url(#clip7201)\" points=\"   67.7362,409.433 67.2822,409.433 66.3742,409.433 65.9202,409.433 65.4662,409.433 65.9202,409.433 66.3742,409.433 67.2822,409.433 68.1902,409.433    69.0982,409.433 70.4601,409.433 75,409.433    \" style=\"stroke:#000000; stroke-width:1; stroke-opacity:1; fill:none\"/>\n",
       "<polyline clip-path=\"url(#clip7201)\" points=\"   75,393.75 75,393.75 75,401.695 75,393.75 75,397.722 75,393.75 75,401.695 75,393.75    75,397.722 75,393.75 75,401.695 75,393.75    \" style=\"stroke:#000000; stroke-width:1.05; stroke-opacity:1; fill:none\"/>\n",
       "<polyline clip-path=\"url(#clip7201)\" points=\"   145.436,401.901 144.982,401.901 144.074,401.901 143.62,401.901 143.166,401.901 143.62,401.901 144.074,401.901 144.982,401.901 145.89,401.901    146.798,401.901 148.16,401.901 152.7,401.901    \" style=\"stroke:#000000; stroke-width:1; stroke-opacity:1; fill:none\"/>\n",
       "<polyline clip-path=\"url(#clip7201)\" points=\"   143.166,401.901 143.62,401.901 144.982,401.901 147.252,401.901 148.614,401.901 150.884,401.901 152.246,401.901 152.7,401.901 152.246,401.901    150.884,401.901 148.614,401.901 147.252,401.901 144.982,401.901 143.62,401.901 143.166,401.901    \" style=\"stroke:#000000; stroke-width:1; stroke-opacity:1; fill:none\"/>\n",
       "<polyline clip-path=\"url(#clip7201)\" points=\"   220.866,401.901 227.222,401.901    \" style=\"stroke:#000000; stroke-width:1; stroke-opacity:1; fill:none\"/>\n",
       "<polyline clip-path=\"url(#clip7201)\" points=\"   220.866,401.901 230.4,401.901    \" style=\"stroke:#000000; stroke-width:1; stroke-opacity:1; fill:none\"/>\n",
       "<polyline clip-path=\"url(#clip7201)\" points=\"   220.866,401.901 221.32,401.901 222.682,401.901 224.952,401.901 226.314,401.901 228.584,401.901 229.946,401.901 230.4,401.901 229.946,401.901    228.584,401.901 226.314,401.901 224.952,401.901 222.682,401.901 221.32,401.901 220.866,401.901    \" style=\"stroke:#000000; stroke-width:1; stroke-opacity:1; fill:none\"/>\n",
       "<polyline clip-path=\"url(#clip7201)\" points=\"   299.928,401.901 299.02,401.901 298.566,401.901 299.02,401.901 300.382,401.901 302.652,401.901 304.922,401.901 306.738,401.901 307.646,401.901    308.1,401.901 307.646,401.901 306.738,401.901 305.376,401.901 304.922,401.901 303.56,401.901 302.652,401.901 302.198,401.901    302.652,401.901 303.56,401.901 304.922,401.901    \" style=\"stroke:#000000; stroke-width:1; stroke-opacity:1; fill:none\"/>\n",
       "<polyline clip-path=\"url(#clip7201)\" points=\"   298.566,401.901 299.02,401.901 300.382,401.901 302.652,401.901 304.014,401.901 306.284,401.901 307.646,401.901 308.1,401.901 307.646,401.901    306.284,401.901 304.014,401.901 302.652,401.901 300.382,401.901 299.02,401.901 298.566,401.901    \" style=\"stroke:#000000; stroke-width:1; stroke-opacity:1; fill:none\"/>\n",
       "<polyline clip-path=\"url(#clip7201)\" points=\"   376.266,401.901 376.72,401.901 377.628,401.901 378.536,401.901 379.444,401.901 379.898,401.901 380.352,401.901 380.806,401.901 381.714,401.901 382.622,401.901    383.984,401.901 384.892,401.901 385.346,401.901 385.8,401.901 385.346,401.901 384.892,401.901 383.984,401.901 382.622,401.901 381.714,401.901    380.806,401.901 380.352,401.901 379.898,401.901 379.444,401.901 378.536,401.901 377.628,401.901 376.72,401.901 376.266,401.901    \" style=\"stroke:#000000; stroke-width:1; stroke-opacity:1; fill:none\"/>\n",
       "<polyline clip-path=\"url(#clip7201)\" points=\"   376.266,401.901 376.72,401.901 378.082,401.901 380.352,401.901 381.714,401.901 383.984,401.901 385.346,401.901 385.8,401.901 385.346,401.901    383.984,401.901 381.714,401.901 380.352,401.901 378.082,401.901 376.72,401.901 376.266,401.901    \" style=\"stroke:#000000; stroke-width:1; stroke-opacity:1; fill:none\"/>\n",
       "<polyline clip-path=\"url(#clip7201)\" points=\"   455.782,401.901 455.328,401.901 453.966,401.901 463.5,401.901    \" style=\"stroke:#000000; stroke-width:1; stroke-opacity:1; fill:none\"/>\n",
       "<polyline clip-path=\"url(#clip7201)\" points=\"   453.966,401.901 454.42,401.901 455.782,401.901 458.052,401.901 459.414,401.901 461.684,401.901 463.046,401.901 463.5,401.901 463.046,401.901    461.684,401.901 459.414,401.901 458.052,401.901 455.782,401.901 454.42,401.901 453.966,401.901    \" style=\"stroke:#000000; stroke-width:1; stroke-opacity:1; fill:none\"/>\n",
       "<polyline clip-path=\"url(#clip7201)\" points=\"   453.966,401.901 454.42,401.901 455.782,401.901 458.052,401.901 459.414,401.901 461.684,401.901 463.046,401.901 463.5,401.901 463.046,401.901    461.684,401.901 459.414,401.901 458.052,401.901 455.782,401.901 454.42,401.901 453.966,401.901    \" style=\"stroke:#000000; stroke-width:1; stroke-opacity:1; fill:none\"/>\n",
       "<polyline clip-path=\"url(#clip7201)\" points=\"   75,393.75 75,393.75 75,401.695 75,393.75 113.85,393.75 113.85,397.722 113.85,393.75 152.7,393.75 152.7,401.695 152.7,393.75    191.55,393.75 191.55,397.722 191.55,393.75 230.4,393.75 230.4,401.695 230.4,393.75 269.25,393.75 269.25,397.722 269.25,393.75 308.1,393.75    308.1,401.695 308.1,393.75 346.95,393.75 346.95,397.722 346.95,393.75 385.8,393.75 385.8,401.695 385.8,393.75 424.65,393.75 424.65,397.722    424.65,393.75 463.5,393.75 463.5,401.695 463.5,393.75    \" style=\"stroke:#000000; stroke-width:1.05; stroke-opacity:1; fill:none\"/>\n",
       "<polyline clip-path=\"url(#clip7201)\" points=\"   468.153,325.516 467.699,325.516 466.791,325.516 466.337,325.516 465.883,325.516 466.337,325.516 466.791,325.516 467.699,325.516 468.607,325.516    469.515,325.516 470.877,325.516 475.417,325.516    \" style=\"stroke:#000000; stroke-width:1; stroke-opacity:1; fill:none\"/>\n",
       "<polyline clip-path=\"url(#clip7201)\" points=\"   465.883,325.516 466.337,325.516 467.699,325.516 469.969,325.516 471.331,325.516 473.601,325.516 474.963,325.516 475.417,325.516 474.963,325.516    473.601,325.516 471.331,325.516 469.969,325.516 467.699,325.516 466.337,325.516 465.883,325.516    \" style=\"stroke:#000000; stroke-width:1; stroke-opacity:1; fill:none\"/>\n",
       "<polyline clip-path=\"url(#clip7201)\" points=\"   465.883,253.516 472.239,253.516    \" style=\"stroke:#000000; stroke-width:1; stroke-opacity:1; fill:none\"/>\n",
       "<polyline clip-path=\"url(#clip7201)\" points=\"   465.883,253.516 475.417,253.516    \" style=\"stroke:#000000; stroke-width:1; stroke-opacity:1; fill:none\"/>\n",
       "<polyline clip-path=\"url(#clip7201)\" points=\"   465.883,253.516 466.337,253.516 467.699,253.516 469.969,253.516 471.331,253.516 473.601,253.516 474.963,253.516 475.417,253.516 474.963,253.516    473.601,253.516 471.331,253.516 469.969,253.516 467.699,253.516 466.337,253.516 465.883,253.516    \" style=\"stroke:#000000; stroke-width:1; stroke-opacity:1; fill:none\"/>\n",
       "<polyline clip-path=\"url(#clip7201)\" points=\"   467.245,181.516 466.337,181.516 465.883,181.516 466.337,181.516 467.699,181.516 469.969,181.516 472.239,181.516 474.055,181.516 474.963,181.516    475.417,181.516 474.963,181.516 474.055,181.516 472.693,181.516 472.239,181.516 470.877,181.516 469.969,181.516 469.515,181.516    469.969,181.516 470.877,181.516 472.239,181.516    \" style=\"stroke:#000000; stroke-width:1; stroke-opacity:1; fill:none\"/>\n",
       "<polyline clip-path=\"url(#clip7201)\" points=\"   465.883,181.516 466.337,181.516 467.699,181.516 469.969,181.516 471.331,181.516 473.601,181.516 474.963,181.516 475.417,181.516 474.963,181.516    473.601,181.516 471.331,181.516 469.969,181.516 467.699,181.516 466.337,181.516 465.883,181.516    \" style=\"stroke:#000000; stroke-width:1; stroke-opacity:1; fill:none\"/>\n",
       "<polyline clip-path=\"url(#clip7201)\" points=\"   465.883,109.516 466.337,109.516 467.245,109.516 468.153,109.516 469.061,109.516 469.515,109.516 469.969,109.516 470.423,109.516 471.331,109.516 472.239,109.516    473.601,109.516 474.509,109.516 474.963,109.516 475.417,109.516 474.963,109.516 474.509,109.516 473.601,109.516 472.239,109.516 471.331,109.516    470.423,109.516 469.969,109.516 469.515,109.516 469.061,109.516 468.153,109.516 467.245,109.516 466.337,109.516 465.883,109.516    \" style=\"stroke:#000000; stroke-width:1; stroke-opacity:1; fill:none\"/>\n",
       "<polyline clip-path=\"url(#clip7201)\" points=\"   465.883,109.516 466.337,109.516 467.699,109.516 469.969,109.516 471.331,109.516 473.601,109.516 474.963,109.516 475.417,109.516 474.963,109.516    473.601,109.516 471.331,109.516 469.969,109.516 467.699,109.516 466.337,109.516 465.883,109.516    \" style=\"stroke:#000000; stroke-width:1; stroke-opacity:1; fill:none\"/>\n",
       "<polyline clip-path=\"url(#clip7201)\" points=\"   467.699,37.5158 467.245,37.5158 465.883,37.5158 475.417,37.5158    \" style=\"stroke:#000000; stroke-width:1; stroke-opacity:1; fill:none\"/>\n",
       "<polyline clip-path=\"url(#clip7201)\" points=\"   465.883,37.5158 466.337,37.5158 467.699,37.5158 469.969,37.5158 471.331,37.5158 473.601,37.5158 474.963,37.5158 475.417,37.5158 474.963,37.5158    473.601,37.5158 471.331,37.5158 469.969,37.5158 467.699,37.5158 466.337,37.5158 465.883,37.5158    \" style=\"stroke:#000000; stroke-width:1; stroke-opacity:1; fill:none\"/>\n",
       "<polyline clip-path=\"url(#clip7201)\" points=\"   465.883,37.5158 466.337,37.5158 467.699,37.5158 469.969,37.5158 471.331,37.5158 473.601,37.5158 474.963,37.5158 475.417,37.5158 474.963,37.5158    473.601,37.5158 471.331,37.5158 469.969,37.5158 467.699,37.5158 466.337,37.5158 465.883,37.5158    \" style=\"stroke:#000000; stroke-width:1; stroke-opacity:1; fill:none\"/>\n",
       "<polyline clip-path=\"url(#clip7201)\" points=\"   463.5,393.75 463.5,393.75 471.445,393.75 463.5,393.75 463.5,357.75 467.472,357.75 463.5,357.75 463.5,321.75 471.445,321.75 463.5,321.75    463.5,285.75 467.472,285.75 463.5,285.75 463.5,249.75 471.445,249.75 463.5,249.75 463.5,213.75 467.472,213.75 463.5,213.75 463.5,177.75    471.445,177.75 463.5,177.75 463.5,141.75 467.472,141.75 463.5,141.75 463.5,105.75 471.445,105.75 463.5,105.75 463.5,69.75 467.472,69.75    463.5,69.75 463.5,33.75 471.445,33.75 463.5,33.75    \" style=\"stroke:#000000; stroke-width:1.05; stroke-opacity:1; fill:none\"/>\n",
       "<g clip-path=\"url(#clip7201)\">\n",
       "<text style=\"fill:#000000; fill-opacity:1; font-family:Arial,Helvetica Neue,Helvetica,sans-serif; font-size:14; text-anchor:start;\" transform=\"rotate(0, 231.978, 11.8219)\" x=\"231.978\" y=\"11.8219\">vortz - T = 0</text>\n",
       "</g>\n",
       "<g clip-path=\"url(#clip7201)\">\n",
       "<text style=\"fill:#000000; fill-opacity:1; font-family:Arial,Helvetica Neue,Helvetica,sans-serif; font-size:14; text-anchor:start;\" transform=\"rotate(0, 265.93, 443.25)\" x=\"265.93\" y=\"443.25\">x</text>\n",
       "</g>\n",
       "<g clip-path=\"url(#clip7201)\">\n",
       "<text style=\"fill:#000000; fill-opacity:1; font-family:Arial,Helvetica Neue,Helvetica,sans-serif; font-size:14; text-anchor:start;\" transform=\"rotate(-90, 16.6781, 217.07)\" x=\"16.6781\" y=\"217.07\">y</text>\n",
       "</g>\n",
       "<defs>\n",
       "  <clipPath id=\"clip7202\">\n",
       "    <rect height=\"361\" width=\"19\" x=\"505\" y=\"33\"/>\n",
       "  </clipPath>\n",
       "</defs>\n",
       "<g clip-path=\"url(#clip7202)\">\n",
       "<image height=\"360\" transform=\"translate(506, 34)\" width=\"18\" xlink:href=\"data:image/png;base64, iVBORw0KGgoAAAANSUhEUgAAABIAAAFoCAYAAABaAKtEAAABD0lEQVR4nO3dwQnEQAzFUGdJ/yVn tgRd5mCEVIDh/Qb8nJkzF/rdODIz887vzq1rh6Jx+2htxIlpbcSJaW3EiWltxIlpbcSJaW3EReP2 0dqIE9PaiBPT2ogT09qIE9PaiBPT2oiLxu2jtREnprURJ6a1ESemtREnprURJ6a1EReN20drI05M ayNOTGsjTkxrI05MayNOTHvPPFcO3dvo+5Ydisbto7URJ6a1ESemtREnprURJ6a1ESemtREXjdtH ayNOTGsjTkxrI05MayNOTGsjTkxrIy4at4/WRpyY1kacmNZGnJjWRpyY1kacmNZGXDRuH62NODGt jTgxrY04Ma2NODGtjbh9tGfmXHkv8wfU6AXa2SJG/wAAAABJRU5ErkJggg== \"/>\n",
       "</g>\n",
       "<g clip-path=\"url(#clip7201)\">\n",
       "<text style=\"fill:#000000; fill-opacity:1; font-family:Arial,Helvetica Neue,Helvetica,sans-serif; font-size:11; text-anchor:start;\" transform=\"rotate(0, 532.5, 397.097)\" x=\"532.5\" y=\"397.097\">-</text>\n",
       "</g>\n",
       "<g clip-path=\"url(#clip7201)\">\n",
       "<text style=\"fill:#000000; fill-opacity:1; font-family:Arial,Helvetica Neue,Helvetica,sans-serif; font-size:11; text-anchor:start;\" transform=\"rotate(0, 539.393, 397.097)\" x=\"539.393\" y=\"397.097\">0.25</text>\n",
       "</g>\n",
       "<g clip-path=\"url(#clip7201)\">\n",
       "<text style=\"fill:#000000; fill-opacity:1; font-family:Arial,Helvetica Neue,Helvetica,sans-serif; font-size:11; text-anchor:start;\" transform=\"rotate(0, 532.5, 361.097)\" x=\"532.5\" y=\"361.097\">-</text>\n",
       "</g>\n",
       "<g clip-path=\"url(#clip7201)\">\n",
       "<text style=\"fill:#000000; fill-opacity:1; font-family:Arial,Helvetica Neue,Helvetica,sans-serif; font-size:11; text-anchor:start;\" transform=\"rotate(0, 539.393, 361.097)\" x=\"539.393\" y=\"361.097\">0.20</text>\n",
       "</g>\n",
       "<g clip-path=\"url(#clip7201)\">\n",
       "<text style=\"fill:#000000; fill-opacity:1; font-family:Arial,Helvetica Neue,Helvetica,sans-serif; font-size:11; text-anchor:start;\" transform=\"rotate(0, 532.5, 325.097)\" x=\"532.5\" y=\"325.097\">-</text>\n",
       "</g>\n",
       "<g clip-path=\"url(#clip7201)\">\n",
       "<text style=\"fill:#000000; fill-opacity:1; font-family:Arial,Helvetica Neue,Helvetica,sans-serif; font-size:11; text-anchor:start;\" transform=\"rotate(0, 539.393, 325.097)\" x=\"539.393\" y=\"325.097\">0.15</text>\n",
       "</g>\n",
       "<g clip-path=\"url(#clip7201)\">\n",
       "<text style=\"fill:#000000; fill-opacity:1; font-family:Arial,Helvetica Neue,Helvetica,sans-serif; font-size:11; text-anchor:start;\" transform=\"rotate(0, 532.5, 289.097)\" x=\"532.5\" y=\"289.097\">-</text>\n",
       "</g>\n",
       "<g clip-path=\"url(#clip7201)\">\n",
       "<text style=\"fill:#000000; fill-opacity:1; font-family:Arial,Helvetica Neue,Helvetica,sans-serif; font-size:11; text-anchor:start;\" transform=\"rotate(0, 539.393, 289.097)\" x=\"539.393\" y=\"289.097\">0.10</text>\n",
       "</g>\n",
       "<g clip-path=\"url(#clip7201)\">\n",
       "<text style=\"fill:#000000; fill-opacity:1; font-family:Arial,Helvetica Neue,Helvetica,sans-serif; font-size:11; text-anchor:start;\" transform=\"rotate(0, 532.5, 253.097)\" x=\"532.5\" y=\"253.097\">-</text>\n",
       "</g>\n",
       "<g clip-path=\"url(#clip7201)\">\n",
       "<text style=\"fill:#000000; fill-opacity:1; font-family:Arial,Helvetica Neue,Helvetica,sans-serif; font-size:11; text-anchor:start;\" transform=\"rotate(0, 539.393, 253.097)\" x=\"539.393\" y=\"253.097\">0.05</text>\n",
       "</g>\n",
       "<g clip-path=\"url(#clip7201)\">\n",
       "<text style=\"fill:#000000; fill-opacity:1; font-family:Arial,Helvetica Neue,Helvetica,sans-serif; font-size:11; text-anchor:start;\" transform=\"rotate(0, 532.5, 217.097)\" x=\"532.5\" y=\"217.097\">0</text>\n",
       "</g>\n",
       "<g clip-path=\"url(#clip7201)\">\n",
       "<text style=\"fill:#000000; fill-opacity:1; font-family:Arial,Helvetica Neue,Helvetica,sans-serif; font-size:11; text-anchor:start;\" transform=\"rotate(0, 532.5, 181.097)\" x=\"532.5\" y=\"181.097\">0.05</text>\n",
       "</g>\n",
       "<g clip-path=\"url(#clip7201)\">\n",
       "<text style=\"fill:#000000; fill-opacity:1; font-family:Arial,Helvetica Neue,Helvetica,sans-serif; font-size:11; text-anchor:start;\" transform=\"rotate(0, 532.5, 145.097)\" x=\"532.5\" y=\"145.097\">0.10</text>\n",
       "</g>\n",
       "<g clip-path=\"url(#clip7201)\">\n",
       "<text style=\"fill:#000000; fill-opacity:1; font-family:Arial,Helvetica Neue,Helvetica,sans-serif; font-size:11; text-anchor:start;\" transform=\"rotate(0, 532.5, 109.097)\" x=\"532.5\" y=\"109.097\">0.15</text>\n",
       "</g>\n",
       "<g clip-path=\"url(#clip7201)\">\n",
       "<text style=\"fill:#000000; fill-opacity:1; font-family:Arial,Helvetica Neue,Helvetica,sans-serif; font-size:11; text-anchor:start;\" transform=\"rotate(0, 532.5, 73.0974)\" x=\"532.5\" y=\"73.0974\">0.20</text>\n",
       "</g>\n",
       "<g clip-path=\"url(#clip7201)\">\n",
       "<text style=\"fill:#000000; fill-opacity:1; font-family:Arial,Helvetica Neue,Helvetica,sans-serif; font-size:11; text-anchor:start;\" transform=\"rotate(0, 532.5, 37.0974)\" x=\"532.5\" y=\"37.0974\">0.25</text>\n",
       "</g>\n",
       "<polyline clip-path=\"url(#clip7201)\" points=\"   523.5,393.75 523.5,393.75 529.5,393.75 523.5,393.75 523.5,357.75 529.5,357.75 523.5,357.75 523.5,321.75 529.5,321.75 523.5,321.75    523.5,285.75 529.5,285.75 523.5,285.75 523.5,249.75 529.5,249.75 523.5,249.75 523.5,213.75 529.5,213.75 523.5,213.75 523.5,177.75    529.5,177.75 523.5,177.75 523.5,141.75 529.5,141.75 523.5,141.75 523.5,105.75 529.5,105.75 523.5,105.75 523.5,69.75 529.5,69.75    523.5,69.75 523.5,33.75 529.5,33.75 523.5,33.75    \" style=\"stroke:#000000; stroke-width:1.05; stroke-opacity:1; fill:none\"/>\n",
       "</svg>"
      ],
      "text/plain": [
       "<IPython.core.display.SVG object>"
      ]
     },
     "metadata": {},
     "output_type": "display_data"
    }
   ],
   "source": [
    "plot(0)"
   ]
  },
  {
   "cell_type": "markdown",
   "metadata": {},
   "source": [
    "## Time stepping\n",
    "\n",
    "The simulation parameters are $\\mathrm{Re} = (U L)/\\nu = 30\\ 000$, $\\delta = 0.05$, $\\kappa = 80$, $L = N = N_x = N_y = 100$ and $U=0.1$, providing a $\\beta = 0.9980$. The vorticity of the flow is defined as $\\omega = \\nabla \\times \\mathbf{u}$ and in 2D with $\\mathbf{u} = (u_x,u_y)^T$, it is given as:\n",
    "\\begin{equation}\n",
    "\\omega = \\frac{\\partial v}{\\partial x} - \\frac{\\partial u}{\\partial y}\n",
    "\\end{equation}\n",
    "\n",
    "**Simulation Algorithm**:\n",
    " 1. `stream`: Streaming / advection step: $f'_i(x) \\leftarrow f^n_i(x-c_i)$\n",
    " 2. `apply_periodic`: Apply periodic boundary condition\n",
    " 3. `relax`: Relaxation / collision step: $f^{n+1}_i(x) \\leftarrow f'_i  + \\alpha\\beta \\left[f'^{eq}_i(x,t) - f'_i(x,t)\\right]$"
   ]
  },
  {
   "cell_type": "code",
   "execution_count": 22,
   "metadata": {},
   "outputs": [
    {
     "data": {
      "image/svg+xml": [
       "<svg height=\"450\" viewBox=\"0 0 600 450\" width=\"600\" xmlns=\"http://www.w3.org/2000/svg\" xmlns:xlink=\"http://www.w3.org/1999/xlink\">\n",
       "<defs>\n",
       "  <clipPath id=\"clip7300\">\n",
       "    <rect height=\"361\" width=\"390\" x=\"75\" y=\"33\"/>\n",
       "  </clipPath>\n",
       "</defs>\n",
       "<defs>\n",
       "  <clipPath id=\"clip7301\">\n",
       "    <rect height=\"450\" width=\"600\" x=\"0\" y=\"0\"/>\n",
       "  </clipPath>\n",
       "</defs>\n",
       "<polyline clip-path=\"url(#clip7301)\" points=\"   75,393.75 75,33.75    \" style=\"stroke:#cccccc; stroke-width:1.05; stroke-opacity:1; fill:none\"/>\n",
       "<polyline clip-path=\"url(#clip7301)\" points=\"   75,33.75 463.5,33.75    \" style=\"stroke:#cccccc; stroke-width:1.05; stroke-opacity:1; fill:none\"/>\n",
       "<polyline clip-path=\"url(#clip7301)\" points=\"   75,393.75 75,33.75    \" style=\"stroke:#ededed; stroke-width:1.05; stroke-opacity:1; fill:none\"/>\n",
       "<polyline clip-path=\"url(#clip7301)\" points=\"   75,33.75 463.5,33.75    \" style=\"stroke:#ededed; stroke-width:1.05; stroke-opacity:1; fill:none\"/>\n",
       "<polyline clip-path=\"url(#clip7301)\" points=\"   75,393.75 75,33.75    \" style=\"stroke:#cccccc; stroke-width:1.05; stroke-opacity:1; fill:none\"/>\n",
       "<polyline clip-path=\"url(#clip7301)\" points=\"   75,33.75 463.5,33.75    \" style=\"stroke:#cccccc; stroke-width:1.05; stroke-opacity:1; fill:none\"/>\n",
       "<polyline clip-path=\"url(#clip7301)\" points=\"   75,393.75 75,33.75    \" style=\"stroke:#ededed; stroke-width:1.05; stroke-opacity:1; fill:none\"/>\n",
       "<polyline clip-path=\"url(#clip7301)\" points=\"   75,33.75 463.5,33.75    \" style=\"stroke:#ededed; stroke-width:1.05; stroke-opacity:1; fill:none\"/>\n",
       "<polyline clip-path=\"url(#clip7301)\" points=\"   75,393.75 75,33.75    \" style=\"stroke:#cccccc; stroke-width:1.05; stroke-opacity:1; fill:none\"/>\n",
       "<polyline clip-path=\"url(#clip7301)\" points=\"   75,33.75 463.5,33.75    \" style=\"stroke:#cccccc; stroke-width:1.05; stroke-opacity:1; fill:none\"/>\n",
       "<polyline clip-path=\"url(#clip7301)\" points=\"   75,393.75 75,33.75    \" style=\"stroke:#ededed; stroke-width:1.05; stroke-opacity:1; fill:none\"/>\n",
       "<polyline clip-path=\"url(#clip7301)\" points=\"   75,33.75 463.5,33.75    \" style=\"stroke:#ededed; stroke-width:1.05; stroke-opacity:1; fill:none\"/>\n",
       "<polyline clip-path=\"url(#clip7301)\" points=\"   113.85,393.75 113.85,33.75    \" style=\"stroke:#ededed; stroke-width:1.05; stroke-opacity:1; fill:none\"/>\n",
       "<polyline clip-path=\"url(#clip7301)\" points=\"   113.85,33.75 113.85,33.75    \" style=\"stroke:#ededed; stroke-width:1.05; stroke-opacity:1; fill:none\"/>\n",
       "<polyline clip-path=\"url(#clip7301)\" points=\"   152.7,393.75 152.7,33.75    \" style=\"stroke:#cccccc; stroke-width:1.05; stroke-opacity:1; fill:none\"/>\n",
       "<polyline clip-path=\"url(#clip7301)\" points=\"   152.7,33.75 152.7,33.75    \" style=\"stroke:#cccccc; stroke-width:1.05; stroke-opacity:1; fill:none\"/>\n",
       "<polyline clip-path=\"url(#clip7301)\" points=\"   191.55,393.75 191.55,33.75    \" style=\"stroke:#ededed; stroke-width:1.05; stroke-opacity:1; fill:none\"/>\n",
       "<polyline clip-path=\"url(#clip7301)\" points=\"   191.55,33.75 191.55,33.75    \" style=\"stroke:#ededed; stroke-width:1.05; stroke-opacity:1; fill:none\"/>\n",
       "<polyline clip-path=\"url(#clip7301)\" points=\"   230.4,393.75 230.4,33.75    \" style=\"stroke:#cccccc; stroke-width:1.05; stroke-opacity:1; fill:none\"/>\n",
       "<polyline clip-path=\"url(#clip7301)\" points=\"   230.4,33.75 230.4,33.75    \" style=\"stroke:#cccccc; stroke-width:1.05; stroke-opacity:1; fill:none\"/>\n",
       "<polyline clip-path=\"url(#clip7301)\" points=\"   269.25,393.75 269.25,33.75    \" style=\"stroke:#ededed; stroke-width:1.05; stroke-opacity:1; fill:none\"/>\n",
       "<polyline clip-path=\"url(#clip7301)\" points=\"   269.25,33.75 269.25,33.75    \" style=\"stroke:#ededed; stroke-width:1.05; stroke-opacity:1; fill:none\"/>\n",
       "<polyline clip-path=\"url(#clip7301)\" points=\"   308.1,393.75 308.1,33.75    \" style=\"stroke:#cccccc; stroke-width:1.05; stroke-opacity:1; fill:none\"/>\n",
       "<polyline clip-path=\"url(#clip7301)\" points=\"   308.1,33.75 308.1,33.75    \" style=\"stroke:#cccccc; stroke-width:1.05; stroke-opacity:1; fill:none\"/>\n",
       "<polyline clip-path=\"url(#clip7301)\" points=\"   346.95,393.75 346.95,33.75    \" style=\"stroke:#ededed; stroke-width:1.05; stroke-opacity:1; fill:none\"/>\n",
       "<polyline clip-path=\"url(#clip7301)\" points=\"   346.95,33.75 346.95,33.75    \" style=\"stroke:#ededed; stroke-width:1.05; stroke-opacity:1; fill:none\"/>\n",
       "<polyline clip-path=\"url(#clip7301)\" points=\"   385.8,393.75 385.8,33.75    \" style=\"stroke:#cccccc; stroke-width:1.05; stroke-opacity:1; fill:none\"/>\n",
       "<polyline clip-path=\"url(#clip7301)\" points=\"   385.8,33.75 385.8,33.75    \" style=\"stroke:#cccccc; stroke-width:1.05; stroke-opacity:1; fill:none\"/>\n",
       "<polyline clip-path=\"url(#clip7301)\" points=\"   424.65,393.75 424.65,33.75    \" style=\"stroke:#ededed; stroke-width:1.05; stroke-opacity:1; fill:none\"/>\n",
       "<polyline clip-path=\"url(#clip7301)\" points=\"   424.65,33.75 424.65,33.75    \" style=\"stroke:#ededed; stroke-width:1.05; stroke-opacity:1; fill:none\"/>\n",
       "<polyline clip-path=\"url(#clip7301)\" points=\"   463.5,393.75 463.5,33.75    \" style=\"stroke:#cccccc; stroke-width:1.05; stroke-opacity:1; fill:none\"/>\n",
       "<polyline clip-path=\"url(#clip7301)\" points=\"   463.5,33.75 463.5,33.75    \" style=\"stroke:#cccccc; stroke-width:1.05; stroke-opacity:1; fill:none\"/>\n",
       "<polyline clip-path=\"url(#clip7301)\" points=\"   75,357.75 463.5,357.75    \" style=\"stroke:#ededed; stroke-width:1.05; stroke-opacity:1; fill:none\"/>\n",
       "<polyline clip-path=\"url(#clip7301)\" points=\"   75,357.75 75,357.75    \" style=\"stroke:#ededed; stroke-width:1.05; stroke-opacity:1; fill:none\"/>\n",
       "<polyline clip-path=\"url(#clip7301)\" points=\"   75,321.75 463.5,321.75    \" style=\"stroke:#cccccc; stroke-width:1.05; stroke-opacity:1; fill:none\"/>\n",
       "<polyline clip-path=\"url(#clip7301)\" points=\"   75,321.75 75,321.75    \" style=\"stroke:#cccccc; stroke-width:1.05; stroke-opacity:1; fill:none\"/>\n",
       "<polyline clip-path=\"url(#clip7301)\" points=\"   75,285.75 463.5,285.75    \" style=\"stroke:#ededed; stroke-width:1.05; stroke-opacity:1; fill:none\"/>\n",
       "<polyline clip-path=\"url(#clip7301)\" points=\"   75,285.75 75,285.75    \" style=\"stroke:#ededed; stroke-width:1.05; stroke-opacity:1; fill:none\"/>\n",
       "<polyline clip-path=\"url(#clip7301)\" points=\"   75,249.75 463.5,249.75    \" style=\"stroke:#cccccc; stroke-width:1.05; stroke-opacity:1; fill:none\"/>\n",
       "<polyline clip-path=\"url(#clip7301)\" points=\"   75,249.75 75,249.75    \" style=\"stroke:#cccccc; stroke-width:1.05; stroke-opacity:1; fill:none\"/>\n",
       "<polyline clip-path=\"url(#clip7301)\" points=\"   75,213.75 463.5,213.75    \" style=\"stroke:#ededed; stroke-width:1.05; stroke-opacity:1; fill:none\"/>\n",
       "<polyline clip-path=\"url(#clip7301)\" points=\"   75,213.75 75,213.75    \" style=\"stroke:#ededed; stroke-width:1.05; stroke-opacity:1; fill:none\"/>\n",
       "<polyline clip-path=\"url(#clip7301)\" points=\"   75,177.75 463.5,177.75    \" style=\"stroke:#cccccc; stroke-width:1.05; stroke-opacity:1; fill:none\"/>\n",
       "<polyline clip-path=\"url(#clip7301)\" points=\"   75,177.75 75,177.75    \" style=\"stroke:#cccccc; stroke-width:1.05; stroke-opacity:1; fill:none\"/>\n",
       "<polyline clip-path=\"url(#clip7301)\" points=\"   75,141.75 463.5,141.75    \" style=\"stroke:#ededed; stroke-width:1.05; stroke-opacity:1; fill:none\"/>\n",
       "<polyline clip-path=\"url(#clip7301)\" points=\"   75,141.75 75,141.75    \" style=\"stroke:#ededed; stroke-width:1.05; stroke-opacity:1; fill:none\"/>\n",
       "<polyline clip-path=\"url(#clip7301)\" points=\"   75,105.75 463.5,105.75    \" style=\"stroke:#cccccc; stroke-width:1.05; stroke-opacity:1; fill:none\"/>\n",
       "<polyline clip-path=\"url(#clip7301)\" points=\"   75,105.75 75,105.75    \" style=\"stroke:#cccccc; stroke-width:1.05; stroke-opacity:1; fill:none\"/>\n",
       "<polyline clip-path=\"url(#clip7301)\" points=\"   75,69.75 463.5,69.75    \" style=\"stroke:#ededed; stroke-width:1.05; stroke-opacity:1; fill:none\"/>\n",
       "<polyline clip-path=\"url(#clip7301)\" points=\"   75,69.75 75,69.75    \" style=\"stroke:#ededed; stroke-width:1.05; stroke-opacity:1; fill:none\"/>\n",
       "<polyline clip-path=\"url(#clip7301)\" points=\"   75,33.75 463.5,33.75    \" style=\"stroke:#cccccc; stroke-width:1.05; stroke-opacity:1; fill:none\"/>\n",
       "<polyline clip-path=\"url(#clip7301)\" points=\"   75,33.75 75,33.75    \" style=\"stroke:#cccccc; stroke-width:1.05; stroke-opacity:1; fill:none\"/>\n",
       "<g clip-path=\"url(#clip7301)\">\n",
       "<text style=\"fill:#000000; fill-opacity:1; font-family:Arial,Helvetica Neue,Helvetica,sans-serif; font-size:14; text-anchor:start;\" transform=\"rotate(0, 217.213, 11.8219)\" x=\"217.213\" y=\"11.8219\">vortz - T = 20000</text>\n",
       "</g>\n",
       "<g clip-path=\"url(#clip7301)\">\n",
       "<text style=\"fill:#000000; fill-opacity:1; font-family:Arial,Helvetica Neue,Helvetica,sans-serif; font-size:14; text-anchor:start;\" transform=\"rotate(0, 265.93, 443.25)\" x=\"265.93\" y=\"443.25\">x</text>\n",
       "</g>\n",
       "<g clip-path=\"url(#clip7301)\">\n",
       "<text style=\"fill:#000000; fill-opacity:1; font-family:Arial,Helvetica Neue,Helvetica,sans-serif; font-size:14; text-anchor:start;\" transform=\"rotate(-90, 16.6781, 217.07)\" x=\"16.6781\" y=\"217.07\">y</text>\n",
       "</g>\n",
       "<g clip-path=\"url(#clip7300)\">\n",
       "<image height=\"360\" transform=\"translate(75, 34)\" width=\"389\" xlink:href=\"data:image/png;base64, iVBORw0KGgoAAAANSUhEUgAAAYUAAAFoCAYAAAC4+ecUAAAgAElEQVR4nOx963arOhNk42Tvmfd/ s3mcb5/EzA+77KLobklIYDtxrZXYGNANqS/VkpjmeTbG//t/tvhhmu5/Hx9mp9Pl8+PD7O/f+2/8 PcM8m31/Xz7xp/mdTvf89NhL73y+pxnldz4v846OGfgN6fcCbYc6/QRw/0D9FPo8o2d7S8fONtls k83rDsMPEw+HET1c7wGbLTvPPN8rwQXDd3R0HgRciWlaloPLouXka/k3bogMWWf16s7nve8tZfM6 7+nkt8MjkJWzpl0zgeJdz30yA/cVfPI5HUgyWObrqDjbaTEcosfO3VqP9T7unptEE/czHZ817ZiB 09F0vbTRhtrGfN57Ft6ngs+NEOI6Hn8qtH9HcnMIuKNs6XzcebxPLjhXakSH0HRboXWPBo5+1rRT qWy9Zd8TXn1b6p0JFO96T8h7yIyEgxHpJjOzz62Jev1xmi6fte2ZpY30MPb4WNPm5+IpJvx+Ot2N Qe94muJ7Of0eoG4/xVOIgGdUUrxD0PtQuHA6yFURjBaGPWlwvdU6yyyr2vbKyvZsioDBg8zzgkpl LwkUBQuUEqWgZXtgO6ocRLfYrBTMlvXHmEK/g/ezFezi8JjFsdIUHx/3c+r54Xr8pgoAx0hf+4Hm 3aPocR/S/0lUkmJBCQXU0jBs9RTMlg9AaRL+zrRRbwdn9DSMpwjUjc+4ggwl667X+tsTqHfk5ZTK zgIFaUXwBEzWFzm9Wi9jJ2jXn+cKpcDCC8e4WT0ECIAaq57TzvKGJlNPxFOyyDOistQA4Hs4H88j yM5tgXofNcbLsyB6phnLAOyqAFuVgldgzyPgjpx5Cj3caQ31EP2eUUUehVITQ2CUHtrWsu+B0jPR gZ7dWxqgJQFTI+DwyYJWjwegJHe52Cul4FEoSud4LgcbO1CaEZXU422ZjaOS9NOjlqJ7R9CCLVTS syoFj21puf/h8CoTUUY1syj2BKdfCr5tiSH0nK8t9xHIyppRS969bGl615cETEvdW4VdIzK5y+dW SoEFuvZBpnNUsf37d7kXUe6/f+/n1NMe4W3hd6+9Ms+P82bjz6OWtP5R3UdRSRmebdaSKgKWoTXY lUpqBQqDiihllEXlFCNmW9SkrZRRNg2lJYaQPcCeh7ZnuzD4+UXg9tF7veesAovTKQmY2llMWjak tRB2s9npw2yjbijJXWS1UgqZovPonMi7+v6+K4mtVr0iopLO53V/1bJ5z18tfqWW9Pqo7r2ooY8y r/eR2OIp8L1PA89LyD5L2FMA1lJGLZ4CsDePeYQ3VfucPCGfCRQFhEKNgGmt90rYzWan2S9bI0py 1/UUUEdP0UGRMT/F3/GH9sA074gia4nnIA/OV4+18mg/79mwUeGlq/XmdvHqrmhRGKU+w15aDXoU R0m4q/HM97V6udNkl/UIR0ArFikAL9DM925RCq0asyb9bP2G/rWUpVWg1lhzrUHurdDBmdXDO8/C zfMYFC0CRoUbW4NeWRZCabZpvrTdaT7bPE2Xv3l5mT5utQ+42JHcdWMKHnceeU4ex54pUA8lq74X GZfmeTueB4A64bzWPTM6RqE20M1ezVbUyIxszLXKv8MUg9lyIJY8AlYcI/MeAR6ErBBqLdMer6Cl Y2vZ9gSeVxY34Gs9BajCrdROLQLGExQNcYPJZpttvjFIp9NUHSOtLVqRPsrcDO86NVBa+mePt1WT dguVpP1Jhbym6fWrPfp/TZqq2LciupflZJZ+S96HKgWzdQC5VkGMynsUeoLLpbKMCqy3CoNeMGle emaR4FcJW/I4WgRMycKuUgzTZX3zNIWKQI3c2qIV6SOUGVSSgoUi90W+Ft9L8R82yDyhqhRURElF abd4etGzK1FWei2+jxwLpbSYwquRZbXPhH9jdqXl3rQcNrihPLpHFYEKf6WMmCuL3Pst5WqhZ/R3 zzpTb0E7d1YWfUjcwWsUQ8lS4QFVc22GWsVc0/lYcOn1aEOc9zq69qseAcNSm60tR9hhs4vZJjvZ hUqy07R69HzMyZSK5q5T8OijiCbxgP6pyiKyqlug3hbyq/S+Vp6QNs4WqilqF/U+nhklubH13prz K+zhJrIFkWlLpoy2Cu5RUFe1h4ZpfUg6aFvK2ossrRpFpRRGCSWqKRNc+luPgFEUhN002d1jMCNS yUetbAsXr2kAkbVPDfh5aAGOXu3MwHn2fjytyR6odx75YWxGHiHueXaUDKu9zy+wB38YTTv1ULsp 3R5lVWDwoLNFkcMa1D4kdF4EXR/RDqirV8bIcgdqy87eoGfZ8Xkce+e5LL0CJqpLIOxOH3b1GMxm m82S7exqZVtxRbNnHdeCPSINtNdY9RnYg0HarPBrDKOM5uP+4J1Xb8pLX2Mtr4A9vYKHewz4LAVD zNp5/z0fMFvt3mcragTl1lkfR3gMaj1vLQu8jmgg83mvzXDeEzitAqZUzkTYXTwGs+nqNZQ8hpJs c2cfMTwqqVR+7kus8JlOimIqLfSSUlvIr1bptAh+r96lQDO32SOZiFZh3CMva2jcJtRwzCzwS+Br Rhe2lscv3cu/6V8UWG4pu9dZ9Xdu11aqaiRfGgnqrQNLr88GuFqaHjKB0ytgtB5q9ZJ3c4JimCab 5uXji7qHxhoAd/ZRlAB/z+rASmCen2u1s6LF0/PqmTW8tkMJI97ZEKFF2ZqVWYYaY/MQlB5Szf3q RRDO4o6frEHgtTaEDiwNILe8DGRL3lkHrLEIt1y7BWpltkC9RKaavDaM4lF6f8Rd9wgYBT8jh0I7 TcR8zvfLULVa+VJUCupB1Sq3LNbz6NXOihpPL2uXzPPkzwzqYe2BVkakl2Fpza8LNXRCBOaMHSED d5ynAm5KvwYzjeaMMtLPqOO0tklmfbd2zr0VwxZeloUDI2pDFiSRQPGseM2zVcBkYKXoVG86mU0y GaaFDazyFNTNUHqoVHbcx1QSt21k1besdmaFj3pwuUseA5Q2e0LcgDXt4p3XdtBz3u97jqXW/le6 vsejGA4tTC2dpH+nkxnxslAGZzvdPIXdFQMGS7ZqufQKw568t573rt/L0tk6UDDItV2ywLZZLlA8 ysKjQFoETAR+BrCwp7vhcprMpo9pcSnLKaW89fFUvU9BFZ3nOdTUga1+/S1SwpxHjabTtDX/kmJo mTFWYwCoB6plZZSC1yPRIqxHC/aHrF6OzsnfxSvAPdN272AEWOAzjbSnoOW8e84/KzIKw1MULEVr BIoKNVUMLQKmBO4b03SRj9RXt652rn7JjtI5npKIoNewpmJreqv3leVXUjpePVuUUInmymJY2Vzh I/DrFQNbdDfvgBXDdPMMHqoYaoPLo1FLA7waIqFVopYiwaIew0grt6YuVO5p6l/t3PTmNaVzUMcW KklpIM+arvG+aqmkGs9PwfGimjFYu1W3B027NfbUg1I79F6fAa8hPwzRilQ0OFFGs52uA+sSaJ5s bgswjwRTSBxYPgIlj+Qo5bQHMtd+ntf9JRIouNajkiKB0ypgMgiNOH2YTVePF6udp49pIaM9KomP q9YpKDz6qIVKUqPHo00yj6FFyXK/xj18nGELlRTF6TxPNWuzI7n41lik9u+hyMhO73yrVgvTm646 4e4lzLf/FpdH06pFxCdGgljPZTGEVtS43j33Pyu03GpK11BJfOwN8oxq6qGSPOVEZQGVpEARcIt6 DKdTQ0xBofRRLZVktqSPttI7R3jRW6gklK2mXEfGEErokSnDFYN2CnWlehpOCqsxhCKy/FobYhaF o9ZSC3ofwk+NIbTCE2iM1qDlnlRSsSz1SXFRmmIKLPDQZz0qyePLtS5oh+/vZSzhdKpTDKXN60ah 1dOrpX8i7+VR8AyjI+9fJVY7v3tLwy0KO13XIrBySFDTAVoaQuMF2dqDEnofQinPr6/tab8SVLhp uzKVpKb30VRSWpY2vhdFaYopwLqPAhdeEDqDUkdmvvKLyjIykF9CZrx6ZSuBFdozodfgHOo1lNzC bvfm7iHMtUoBGE0lqZeQUUkl7EklPdp6OQqecGIoTYJ7RlBJrYrBLctsNp3tYu+0vanN3eaiJgjL lBa/XQ1xMVyrgo/7PIR5pJBrKGO+16MIcS6KT9SOHzVeVZjr+K1Jl72dXlpXy7onHVRS1rsgijOU Omt6Hv8aFQKQlWULlfT9Ha9a9vIq1T3LS6krzq+mrL8BPDvGzG9TPseWrSdgWGhqeiXvuAb8XPGm ttkuc5GmyexjWtgbkGP62ENPoUYY8zVcH7M8vsDnIg+DPZJeQaP5tcQwFGy86u+tCp7rXnNtJ30+ FHumPRyvVFgW0PqpGDEwvHx/i9CvBQdBGRj0GhsYJWA6eXFMksAWeTxFldmspimpJXpShSP3MSy+ jKikKEDNBcy8rRZEnh7HMlrgUbdMpW1RDDX3bOkjw3j+g9MejlcpbKQQogffW6+Iunpjichb82bc mPULGFY03YqBFmBeFQPLZNVBxZhCiSrg+uJauCJQDDgHoQ9k8RwIWT7nBe/5U6Eesnp6etzy7CKa cYvnV0P34JrWOEQvlYQ0Iuwua7kCWwaYl04t5suAshHrKbwOoXQCgIGSKQWlHkp0kR6z8GKFsIdS OFLJ7OUVRoOOhUhJwDDPXSpnK5XEfYnLMs82TZdNWrDmZp4mm0/T7XKtQnHr7C34+FhyVFw/1BHQ eI6+xhMb50VKt+RteeNNYzpbPT3FQM8vTJtdv6PwcPZl4Nzd4l7zCwWAEbODYlDLfO8ZB1EM4YiZ Dkd7Hkd2WI8+igRMK7XUKlCUXpFPXu2sMTQutvuO5hH4+/cu1Dl2dj5fttJWxYA64Zi9jY+P5Yuz olld0HQaK+PAN/IRZbrg2HqDtLUrr3vSPhoeZXZo5j1TUAXzbbaRj/vqZQzGsw1RCmbrmUXoJEfQ Npo3BtoRQvsoWuoRg4S3zjYrC5gWgaMCpdSOycprXu082Zle5LnMahdPAeBnw54CBLwKTFW02d5A retAMA5YuHF+uGZEDKNUll480nJ/qNcwMPN6j+HqJYx8iCqYe6egbsn/SE9B8947/S18cC+iIGkk YPS4pBha5t8j3UDYTZPd3tI22XosdCuF0vW84A3Xs0DX+mmbcj4azylRSXqveldefvw5QjFE465n bOzd12viG73gdxQ04VCtJLRRxus3Jz37lvuomUZZB9NYRq+gbuG7j1BCGPA1wraUDqNUz2w6ZUQp tVJJtZamCjsWgmaXOMN02d9rmpd+cNPitay8pfZljwrU0vd3mUritjqdygFiz9vC7/DUNdYTeFvd XqiWRbH3grse7EkVsWVy29Fxp83xSlRRF3qj+OiQyq9GiqHloRztBegg9sq/B1Xm8ZrYJqFEJdV4 FGrpl9qVqSSN4CKNrdw1W9StVBKU5BWXdy7Y7dWdM7GIQ5SCWdxftc5QdKhbRiWxl1GIoawUgypr VbLeDLKIWhrlMXjtcgRbsBVHKIaj3lewm2IwGzMtdK8pqEd2MBZ0kfDU2U69YMuOkW0toeWpGeSZ 2x+lGQWhcc1W7noLlYTvgmkym05mJ+p6w5TCLYOgPkxz4RjfYSzhD9D6shfEaXhWPccmzdZ5c8xC n4133BOAr2mXEkaO7RYl12sMZ4AVP9l8my63p8dQvgh00YYyaENFlrJ3bsQU1JLF2INaqkIpMK8u +vsIxYDB7wlUDPyIVmDawHvNJgscDZJ6lp6XL/LiNFXA4JoagcOWJv9FUIH38WEYDnhTm31Mt+yH KoUIGZ3mbVvO4LbdYtVzf/DKkM0Y42N+dnu0Sy0tOwqHUvMFQDFsjjNIWi34MVNQ9+5AXl34WN/1 wIKfB/Ve7cCDlL0peAw47wnbbJB7sYGo3BAYEZTqUAFTKksvqO2naxt5L+Q5RCmU6Bx+TrrGQeqy KZAf5Q3vK3suOB5BJWXtUnPtb1EMvd7CdsVwVQbngYqBH65a0KMVQym93vz4fhX03vui1XPAbyPb ILLAFWqR47PGsoxooMxTiHAkd60QC/vWdLLa+RClYFamc1g5gEbi/sL9zvO2+LiWSuJjpZJwLqKW Rj0rLVt2HY+lETh61l6G0VRSS4B5mdfZFlG3EVAhyAJ0D48hK3tPB2Khr54BB5BL9Jh+7wEGEA9M PuYyoJy4zvMuIvqGhQ8WTkVKofRc2Xvam7uO8r4qh+l0smmaFqudu5UCt0ONgCnROVx/bddIyfKz 5T5ZopLwm0cl6adSSyOfk1dWhZbnyLyPxEgqaUvuy8OdFINay6NdQLOyUMrgnVf+OlJ0ntKJlIJS S1tQshCjzg1h0MIXe1SSpqkUUSaQVNCwMNVPT5hxniVoWpI3r3Z21ym09lGld1oEnNI5qhQixeB5 W2ZlYZ3FN5hKegTll0G9158MVQw/BipI91QMvenx/Z4y4HKrUvACg+oZsFLIFBgHa6Pz+ORBGcUQ SpYljmupJE8xqIDzrtOybLE01cotPfPEyp0+LvWczfEU4BW1epk6/78UPM/oHPYAvTGjVBJ7W6hD Td6eskWf1r6F67zjo4Q0t8tPBlNJP1IxKNWy11YTvfQMhLtHGan1//V1P69rETK6LKOdgNMpjhVE 9JH3HXWpGdS41hvkuhZBF1MhHbQFP1+ltdRbalUMLMxKnhdTRygrCUJQSSuloBZ0S19VJVwSXiU6 R19Co4pBFR/3u9a9pjRv9X6yz9FUUgk/XSkAP04hANrBRvOBih6Fk1FGER3Egr4UQ+C0PIEGIRFZ Q5GnAOGP7zrgS4O6xBfrtaq09FzJw9A2bhEqmkfpeatww2/XY5c+GvoCoMK4VkWH+1WZsYfK+bDi Y2oJ7VrjNXh5c9reOa+cR3oMbzwAJSpDoQKRoZaODrJSXi2UU62Q0GMW1hiA/BsL+n//7td8ffn3 Z16RRzsxMFC9NmFvgL2D08nsz5+l9cleBf74HCsftW51kPMzVdoC1/M5tKsX71ClCEHGZS/RaC2r nbXfkbBL37zGAnkP71bzYr5crfisLKr4tG/VrAPRvFnpRjEMR8m+BfZPR+sDVgtwZH6jPQxOz/MI NG7geQfRK0U9ZeLlHwmaiJdnAYsBCC+BA43KT0eWHq5PLOnVM9FrGV4gOYN6KaW8s/xag/jXfNLZ R61xjB6U6Bw91rKwN9eiFKK8VQllfUQ/34rhhyPityMoxTIyr9GD0qOKWPizd6C0EG9LwGlEyiTy niK0KAVPSXhKgQc/D1ylekZRSS3PYIuAaaWSnLyr3ryGdPdQDPoc8FmibGqpJI03ZeVgga+efWkj PT7+DcHgH4F5Nhu1rcUtvQARjTQir9Z0vXLyIPf+dC8a9QawsyXoI1UYnqewtT0YzAHzYMfx19ed FmI66XQy+/xc3geBjzJF3LKZTyXxc9JnVqvcI+6az5UEDCs6FWacn0djWbB19p4egZefHmd0Do5r qCSkxxRQj7BmRcNjiL3UN54bh25rcSQ2WISL7yqoOYbgKQUW/EwhfX+b/fffmj7KPIwW6CBWC02F BOoHga/ehL7aETQDhDjOH8EXHylg1BOhtIdNSe0BtzcUtlr8eoxrvbKqktUZX72KIVqMiPTfeG7c VzBf/76/bYhSMFtTLkcqh1Yh65WVYwP//i1pH/YGEFhWwQ+loHEGTT+ikGqAALFZ7ClE37+/754D hKG+2pEFMq4382kCDvCOwJECRumVazsNnZLaC41hZJ+gCaOYCvdzVio1gfwaKI34CBnwxnbs+mY1 s7X1fSRa8tOB4tE9EX2k3gTfE1FNGlPY6inobCT1FCAg8J3PI/+MpvACk54V78UjRuBIAcPPI5qS 6gXMj+LIM8HPxx61pO2F35k6yjw/7mN4zlG91dPjPLxY1BvPCId7HJa04y3oZ2t6W6/37lVqxYsB ZPEE73fcj4Vser1SSWwVR/AGIA9qUBssKMzu3z8/l8qAFYXy/Cr4WWGpkM6mIo4SmvyMWMjUKCEV ZiVQ/dxAM7c1rlf6Zi/jJ8o7K0tWNvQ59OG/f2PPj/P2gsmatnp6fMxe6htvmNnSit4ygFqnGGre KuQ8T4C/Mw3E9NH5vKSSmGqa5/V9WLfg0UfsaXiIXHteX4BB7VFGf/4s6aV5Xg5MpY/4uwoSz/vQ Y/6OvEZB+0+J8ti42rlpSuqR1JLmjd9qqCWtOx9DWGeeH/cfL2/PI4nyfyuFN1booQF6B516MPqX BZe939WjOJ8vSoGv48Vs6pWo5+DhdPIHEscWvCCyNyWVvYPsZS46i0itdfUc1MPIpqj2gstSO98+ olOctJumpCIPtPlWg6cWpdXO6kllVj36J75rbEmVLtOWmrcqXVKyK7qRDZc3fhkiuqjXourllrOY wdfXnf5Rb4A9AF3BzNd6SiGjj/ScYpqW00f13N+/90HGq5mnaT0llYPLZncLEQNazwFIh3lrFj5c Lj2nXkUNlILiY7ZU+S8CW7lKaTpYxxQqNiFTS3pvjyGbkuodZ1a9ehF8rSrdKO9I6SqdxTGM0nN7 4weCB0hrQHVvaNnY+mSaIoshqOCPruUpqlH8Yp4vaURgq5sHkrfGQLe9YKuahWPmKaigYI+EvQFu S75O23mLVcjCQ2MYKMsOcJWCmVUphkz4jkSJztHjjOYqTSqooZIyhajKWL3Lt2L4ZdDO8ExQxaBK IlMImVIAXeQFoj1PQakkD9/fyzhCRO/wQFaFgfOoqwpqPvYEBRAJG6/svVQS9x0NZu8kdEOlAI8h Uw69G+e1oETn8DGuj8qGPurFlmqoJFZESiUhfeSnz/G92vkXQrnzZwILdxX+TCUpfcTfQR/het0Q T+9jQYd2yegjBnOyGKzMBzOFpPSRt07h6+tCTf35c0nfo5KUasJ3FT7sfbAS4We+hUpiblrppCje 0oHUU8ALnc1iQeZZ0ntB6RxuH1amtVY9DAam5Vjxq2LIpsd6acNIQdqRB/zGdmi866GIYgj4LbPu tPCepeOdL5XFS0/LooFi/VOLX5WFd569Ds+LiDyFGqjlrRQRC161yviYLTTELQAIYh28Zvf7kBe3 LQsE75myJdvaYfUZMu1XSksFZoJ1oHmOX+gcCVcWqHt6C8hLaUHkCa8go5YiusejnWpjDFG7sDdi tqYjHy7EfgC8vvgwKB3TikiIcIfT81lZvHRUmEQxhNJfphR0mwtVClFMocZTYCENoc8Dlqkhz4rW uAELLz7HMQm17viZaPr6zPbskK15ZVM0CWulcG0o74XO9jEt2oSfnyrNPcFKGuB+gSnTHrWk/Y7H LmhLVrwRlYQ0lUrSdvn3bznBgddJvKmkMUCb8/h+WLuygN0yILhzIa1owEMARmDhzwIkihEoDfTf f+sZR7juf/9bCns+x+sZzuflbCTeOgP14+81YGUQ0Udswf35c/ECPL6Y2wj38jncz8I/izfo89h7 kHNZPCXFUMEZBIPXSkFMZn6h83T1GCJlc+RA1Ly47UEdtlj16imY5VZ9RCV57aLGCZTEwwXYD4M+ w4d7DVFnK0Gt01aqqFQWts7Vc8iCyZnHEK1ijoLQrJw471pPgSkcpg7YqvOEpAp3DFhYjHzO7H7e 44GVtmIoTbFnZ1SuvJZKCugTf50CmdfTdPnOAWemxB7pvnuKgY0B9EOz2Krn37x4TmTVe0qX20Pb msvCtBLTn2/l0A/1DBe7ot4s99nMBgTAMitdLfQSmBvWP5wv3Z+dU4scHoCuPta4ATwGXYugHsX/ /rf2Gtg7wDG8BgzArTGFKND88XHxCjjW8Pl5DyibLa0yFgTqKWCLDI5VmOWegjcldQR9ov3DbN1H WADVKAYWdFTG4uK1V4RH82VWPZ8z848jwa1KF7/VrJPg6bCesfHGGKw2vzuf7997wYphSxzBS2+v 4FwpjqAxB/UoamMM6jXoDKaMPqrxFHgA87RT/LHAUyHNayGymAKf02ClR8nVeHQjwHkqXTEo/1+h FCIqSY0F7kN6XEsl6WctlVTr+b2xDYutss3M5gECHGD3pHdgcmfcAyr4axUD/7VSSRxT8N7DsCXQ rCuXWUirJ8HwZhixdajnMqXAAmQrVbgFLGSgENE2A+DOPrplcEAFmYYaOQ54WrKZTyWx58SerCoD 9c6UqmQqyfPkaqikbJ3EG3ds7ZJLpUBCaWTB2LLuTas1Db1eFRX/MbUDagi/8XRT/lQ6CX84ZjqJ qSTQR1GgmdusxVNghYBBBGWgg4oV2TRdyog3sLFA560wIGxxHlSS2f07FIwXi2C6SWmaWoonAgsw nYSAutfGFZAeIY4pHGS+qic0mkJhxeDlF1FJ3C8iasmjknSdRC2VpNe+qSQfRxhiLwlPKajVr5SH HkfB5dZjz/vQ31ghoLz8O6BCj60tDEJ4H7xqmYU5Q70DzxtQIaHt5FFVntfAAoSpB/y2Rx9QhRFB y0LCKKaP8JDMzKbZ7PRhhZ0vNgNZMbUzUg/9/XunkMyWHoHZ2qrXsrBi9469ALTXd7lJUQ6mkMzW e269PYY1jvLSXw7cMGqJZ0Kb6R9Y/+wR4Ji9AXznIDSfY2Wgm+WpwtDysyA2Wy5Cw6DTaacYeOop zPNySiorDF7XwMeYggqhwV4GKw8MTs9TYKinoAHhkQqC8y95DExxmN3aoRxTOM9mJ3KvdgQrutEC kT1Js/vzzqz6zKvIvBvtq2brGAYDzxF9473IrQ5vxRBAvQENGEeeg6c8Mg+i5CXUeBS6CR6Xj4Uv BBwPILXQPItd02erj9OH8PcoA20z/g3eAJeNB34UmNzTc1CBVkslXctSEWiGxp5tms9m0+mWzh7w aLhRUCqJPUlP2EdUkkct1VBJ2ToJGDd6/1sx5OB2bG4jfQg/qZEjYeYdR79lSmALpRQpkFLZedqg 54KbLRUBqABWCmzVexY/BhsrDP7NaydvJpJH43F59XOroKsRlJx3KQ8SNv6KZpFCl23xzna+fs7T ZNPHdMv3ldx5ppJ09bPZMpjMXqPZWgG0UqRiX8IAACAASURBVEmswJVKMluufjZb3vte/bwTPFfx JzQ0C8da4R0tQDuf15RRRB/pKmimj87n9Tsasu2yufx4LvjkTe+YSmJ327P28XtGH3F8Qo/N7kFq pY+O7jeqAHuYHKKS/NlHgXmKnVMx7/t0mrw4xdND9yPyqCS16rlZzHJqSRWDTidupZLY0/wJ8urp wA/hAJr0UChVpFa498mCMvMaav5qvI4IbOnCOvP4ebO1pwAwJcTeAf9WihsoteR5B4+yjtWo6cXk vY6TpRXMaVwPT+Eacca2F5n39KzwVj+b5Va99skomFy7+hn3aV9CWTBmdPXzT5JZJRzWn9iV579n QU9DtPL9PP1Uz/N0VA1KsxfB97B34C1sa60Lc7dmsafAgWW2+NkzYIHOxzwFFemZXfL577/7d5RJ yzc6gJyBBZby0ID25aQ//cjFay3wtkLJrHo+Z7a04vXYizNkMQxPMXA5sxjGT8arGBq7o6chstiC usQe5ZRdr95GawxhSzsgP+b/I09BLX79jr+onlndS+18lGLw2kXzZqHxVgoxIiqJrXmlkrTNM2pJ hXekdDwKTvv2b6WSYAT9evQ2hBcs9T49xaBUkEcz6b17KQXUha0zdtU9paAUkSoFHGucQZWD/q7C la89UiEAES9ttqYvAsXw65WC2baN9EAtegFqPn5vpDcGr0RN7ope3hpCM9vVlKkdfaMarinFGM7n 9UZ6+G0EmNNFu5j59JEGmtGZvEAz8PfvfXCxF8F11NlQXDblfo/ifFkpenlznYI4yMO3uXgmtGyk x23JAj2ilkpUEn7zqCSzpfHzmzfS+2VdMkavYsBnRJXwdRosVu+i1vvYIxCr6aE8Ksy9P6YFIg8o o8z0Gq9sj+qwmrd6VF7Q/grfv9GH+kvAxgXHrph25GNFiYJU6Cw7/lSoMVeiNt94owklAVcTV4gU wtEolSlTYqWBFdX7UXVtQaVMr9vmwuzXmKO1G+lFlA2aLaKW3hvpvfG0UHqkdJ6PPTqJfztSYLLQ Qxm8qaX8HQFrDCw+7227zPQRp//MrjtTbomgKMcUMuvhB6O0kV4mfJV2Mlsee1SSrpOopZL02mft j2+8CErubY11HXkSR8uQzCuIAuTROa8dMsrsmQdi4TnUKQVIIeZVrmB66pEe4x7QjfS4jqWJFNxs bMWjbTzFoKufA8pvYdBAibw30vvl8AQg/zFKtIfnEXh8fO3fkYalWlZs0euUVFznDWz1KPjYazu+ 35ujbrZWFJy/2fjZSpq3znhh0LOpn31004Kz2Wlt7mZz7l8ZvJEe00dAaYYdewilNuG+WiPUWVej rOylvBXDL0PEc5es3WjAajpRILbGSzgS6qpHno2nMLnepfpFCtWjFTSwy9dzOUcqBs7b816CKapt U1Ln2Ww+m53N7DSZSZrZnPtXBi+CZK8IKHkMbLiUwAszNazjgWe98f1vxfBLkQWDI8EfKYZIoGbC PxKoRyOir6J6KCKFWKPwMmrKG5D4nQfuyHbgP2/hlJS7TSncpJuZzWbTx2TzdE+UufEjPcYj8OfP 8jlzzMqsnkr6+loGiD1wQJrjXxF+0kZ6D+0vTAW8UqMpSlQPo0QlofMiHY9KKp072lOI6sZlVWoo mo9eU7fIY4CFztY6vntUEgSL2XiPAYjmx5PQ2LR4bVq89Hy+7YX006H0jveOhgza9zLF4E14KKVt 9jM20nu4YnhzcL8HGRX0m0DCbfOK5gnvurWTTTbbOVjy8NPAyoANSsTgt1j1EbLpsR5wDsbNq26k 9/DxiWDhK7pab7QD3lA0BfW34Cokura5gMeA7bR/i8dgtqT/Rlj1GbyXA5XS5ns5lvVK8u3hHsOr ulpvbAPHAH4xuvc+wrsVtiqEVx1rEZVkthbiHlqoJD1fq3Q4n1eVb6PGJ78HpLkAKMQrNdxI8MrK n46fFgzdgIdviFdYXPfU8KikaGM9D0wlfX9f1kVE2EIl6epnLuerKYetmK9vATnZ2WY72WTnX+TP DgRcYuY+3/iReLhSAB6xy+wo6BqNXqs+QwuVpOd/9UZ6NmHSnNn1+xuNKG3+9caPwNMoBbPX7Wve HkatVj2MLwjrTEn++XOPiZ1O+W7EOuMOafPOr6+skBnM8qxmVtp0ebe4zWaT2WQbrN3SlNU9OzDv yshlya6JyuPRQXyvpqH3stuqO0aW7t8bpefilS0rv5d2VKfadJ4cP0QcPAd44RnGDnvdJbQsANWx WIK3Zxkf/xTomqEVpusDOk3btCEvTFqlTZb0Hpo2Sz/bztcrC6fjCXb93btf8/DSeIRQzNpB6xa1 W1T2mvNe27yQ5fVUnsJPAPcDj6LJBHBpRbyXF/pbzTRO3eAPaWDm5U9BceLQNF2Uw7RhOpZuoaDQ GQgjoTxllDc6jwo5byfFksDk4+heFX6eID4ycOt5QJ4SKH2vUQwq7COFtJehsAPeSmEHRFRSy+rn WmMLHgnGXU3wWT0Znhr7U5QD2iJco/FxsltgARe2Jp7RCC2BpRbgYSFv9VqQt05ti7ac4D1coHDY veU/zzvB/ZyHppnlvxe4k0d/UT3171PEpNIAnsKM8nuBGR5vpbAT2GhjjyFa/ax0NRuE2o+U2lTj 1NupgMEeCc63TI99JaRhANa8o6ch7s0rl1zKjBLhjuMdexau0lba+aK82FM4ymPwPJjIs/HOc70y OlDbraYsfN+T4q0UdgT3PSiGbOYQKwJVDN4Gh8pSsBIqKQb8hjy8RW+/AioQWoSWDu5nntvuCetS zKBW4EeC91FWcQ0tlCkEhqdMfzjeSmFnMJU0z+t3NCjPz6wE08M4Vo+B1x/c9iucfOXA73dgowXX eO9o+BXg3QdLHJxCreeH79GRgOkSeEZM/0TL4ZUGYYoIaSFtpMkuMtr3qBkNzKl6FBH/puejOEFE of1A/PwaPgHU2NA+quBZSLrzridvIgPO679Ruvgt21DzR6NkOZfwaOu4BVpXtp4VNZ5AZH179zyq npGHFJU5a4cfrhgO9xR+kRe2gFr1bP17q595Tza16jW2hbShMDS24CkB9hrQx5X2rVlp/ePAHVTd LxUYzN0x/aSuHizpI7Us560DTi1o3kGRVzji7/Pzkg72jze77AHPwt7jRblNWJiyZdMby+GBhXp/ frYHlXHfnz/3T/YcPO+CP7coiydVLg+hj36jUgA4eFyarurNfsymWmoMA79xnvyZxTBaV1r/WPBD 8II7tVNUH2ENlfJmyzfyBNiCVvqIrQylj9gS4TbTdR4jKDdO33PFPa8l8hiy+zOXfKuH+ISK4WEx hSdsi0PAQlqNHI/W1Tn3/JvXDyMFAJnFx1jApkoHx627uf5YqODXRueH5IEFT+3qxFEoCa1IEUQU S6QU+JgVRKQU4EFwpxyhGDyhXhLmnnD3FENEnfVSS08mDNdK4UBr5k0lrefRe1SSzrlHGt4cfKaS 9Fozn1pSKkkXtvF1URzkGcH1WJ1r3TWVhblnfZdoEG601nURvVBBroLs8/PuOrKVD9oIfzxfX7e4 4H1X+Ds6ETo1ewb4na2U1nbxLPy/f5ff2csBtfT5uf5jSoipJD5fQ0dt8RqeSDH4nsJvlNQPgFrz KjcYEZUUGa+eYZpRS5F3oVSS2esoBTPH01o01MbttLeCHxZr3KPyZotYrXSdXRRZ/OwZsKLJrlNP gb0EMz8ABpQsx5pYQcs5z0uKvCbvUz2QF0RMHzFf8cYu8Kx6ppAijwH3qlWvBgrS5zGnwWQcsyGn 5zhv9mheRTmop3U6TXaazMxONtt87BQ8fShHTmFF3qoU0Ak/Py+WNTqTWvzsHaCzeN6BLsk3K3sK bOFwu7AXENWJPYOPj3uQWL2G0+lyDh7A379LjwDH7BV4XkaN0sHvL2hgl2MKL1ipV4Na9RpbyBa5 Zd4Gp62L3LJFb1kMo/XlQM8CjRdPH5PdSaQHeAxm8crBI/JXT0FjBpHF78UQ9FgDzWxcRp4CWx+4 hpVLZKR6/H+rx+D9RZ5B5BVE12wNQD8QuyuFF2uPh4H7kifc1WOIZg7VUkkZtaSTSvRT39GwRzug nqPBXpBNJzObbZoms5kyjqgdz4WKwGll16jrVgsWlnzM5fM6gvcXUR/4Y4pIFYQqhfP5HotAWT4/ ly8QZy/JKzt3ZByz8NU6tSqE6Dijk7KgdNSW+tuL4JDZR28Wqg4RlcQeOADPW619szoqSVc/I00c R1QSjvekkrgdmDLbBRO5+fO0bhjNnBumRA8wP7hHRZQbZCXDx6pwPFePvQP1FHD/nz85tcTC/fPz spbh8/N+PbvB4PPwieAVl5Wptcj6Zg/Ho4yYSsI5UERMJSl95FFLLbSRUkgvJAQPm5L6Qm3yUHhU ktldVnkB6MyqV8XA55Q9MFsee1QSH+9JJSnttSvtPk1mp8nsPPkNo5lrw9R4DZ67NgJK//DDVTcQ nWVy6hnRIFx2pYgy+oihc6C5A6E9PfeQLR0cs5WOukHwbqGMStdk3oPnDXjtyNe+ADroo+n6V48X apeHQq16FtgfH5d3OzMyq16NWTZezZYKgWUdHy+DtMs8Wt4zvaUdWJZ5Ru+umZnFmXMQpmbQs6Bk F2/EgGCNzWXGdxXSkSYH1YP7dQrq5+e9nhx0Zs6TlQ0LUX4FIO+j8t9/S0+q9ICRP1vgHANQ70At fM8b8LwG7zvSVe/Do5n0t1bhp9eO6PhKOQao8xQkkXmhEN5Sfg+o4afjuGaRW2bMsoGTBa7ZwIti GO/Vz5Vgrlx5v71nIXHentcAza4xBFYwbNlzfMHsIiiBr69l3lxndCBuA13QloGFPzo2K4jT6VIW 1MObMVTyDDTGwp/e9eq9jMJoxVCpnOrpo4mVwHR7AfpbKewHpVBaqST85lFJZjGVFDEo3joJZQKQ 71sxBFCtzb/trRg8aoiVBQSdRxGZLYNIrDzMll6FvpSGLXlWCtwOLUpBLXAVzqwIVClESkLTzCii SDHsQYOwR9nbP7TdA7TFFD4+jD2Es53o+I09wMrAo5L23kjPo5Jwr1JJfN+v20ivBSwklfPbe7Uz dyizdXwD6xSYImKt//198QT4HDwDCF2zy2///Xf5/PpaKhqmj9ABsVahhz5CeUAZ8XfvmOkjL5is igR5gU6KFM1o5YDnhf7SM2FBaQcH7YHmCf98L0EF0RtjEFFJZvtvpKdKJqKSWGmgXGqU7BlT0v4W ed+r36/9uHmtAmvDUsW8GALfq7RS7+DJLFe1fPWP6SOmiNg6YWGufCZTSQAHvtkq53hNT0yBrXgV 2Bzf8OIBtZSS5zl457xBhrJn9dL20t+1v5SgNF1lWXbZ+0g90zf6EVFJZvUxhloqKVuXoOmw0tEY A9NQWpe9UKMYFu0yXRauIU62aT8kDrRm0EGx51xb7jDeQ4xiDPjOljGgSsFTGGZr+gj3aDyBecka xcplj+gjCH5WBPw9s/A9ZZDFEErKwbO+Ss8sa7NWaBkrsX56g8hgpSPf6IdHJfGY3GsjPS+GwcJf ZR0bMt4Y0rxHg2WMZ7it2uXjdFUGG7a9QGLM65UsQq38yCmqXl48CPkhemXhY2wm9/V1/x3uH29z AfqIOyCELtYq4KGAeoJbyedaPYUo0OytKcB1OvuIr2PaSWcf4b6SAlHFoCgFpFVJo522KAVtm8o0 dt0ldU+L8DdDrXkex3ttpMeGHSObucSClxmHKO/RyIz4VbtMk1nPthca5S8phqMawWyZl+ci6kwk 9hpYqXj0EdcbyGZAIE8OfrFFXFsfjsuoBa/eAAtFL1ZQ4yHon+ct6GeGUl0zL68VWrYCdt86+60Y xiOy6hG303hdyarXvsIGBlv86Ke8ToINZY2Z8nee0p/lPRI1RvzCm50uF0zz2RY6AYUvBUK9BojA VjpP9WQh2eJmQwihsTOPwKNr2IJlvh/f2QNAWhxIxjUsyHCMtQ/n89pTQPyBrYjMc1K6xrOGOW4A Kgnn2QP4P/9n7SlAIagX4dFOXkwGZeTPrC6l8y0xBG6TiLPdpBTeeBkwbazUoSdTMqteLWlNuzeG ocf6uafx0GLEm9m1YGZ2srtgHGW1KfShaeO0KgZ2f1S4skD1ZhTog82oJY0b6KIWpMsKT3/XB8FK IVIMuF8pIxaG/KeWfbTTqV7vUUFezKCBqz8EAyytt1J4cXDfVB7d8xiyRWglKgkyoXadRPbJedfE aHvRpISmyW7bXrCboXN2R0EfYo8S4nKy8PfyKlkHmVLQgBS7ZVx25KeBHk+gspubKUQI78hTwLFH +dRuf+0piIgqeiYMKNtbKfwA8CaU+I7xp7E7j1JpoZL4vo+Pti03+JjzzuidUVCai2WaKsTZJrPp dN1ElSgdk2MVWi2uPrvz7ErV5pWB00Mn4DyjGQX8INBx8KB5nYJSSbzpnW5lAcqIg6b4RKBZUQo8 Q7ir1+Ad6xRUbwsMpYxOJ58+YmXEngTya0VPZ8/uVW+pBtTOb6XwQ+BZ8Wzle/Krls5Rw3ILldRC Le1NJaVlmXSK6obEI9dLwd6B2VhqyqOS2IvANRoAVu2NP44lmOVehBeL8DobhKlHFc3zersMzc+j ktRzgBLwvIFaL0G9BaWsNKZQi96OroO0B2+l8DOBcanGHXv3jJ6N9DjOwIYhwIaeCuDIQI3yHg0t 26osNEXVtqxd0Kh+VhluSLPxioHz0RkAHFfwYhAoF87//bt80PiOfPgYVgdWQKv1j+P//rt/94Jg mYfESoAFNB9Hm9fVehG4HgFr9RZYCW31FnriEvyMegfNtb3fSuGHQQ04jNGIDi9Z9V6cgT0HLz9N O4phIC89PoKuVaN+VZZpMrPZbMuiNk5syxTVPWIWkeegMQwcqzbXGQf64FmhMOWlSogVkNJknkIs tYVa7Xrs7X3EHkbJO/DoIs9L6BHsZv1U0lZvxUHDlNTp+vfGs4MFnScLvHHGhhrGLR9r+khTGYfW LTe8Y6WW9kRWb5tONk3Xfj/LoKsR3F4gJQILF8+F6YHnDnlUEj8IDrywooAloIFmTylw+qwclWLD 9dxJWuqWxRQ8pcAeRoku8hQCp899wrOgWurB2NIOqhQ2KgrfU1gkdFnMM1+/vxXDawACVWlbz1Br BVNJnsfvzXrKNtLLqKWH4+PjrhBmUgjTNH7zOg7YeA9tJLXEVr8KcA06e1wkU0nsFX1/X2YfoG1Q bqaPmC7iOm3plOwdeJ4CUzxecJkpJ13RrOe3BHDVozoSHFtpQE4f3RK7KIP5rRReDmqAspXfK2M0 bTVCPYXhUUkZtbQnhVSNaTJ3imqvdo3yih7aHpqSO4QXCGYoF6kxB/UEoAD4Gv6uden1FLxAsyoI /dP7PLqInwd/1nbOI1zeLO9Gb6EcUzhdgm0XpfDAyr1RDba20SdU0PKxF2jm4ww8HRbyIDKkYRiq XNVjLfteqK13OEVVOXGtLCpSI+hKD03z8YJDXnpcBk84sNvnuWk4z8FlT4srvZRNSWV6SYPbpbby OkSmFJRa0tXOnlLAOc/j2KIUUO5MOYxQ9hFd5A2kJL93oPmHgg1NNtZg6OlxttCs5AF7U1QzQ5pl ghdHaFpo1olSWebp4Cmq0UMyy127TCmY+cElvT7rMN7cY+YiVbFAoEZTUiOlYOb/xnlGQs9TBF68 IfMU+NqtnkFW9gwjYkdc/o15vZXCD4bKmOxTqWE1BEv9GYoB45k30SxRSfqp1NLetGxalo9LxaEY msUC8/U1Gi5rlJqKaFpe2qp4gFKH0QfBHgjqykqBhVRNTIHrEQmtkjWslJF+1wBypEw8ymgESs8x U4i16ddaUkFeb6XwwxExAx5TAO9+K52j6yT+/VtSM946hoi28ailvTyGclkmm6bJJjvb2U422Xnb 2gUkmmm5iM5hGiezKFngaiT/UpllBVUolzrMx8eSBmJhH1FEHn3E3oK2VeZFoA74i9pPlQDTR/id N8vDfew1qDIZhVJn9ujBlrR1/UQGJ6+3UqjE6PjenpSIl5cyAxlToJRKC53DisQzdj2Pge/lcnl0 TpY3y7Gt4DGC8t7K3DNFtZVKQgG4Urg3EhpaHm5ExhYqSR9MTUyFPRx+gJxGtDaBFY1XfvYAtOwe fcT36EyiyMNQj6SG/msBX98SI+LfIlqrdTBQfvu8ea11oQ9hfuLZTa+uGJQ1yJiCHjqH5Z5a/h4z wIYlG7db4ht8r6eEunE6mZ1ns9NVMSgHl6GVSlIotcGV04bSmUK9VBJ+q+Ei2btQDcvfs4dTUpwq wBkaK9DvHq3kfW4ZoHsOalVQWp9B2O3Nayfbxo3Nt3URz6kcMrqzBbXe3UgwM+DRJDyWMXlkK53D 9VOPxDMQ//1bMgJ8r5azNm/cN+qZLRLHmgXVPqXMlEpqUQ5cMTwkVQw4x3nhe4lKUq+hpcPwMZcJ mrwlpsBtlbUlUz1chmh+PlMrpZjC1sEZ0VqjoEpLFeAA7PvmtQ0eA7/16lkVg1m/kNkiE0ZALWmz nClQKgllr6WSzJZsQWbFQ8bxJpxq6NbmjfxrjfhmlCzpkmLoiaRrY2heHtWj1jxfy+e8erZ0GIWu ZeDvo60rtigiaz8LJqsX0VuuvVAqfydcpdAqjHvoIsXJzov8j1QMLYH/Ef2ZDcYaATcKniWN3yOr PjIK1aDy+qYa0mzIgukAsCCWZw3iWs9AraGT1NiNwPSVPg+Mvfl6YrbJTh+2TBwCuiYzZKiV4wwj y5uPI9eL78cDzSgZfpAq4EsdhrW9VxZ4HBqPGDG1jJWCJyQ1fY92imio0qAsDdw9LT7ULZtWuxFh oPmRikHTelbF0AsdJxkGGQELaLwxOmbZwmXN6PGSIc1p672eTPHyVkprFLJ4ymqK6mTLi0ej9SHV VozBlVSvoqYsSEO1v+ahSmdEp2bLntPT37kOnjfQU5bMYtubBuABGCm3RqSzj1qE8UilgPQeRSUN D04W8qqRJ7WUSQsiZiBiCjROyuX3ypbFIiFTIqGu3oNHJfXEbDNECvB2LJndFAMuGL1HUetDylBD EW2hkjT9TEmxNzXiwUV0kXoPKG9EEW0VpqX79owxeAphL08BeKRiYCppstnOg7fZKNG+RymHmryY 2mj1cjN4zIDHIrC3kL2LgL11HHvXmq1jmho39V7yhXKpYhpgIC3Asv1GHc18PNlJ5M+iACWXkxMr YctDwrGXvlc2foAQLOh0Sld5VBLAQWUOSkXnR7jmWQwhEpoj4gaMUgf0ypYNeu+5sZJjKCXWmpdg pRRqlMBo4V+TF7yG0R7DkV5BD0pUU6/BVWPVc9C2hc5hoapUEuqmaTH0XfIRvbPHs0xnXyodzg1Q Q+eo61V6iC0PyQs011S0thE1L4bOWsoWyI3wFFgQRi7rHvyrh5Y8ajhj/t5LEVU+25VSqLXGeUPt vYG8LqtJ56FTVms87mcBxpeWNxsPtaix6vU4t6TXfdqbZgrwJBWkD/Crf3Etx0WR9x7PEW2u5Z4m s8nMPrTNUVG1lksZeK6WovUhed8z5dBitXNZsvohmBy1w8ggHnsAntA8QjG0CuxS/1DrX725FlQK u02ewq28B3oMyO+3ewxm67KykThiMkdk1XvHmSXtbZUTUdKcb0Rr6ys/vUkteyGLp9jJ7EO7ozZG STG0RM5bHxJ/j+IFQGvAvHStTkn16KaR6LWmR5ajBSXFwJafKolWFAZK/zYXvSOxoVK9Qecab34r Wu/tMVgig6tWppTA/S+lT0TewWhsoZLwnWlqPpdRSVzWUTHLEtgwnmez2czmebKzmZ14kGoDjl7t 3PKQsgaNytKCGsVwtEvOz2F0mrX59FBJ0cCJFEQrkmdRpRSKVFENZxnh4GW9wxcxEVqaocQUbMm7 5X3xJbRspNdaFqWS2GvARnp8TmcigUrSGUnwTvbeVfVWz+vWeBfP1WyeTpcpqxnn1kIllR5iy0PS cz1jthVMNb062ANROueIvHVtwuiAuTV6CkXFsAV7zLUsYO++WZv+HtatGok96XsshXe8pSxq5Oo7 Gfh+T36x0vE8haMUg5ndTCY89mmynM6ppZJq+MCah6SN3eo5jMKjKZ1R4Dr0UjlboBTZ4LzblUKp Q2+RuCDFB1eut6hblUdLM9SOk9pm0cCoJ1NaKeNsD6NSWdhY9lY/swHJbcGznDg/DUBrDIJ3dv7z J693y+QPvp4n1uBznu4m02yTnU7KM9FxrcfALlT20DTQ4QWaubDeOa+ie+CZlULNwNBnwgOkdH8p buD95qXLtNEouUn3b4spvJAbeGScoBU6tTJD6zNngdxLd3qGJpd7RFjJ88qVPvWM2qwNsVGo5sVo VQzRdNjz2ZwX8nQ2jAZYtj40FmTKt0Wd40gP4plQUr49grils2leeyvTbqVg9lKdpqeoe1azZebM 1j7oeS1bYg6RjEEdehUDp82MCOqRUUnROQ12R/WOnjGMQIb3zBbHt8Qnsy1valO0UEmKErWE756n cDS19EyIBLBaKVtQalOvsx6sGPpmH71Ip9nKao26v5Q2MwUZtgjzKG2PzqnJv7SR3tZ2Yi9cV0Vz HpofEJUFbaaroTmP0vPVNvcC6UsKbLLTVSnMtze1bUQrlaSo4f88pcAa7zci4l1b6KIINR2OFYFu 8b0nTqcKpTAjhBZUorXTeP47E7QdaI0RtAiwvcdGTVmYwslQQ5G0zH700o8mvURtXJsHC1mkqV5K lJ83I5PLyHSP1ybRbxF7ozJ1EUI4ncxsttub2rggW1CiklhIRa5hxP8p0FAZb/cTUHoW3kBTXjND i0Dynqc3BbVWGbXyogRXKSy5UGi12Sx6cU6reahmV4+L3FmUlusfGUppoZrM6vrrVrq6FRzfaJmC rwoBwecMqhD0O66pHVtds7mmk9nJzM6kQXs4t5bpXN6Cjhb+75GzlI5ETWfsQY/QiCikEYqhVSmY Ga1NuP6dZ7M5GZG1CwDY/QJ6XeSN9O8nLgAAIABJREFURTFrH5tHr8EBYNzVUFlqWETQWUp7K4bW 3RzwHZ+cRgaWX+zRMJ3EadeUe3M73SpDWpgr1NKhSoVBXkz9qDXawv/pYpI9F/k8EqBrIvTQNr0C A8/Mm+3Um3dQryJ9dMn6qhha+ZnomkhiDTRf9/QYtlzfixZPgdmBkuPVasX3QOtQ6717cVLm9Wvz a5ntFaW1uZ0i+qbG/WktjLpYnhdQWxa99qd6DGb5Q32kx8AKoaTAtuQtdVsphWlGJ4IiON87Q43W qykAm7sZUTv1bXyXxc887OlhtEKfOxuIHmWszdjieKkVX7oe59EGuI+PS3mh3B4L4u2KwMYs4+sr zgvXcldjZdQq3LWdkCY++TlcQglcMWe1MzfeFqskc714tbO6V55HMTllA7gzRmV9VmXRIkBLHWK0 YtB2VZpI89aB0pO3Z0hcsVYKN7oID5ncygdxJyM3vyv13da+vddY8AR9ZKiNcLxaQzvI07Pia7pJ Cz2ucVEv3lDKy0tzi0PqeWze8W1cS+I3ZVHLC7cUxhvo2UPxGjHzMDg9Lcczo9Wy3tNdjvLSeEEP ZdWJWCmYXb0EsmhqCO2dMFIxjGDBeq6vQTbjJTLUvOtbBH0rvdMqU6K8vLJxOmzZM32kadTWTZVE 69wGZW/M1secn03LnX0n1nS9lMxIKkk/Iyopsz6eFa0C9kiB7CmDloDyYPhKYT7bjTpiLwF/LRhY KVUMPcK91Idb+vgeupKZBY9KYqDvzLO/2EopEwU/ohK9o9D3qSANj7Xw6pjRXMyK4HlwAJrpNOQX gakk5NHSLl7ZMTS43Eot3Y4/TrdZfZPSPTXR88z9L/F/2UtvmErSgputB0G2sV3Eb7bUy0tzFFqs b+/aEdS5HnuKAN9HzTRqxDrQrFSRl1lrAXbUdr3PqSS0HgXPsi2hNNWSjUpFj4cRWfW1VFKJ5mLj Vcuib4GroZKUPmppl1I9MmpplRafqIkrlBRDi+uVUUPq9tXIgFouTzFN5XtGK4ae63sESkTv1Xzu rBjY4F4rBVgc7B14qI0vwBLZUTGUilKyILN7HxRGMbOlJZ01n1KQkUGi3/l87yxhz6rH7zXKoWWm JY7xXPnlO5xfBC0bvte0Swmep3XzoKbLm9oWDi9nola8V3BthJaH5j0kfihaFlznxRDUu4k6Xwns wWQP7bP/1S83tHgMfD3aokegcN4s+HXVMh+3dMKOacN4o+W6pVkhlFzBGmkZubSDsafHUHN+T9SU LfMomL6O7o8eUcmKV0QBYo+i9srRQo+zYjDzqfEIXnyhpV1K0LLMZ7M58rw0MFHrWm19aNlD8dw+ Rabps44WodbDGC0/WtJD52t5RjXpefEEj1ZqQaewipUCd6wo01pPgZWLN9IrUcqud2ZRKcaQYW+l UTI+WBB7nn0m/JB+TbC6xmPwqKTasYSyRN3Fi4fiHvaGaqhtj0ryypIF/ZFXpIxv9aHP8zzZCddz oUdybq1RfEXGq7FC8gZNC+VS6ryltFvPM0rC1uuE7FLWzG7IytZCGW3xwLK8A0w2B/SRlwE3ADot ru3xAmr5sqAorecza7WGk+4p215AE0bjiZVBZGAyfcMsA+5pWdXrsRS4vlbmldJGObm91XPg/KK0 eNxz2wAj2wVvapvtfHlj2zTfttsezrm1UkkKj2NbVWjOz3Na2TXc4COsq1ZqKHto5/N+QoOpIV21 vMfspyRN7GAR00cR1IvAtVvm9TUUOCrKlnMjzpdwtGJQw8/r4ziXGZBseHrWb4neUbTMdtxaZzYw 2etWRM+U61PjLYxoF7xrYTFFdS/OrYZK0sZhvjE6z8qmZsDUWAKNBmKKVqEaPXg8i8yr6hUY6Mg9 lFFLXgnaPAWzZZyBg9A8GnseasP9PR6D6rTsmloojXA03aT0iZZNxzAfazpsPascgQHqWc4KZkS8 PLw2Zsqlhing8mtZuHtGMomfl3oOasBmU3WjdvHYU3638+XHk00nWzeKHkedSzNvcQNLWjQT5rVW Mruy2fWj3qG6VR55A4fboeQxlCibrFytSqFHgBTapewpsBJolZQb0LpIrUX4ajVGV6VE0zKU+uiF ToVksMGnPHxU3h6PYlRdamIYXAb2GtTgjtgYNaRLnkNLu/D1fHxTOIuKVbypTV0ur3OPemgsoKKA ctbpNK2WwdEDVopbjNTR1pxSdl68YCt2ksX+OgXvt2hU7YBWxdASQFYdNxq18bI98o7oIyggFXbR mEYaIymTFpTkm8KTAyrTMvnmtccoKgnp8/Ei/YmppMKb2vQBRgGUvfg/bjguSwmtVFMP9OFvQYtA qSkPsAdFtANXXVYKLEUP3DoXc2ZrUaKS8Acve0/eP1v0yWXC58iyeG9aY0WhNElmNPIYrqFMRioH pM3yJEvbo7Igx7y6c1fmvBY0zyAqSYP8nP402XW189nsphiSzoOKRvTOVp6rlNc0lTfWy9LZe9Bp mXqUglmdQKkFzyrS772DZgfKo85TUJ6TsaM72FrXrOj6tyX9FtR45x7dEKGlrB5FohYwG4zeI9Vr IzqnZNWzENTPmjopvZMpPPXSvNXOXHevndSrqKWSohhv9KmK+RpUsGmazOapvqFY40WFq+G5vDT5 mBuxFVkUfy9oh/NQ6oClutbIQvVcos9e9Mplur9t9tED0FocNZo8ZfAsaPHAe8vuCTgWgt71LBh7 6GpPpmR0TlaW0pR7Po/vWd09xaD1UeHv1buG5ipigpCYzM4k1GobSitSSyVFwkyPIysC6YX1kof0 TBjN82YxhNLxaLSkmSqFJ3y7Uut4QBWUMno2pQABU/PsRtBezBowNeKNf7OlLFHZErESuF/Ps1fv WcyliR0tU+75mNcueHX38o6oJM6/tmzN+Pi4ewraUDUb5zFqqaRIAUTvaPA0aals3AGeDSUB0yKA 2PJXyohpLT3ew4tq9UKu9Xx6T4HROh747wg6cytq6COlcbbCo48UkEFuYFSOdYy3WPVcrxo6qUQl aRvpRqTRDKNaKikLQpfK1oSooSL3poQS/6dgvjGyGPS32rI9o1IAsrJv8RhKlNHengKXpQHxLqmM Fm2jFWSN2Fl5L6aGvphRAcrpjsDez1EFv1rZrfdH57xx751TaxnHWzbS07bL9mjzysSfXlfTcn5/ 38vJGwziOvaMvPzwO1NfqHtUNvxxOXQIKItg03SbYFG12hmFanG1IPAZXmdmD6PU0dUNzMryaKVQ GhgtiqEk606n9cZ2Sh9ROjqxZjHhoER1lJ6TZ70xvr4ST0FvmqZtQaKw5/eD64PnuMWAGoG9+rin AGrjdRj3NXEyj+ZlucNejHfssRJIu8Vy5rqNWu3MlHlk+LaixtNiqMfBv3nH89Sw2pmPa10tr1NE D7F2FgQLvNqyPBKlgdHqikeyTo/5t6DjpIqhpmwtHVwF6ZUCzPejLU2/yMC82g5uktJDj4wZ7DWp YqvTxkKmZBh5Y54fmQq0TMBFMqVGMZTonFZ4ymCAs2pmZSpJoQoy+4R3AMUwacOY9VFL0UCJqKXa 4DBzjo+00mpR0061iGSdRxFVyMLVNiiqGLKytQojdW+/vwtKwez+cLcIddaQ3EDrC2+f82z8QtAV XcBWqtJHvXGDrcJioK5bpekZdxFtofcr7eEhO8eWtRdnYAMJx7UbxnmCn2VKpOiRT43VrzOReFyy zIqUEPe5yPvmsvAzU3jKzju+/F2UwV0x2LphUDA+5g6TCY7IW4j4wFoByePdK98RqBX2kdfE13kd VKHWhlJEfFwZR5hstvN8X6+yuqpUNi9tbyBxWngpiasUjniAVGCs5ETVWSmc52Uf189sIHcW6+FQ B63VsPECqi1Q+khpk4xa8vqjUk1crpZnpmUpTQNVT4FnJZndlVZUlszb0XPaZof2J+0wrRyc95Ba oB3kkcg6VEmAlOAJ34wiShRARBXBU7iUbzazTmv3luG8/M7tQH9rpfD1NaYAGRYew0Srl69bC58v CuFMZSXK66bYomfaw0kndN/hgBAr9V9uI75OrfqWdoESUSNUGQuc847V4NSFtGz1t5SNPRCUpURN cRwU18I4+vcvLkvm7WTtFLXDruCGReFaNW7taufo3j3c5lZk9WbLciu1oC8K16ml7BFUKAamiyab 7WTnm3q4CMFBywS4XdTCfrinAEzsJdyVA/SjCjulizL0VuPR/ZpRKgtb7ipcPUu2BV5YSa316LNm kVtPHIH7Q0n4ckzkdFpTS9/feVlKhrS2k7bZ4V7DCFdsi7tzpPwoIaISejwFwPMSSp9ZUd04wvVv dJuqYIVADT2FEkq82qb06O9KH3HZvT+zfsVQI2xrz+09FkplzTx3FVQRvRjBo488KsmjlmqoJFVY uKemTZka1bxwzJ9eW3jUTyRLuf95deNycNmicnvXLjwsCIlJLubx5mUwkkoqYc/B0JuWCglPkEQo yTqPIlKOlNMJBvHltUun2/drQZefWtatVoZSLTzwUqVQ6gxaYXaTDsYW65fRU2TVg4+ccMHevlcG lh+eUii9ixzXqVwyWyuAVioJljtb6FupJa/e0Vvg8KnvPuDvey7w5/R5yN3b5f7aztkmO33YsmH4 4tJmdT1UUgmtVFMregZ5r4DIZJ13nGzGp5t83qmiyU5b4gathjhvi/D1tVQM9JxzT6EkMTWo8kA+ sUcY9+oytjgfPRMv8gTYAo4s3NLYiQKqPC0zo5ZUMSjVpN5OD7XktYsXGMZ4ZtnZS2u1IvK0zmdz pqia31CRezOCSqoZ01uophb0PoQRHaiFKkpkYXEtQmu5WqBcvLMHUJk+qnm1Vok7W9FL9895vjFn ZrZ2uUufRvf1eFi1njLnh/vwt9UoG4moL6oFHN1bUg46FZO/s0HlWfw1q58h3zwqxmtXNZwjsOGs 7aNxQ06X826Btk1EOXH6Okzux5cpqrAmp8nW7g9n5s044AfSUpkamgVoHUSt6LX6tS41AsJTBNmq 5UJg+VYUVQzzIG/mlkEgINGG/Ic9YK5YK4WIR2stJH8Xzu0+DdUWSmG2ZZ8ufdZ6tluKXQMdzM+M ksHI5/AZIYovRBa3HmeeiteOGT2uXkvpOaAMqrS4fSJPqFXRe/dm7dAMz+3ZGkfohXaKPTHS4srK GnkGHjsSCIGmF4aNtiQ5PRaa3uBOPYVI029VDNqIiyUZFwVx46yl7KoAPMXQUpSR18LNdyi5p4UK fTUmaxQCEM1EYkWQUUvazpngLdE5rFBqhK2O4xJ9VNsmHrRspXZoghbU7Fjei9GjPbegx2NQRA+h hSoK5GbrWySH1ovTUmHq5XP9ba0UMrqoJZjEWnQRfLkrA7zAfDZbLFRD2TkuoscthlDr4Ku9HuPO 2334GaEUisYR0a9raRNlLTzqJaKWSlRSVHYuF5ed+0eNcuD8vb3fvPpslXVaNuSF464Yrdcw+gCP Ug5HDobRlpjXYSKKKFq1HBW18S2SQ+umlBHWI7CgZZzPDZ5C7XkFjwKzK2s03f7m8502iigi7w/1 9bIaVfQSeGB71utR2OLEZbFJzwOI4AVvPcqklkIptZungPheDV6X0uK2KNFHvUacUlZ6XJVGtB+O NozH6R1lubR0/t6B0np/JPgja9+jjCLaqLV959lsEVHVc0m5S9dH9ErExRPiKakZBnaujCLa0l9G Fv3o/tqDLYqB2QevD7ZSSRH1gmt2oVAEKtBrDAVvbEcxk5HefSuKG6UxnolaKuFRA4UHAXeA6Hxn DMHf2C5RDFnZPWgMQakW9RoCKimefZTwZFXnG8DuNddj6wCsmTBVi17v+4h4n/bdWuxBJeFapV5Y GQynUAToR8ijhkri8kR1YE/nEeAtEYCiYngWaqmEI8viCXh4AHqdRxkxlSQoUUX3PRvMzM5X3vxs VUqByx6BXzPIaxG82UaqHK4oT0nNRtNgd3TL7KIIo52dnrLs3dfnuZ4yUYykklCWLAidUUuj2Y0W Kkk9Gvzm1eEZPAZGcZ67ujqPnKWU4WgF1eIpeEokQSmGsNjGonUrixqPgYUoW9yekC16CpphyczS 805Dz0YB5nm6KEfzdaNHI0UIlHV10fVcyRJupUpZGe8NtcAzaLux8eO1u24mV7v6GWkr1c1WN77X 0t64nycfZMh4e7SDlz+PFa1DTTv0AmWKvED1GNKGwQP23DRk5mW+FT0dvlcx1AgFtfijGUSeUsDv 18/m2UUrBM+gVA89p7QQbXB3Uwb6ovdg4NWtU8h+1/OrRi5PQS2hdM1Ir6CUV0t/H+X1lKAWeCkv T8iwBewZkF4wOYPHx7PC7wGny7JtKzJDmr2wKAi9J1q8nWLDqFuI37x0eumcR7pSNZai5yV4VkNh yqlZ2SvowhZKI5qto8eKax3bZh/VnHNdstNtwRoa8OYtVAqJ0jVbi70lr9ryHqkUWBbU9CNPyJRk SiuF4lEvyKcXJdprS1qeImAPJwqk7yn/VAkV267UMDw+lcvjTEdQS4+MV0SDPqKESjGFZGDtqhTM tgVBWQB5s46iZ3M6Na5TKHFpqlknhFVYKZidzW7rEjRAnqFEJZWKVkqPvWltNz6utRCzZ1Bjzbcg o48iY9DMb7NsPYAGjEtUEpSLeibf38v92rbEFPiZe8+klpLCNbp/HNJgKkfLiu+98i9rB66b0t/u TCTlA/UhKZXkFZ4borVyXMBWjTnKYogEOcsnVQqe7Iv4O0GVYphns9qZRl4ZVmnJsacINJgceQqU Rz191HqNltfunkHm1fRmXTqf5ZF5WDXeVytKSq4FkdGHfFT4c9t7eY2kkrzyaN5sEY+QC5wXW/U1 /YeVTU3d8dsIxdDSDvpyllVFWqikkkfRUrmSJ7InWiihzFoK0OoVLJ7LQikMFiAaOPYGZeba0vNu 8xS8DCpwPi/pIo2HbFEMWdZZFbL+nXlYnhLuRVYWz7quSc8DZIK2S/SiLBia2c7L3P5Iv6VNNA6q 5RytGFpXO6OuqhTVo0CZR5WX3/KGvCLwFNWznWS6oy0T8IS/ehTeDAN2hVroJG6oRyiFSPCrp5Cl EQDvPqgqTu8U1BJ4CqoGlrXdmeJXUHtt8xS2XGtrz8D7HJX1Fo8hK8senkJNWbYoBu96tpZr8laD KjIY1ShseYZMibDyqbXqW6BWfc1qZ65/yZAeaRBzWWsUTnFRmz4gVQyZW1jyOEoY+RBr88uCwyVP ga9LsM1joL/RAsSjiSKr0+us1C59SgEZhFin5VFGLGS1v/JnpPi2QgVYTSyGyz8SmpfOgulNm5mC mkesSomFk3oMmUJgQ1OfMxuoPIZbFGJpbHvlwWdJQTLD4vUHrfto+cd5dimGXsGvVJNX0Aw9DbPl 3kzw13gKPXkzFnTR7Uc5X5mXtrFnVWeCVaF1p3Zpfx2nh0Xj34PL+K5oCS6ru55m7aAkwHl8eMo2 wx7KgdNmKqEFnqWNcmZ0EaMlb/VKtV34uyoXVQZKJZUoFO0fW+hvbaeMJsum/x/JkiiKq51LDdVK NSn2XLTRovm5nNEsCnbzCmjdzG75BjWm3FQ5OGgRZhAQX19rBSHvR6jKi9pljFIwkwa+vzMhatCW GIJZ+Rlm52qEOz5LnsKW9HvQYt0zPEs7ojmiMdKatxd89dLzrpumdflaKJQSzVUqN8oXGdL8lxnS j0ZxtXOpoWo8Cs9q3Vsr1rrLXL/IAqr1FAgtimH1nuXWGEKpXGy1qoXNlm1LXtQu27a54BGy+P10 1YfsKdhiCiqjdfCWLMYMnlXvKQNu01ovoEWBbMGW9DFGIw8gykeVQ2veGIueYmUjh8uI8nC+qtBq aGCWVzXPT6kkVUgoo5bHS3tvmai0W3ptSTFkm155HsUisaSie7rOyLtGkHOgWa/fUykQXTRd77pI v4B6aI1p8DOBR6DbYDuv13TTU0unmT7iBB1NvHiTmrxi06O8etBKvWXnVcG2pvXMYCs/0uve9aPi GBk4hqCeg9m+eSu4X3qB9ezTM5j3hObfRXlrnCBzH72KZR7G3g3RUvHGRuqacnoLIFdQRWZtwkxp DC+O0JJf4k3V00dM9i60MNNE9wlYt/ckOPXpRaktM8UTBZcji3hPw2dvRPWKYg5HKAQum9JHj6Jg tO4q36JjxRHeQssMqiJqqSTvvixYfQSeUjGwdTlIMWhwLlMMLXmpBURoiyl4L6y+eQj3VctnM/tO aC/1WLcgnb9doDxYWDJltDW9Z0ZEF4FaUsWAc2b13voWcF5MyzDlNXI77Qzok0y5KYPCAj+bpDPS +CmV1WyAx5CtRVAqSREFo48YLK0Vb7x++1qE+WoRb+Bcw8KI8OcN7vDXEkNg+qxKKdRG9G7H+Hf1 FGZz/2pnSrUUpYRSDEHLUlIMr4rIA/I8Bj3X6jlwnKDGco48ZNzbwqWzM5vllaXDeaohjd8ig7g0 Pbem7C3QsrrXeKudvcxb59VmDdE7cGvyjuKaNffuBvEOemII2vlViOp1NXkFMYQ6+qiz4TxLvEUZ tBTlHUPYBo9L1/NbqSSlhFoFpCqHFspE5ZvH+2cKMaqL91ma7t+KkfKK1ys0KYZokD4yhsBQhdAr q/bezI7RWlaPKmqZBZPFEPSYnuH2N68V4L3wZysNUypKyV3XleBZWfZ0/Z8NSpmMpJJ07UFtP+a8 GewplIQ5WAzcp8+UKUy+NkuL81cqyWNQtsqqoW+guxIbJzvfFEPVm9o8TZpRS49QCsnbz1rRuhah C60DyRNa0TYWWV5KGem7JGig9L15rYAtym1rUWo8BvVgStf/BpQs5x4qqYdOQd5my76deTdZ/mrV czq11JTOkspitD2yajTD0fxuZ++3LJByJNTSHYin9Ro0ptBKvUSUEX/SQN305rVL413XIcyXOMLZ 7DbTaHGtlL1Uh+w5exQHw7MI1VMpeQpZ+j8Vajl7/ZUt/hZrlg0VpMMKgo0fZSLYM9D+UxMfwHku u1ev2rS0XKUYbQ9GU0nN73ZWsOtVGhgtFsBWa78UQLpitKBf7Xo6z3aXfq2JUdm0XVlwsQDj77gP aSld9OdPTBdp+1Fn3vDmtcnuTeNPQd3TI6iBCh2vPX8TTVQDtZwZyutvMdLYyvY8B83/EXT1FpRi GM+E5nc7K2pdvi0NsaPHsZ9iuEq883z/3gvmbdUrqBFebEkxXcRKIBq813Mb37wGxXBXCq1vUiuh xzNkJcpt6B2/cQdTSQwNsLLQbkEWePaUjsY1nhVKLT1zeZuoJAVXtIQtDbHjApmRimGlFEZuhW3m c9210zc1huDFXjLvzPUUCvzNvFAGp5tCOEsdaqfOZgaCFiVy//HptaW2Ka8C33PwHh17GwWvXfAb G4BbqSROx/OYPc8WtIzSNb315r7DdYvS5rJ53pS+muBZgXcvAM2KoYaz29IQgwLHEboVw3z3CKZr iheKJFCApbp4XDfzqd42Fvju5aWxFngKjTMfNm2IN1+9grMtB7dnlZeEY2sf0HbUPL3g9qM8g1dV DAqlfZQy2XsFND9bDV73ztbRtPFbFMzec0rqkeimkjJo8PLggbePV3BJmRWDK+j0wdfOjvGCnyrU FNz5oRAGzMravEvq+Vy3arnWW2gRLJ7i4QAydpNVr+URbv2eOwoDGkfaA2hjtpT1+96rn82WAWmm T3vqrW87M1t6Qup51+xA/exKwWwpPKumrLaAG+oBSmG0Yli8JOf72xZKgWkRr8PUzKdX74CFVka7 /P17/x7RRY3o2jq75CW0utAt9YgoN/3cWpaR2HtMzPM4y7kmL7akPQt+L3j5ZFZ9C7ROyC9StqyI R09JPRLNi9xa8cCG2DeO4Ag/s7zDZPCCyrVTTzHoNbi8EQ3bXEzXvyWi8jM/W5W8c95rB043CyBv KUvW7lsEewuNNgI624x/Hwl9Bi0KQS1ybZfomeEe73c+r3nxZ23dmAnImAGlstRjGIld6cEfrBi6 wFTR5YexA5o7ryqD0kwjHegaP2gRboJ4mwuagnp3Kn0HUxVDCa0L+tjKV3rKm8pbu+BPy1K6p+Rx ePd73ksvPOHPwdhoFtpeY1NnCZU85tJqZ14zoQK6tR5gMZDfyNlBzJBM05iNHjPs6YU1r35+IPZc gbze3A6d86ocWNiYrQO52VvfImGm1BE4bwV2ajRbxhAw6PnPQyWXndNHyRRURWswt7WDe9Z/FGDu KUuN0Ig8mIiq4vKNiDFkMQQWqHz+CGpJg9AlxcBWtpeWF9jeGsTNrPpeoHyjlY6H3YP6NGX1WZWC 2VhqyMMihmBmtxlG+pAxsHQqaMbrq4cQUR4RlC7iPKO81cpKkCiF66Sr6eROQZ1tnX7rgKjxcrj9 vNhLq8cVpc0KNhPu+IwEGZdN79VyboU+e0/Y4zwbLpGlvWUGWNS/WCmhHBG2TFFlpdryfmRuA6Sd 9TWlqmpoT56S2qv8s/w644gpePUzpq4+q3IYrhiILropBaxBYHeYBQB3YnSyyJ1VZRDRHVGQige8 RxeVlIL+BXBjCvc3qV27xFUJnKVNSnTKFnBZSx5BDWriO9E0wqwskWCPzo9WCuwNmK2FL88U8gSc Xt/Ku3NQVu/1gtCjoAaVznzsFZZR2jXBbPZoKo2yFI+k4nWRm2Kkojh0zyFBPOU08AxY+PJxpKk9 IeB5BZ5A86acquLJ8t4IRymc7N5UtGL5fHemvJk+IxHRbp6SqEHUXrA8ddZJbVlaFAMbByOVQo01 y3Vji5mVRiu1hPpFNFYLldQK9iDY8h8VO1FDgY9rt+6uYQFq8KyKYbT38ByK4SrhNIagngFznkzb eIgEiPLcJcWgCkApo4FYK4Vbr79TRmiib6nTnquDPatc1yLUoiQoUJeMAvTKwu3g3cNl5nxG0kfs QeK71k29Tj0GWgUqt4MnkDVgPHRb6Pn+zHhcRGXZmrZZ+7oIpZJ6nveeEwRKiAK6e1FLLW87Gw0y f+2iDL7Xws7s3pFZWOtAUnjLqmYyAAAgAElEQVSKQGkDXejFwFoE5oT1+0A4ngL+XekjCH2pWy1F 1dOhPdrIbGkdenm1uu64L4sheIpBy+eVX/sBKwkvr1IZOW0OmvJ3vdabjaTHTJlspZI8S1rbcEv8 gvsXKxn1lPRzhDDlvDn2geMI6iX1etOP9BgUXfsnPRNuVBH9zfxZgDeQVulbLED4Tzu1pu0FlWvy 3oCVUvAsg5JALGGUYvDy0t/Ycqy5PjuX1btGMURKwatLqS09Y0CpII15cdoIyjKVowK9ljv32m0k r19Kv4XOeSQ0xvCTUIo5PCvybSsc3leFSSuPH3HO3mD3NvfSGEJpZhNjo2JYKYXIhWMqhKmRWqXQ 4+FkFjbOcxtmq+tLrjyfj4S5HnO7QAng/sxjZOi9imxSg3qT2ndAK/39u+xvZn5cAkpkC5WENEfS HmgTtdgjyuyZwM/kJ4FnKb2iYlhMOT1DIYhwM1t3Mn6gtYIZwkIpIk8QnU5mn59L60xnGdV2qI28 ZZWnoHmUBFiE3oFRsvJBo9RYq6W28hR7dOzFG8zalIJZHm/QCQdaVqUr2MBAet/fl/7EVjfKyYq7 J2i7pxXP5eI6oG2fXTn8RLyaQmBcSi7UkQo37cwaxKqFRzFkYEtPLbzWvBsVw1opiAKLaA62Lhkl Bepx43ocKdIoL6Tp0Uy1XoGX93//LQW9ekl6DoYAb8inXkS2OZ8qHkUWW4o8BVyLPs1TnFUZsHLh 4y0zk7xPbzyx8VMzXtBG8BY4yF9SDNpfNhpSm/BTlcKzYxXvOJ8tpIuUhzXzKZuMx+cO6VmCPPj5 fh4cOpA962xLcK4S4eI1HphbgmQtZda8uO1q6aksv6z8Ud54jpHnFykF3uCwJaYAZEpBdwjlqdLs Ham3xJ4CjpWKYQ8CymJknMCz8hl8bmvaPK4z8Pg7UjG88Ris4gi3TjavB70qgNZpn55S4PRXhSMF owHknaaclpBuc9EqnBlbPRyPlqnJOwosc9oteXO9VdCXlAI8BVYCem2GTFDxugqvD6EeXl+KlALO lailEfSfpxDM1pRQq3LAPbVUL+d3xPbmbzwWy7UIZqsYAltuTNG0BpbNlgOtxBmb+QNZfzvQ1XSV AgvJVuHMqKmLCmS1svl7a15KI0VpIG/vPQz4YyrpfF4KfvYq+NrIU+i1Tj1PU7/z8dfXcrsUppRY KEIxMH3aOv/f84wBtui9vs4xAn4utdDnmxkmzBJEhg+XA+Xm4zdeAPOVKkL0A9tWzE4wkB+0Lurx Or7XYSKqwevIkSJYKIWT2enDdg/dUN3Ws4+ceIi220h4HtZW76Q2vyxvVUSqJFS4e7/zuYg+6lUM 3H9YYM/zcrKC2VIQY2YW7xwKZcxgeoWppBJvz+06ysNogQr5EbSXN2W3ph3eeAKQUjBzhMyQ9K/w BBnDiwtoMJkU0X27ITPbe4PCTCmUpl7uJaijvaFGg5+VCn+NCShFxAL/62tJF6kXESkF768VNZ4C LP7Pz/s59gROp8sUVfaUcQ5lYsWisYUajyFb7bwnUH4dZ1uAekSewtFK740NOJ9tsbFdLf1QC6aL VIgo2P2OppzeBuV9V4nJbP8tza95h7OP1GLfS0gz1DrfQwEBHpXIebMC8DwKfvaqFDJPQZXQFo9B lQILXliwKKsXdMY16Iuep8CKAvcwlYTjkmJ4pGU9Mm/1fvi3t2J4EXjCbWTaKryy9HUQr47Bfd63 GjlqS/NQKXh/OM/YY2bUVqXgXe+lpfWKKCT1XpQy0j9P2OvsJc/zqlEM3M7ahyD04Smw8mHvgetu do+LfHyslYJu0NhDoWjfYat7izBt6Ruedd8Dbyz01OWNwdCOcXtIViews8CulzZbfPgtSl8Dx946 BMN5u3y/7VZ9TWKUQkg6q0sfbUm/ZUDo3PKR4OeD9CNBr8cq5EEReef+/VsGlvW8RxepV4Hycv4R NEZQQx8hiKxUEq9b4HxxHa9pUCppBIWCNNXLabmX73tz+28wTt//3Q9uFh+EgAgcFl46qDyoAuDp hp4i4I6tFNHi+IOIodP1b0ckQtv1FLagdwrqSHgCt+bT8yAizyA7F01JhTJRRagKygN4baYjPfoI lBFTRKgPrkUerIRUIfExU0mjKBT1OlqB+/boP2+8PiYI/8UCtcQl96aARh1aBUxp8ZFOb3WnoLJX wAHmneEMviGeAtDiMWyhULw0snMstDk/5f/xnYPHbNV/f5v9739LBcCeAr6r4Of8+Fy0VoHLqXXz YlL4jYPJOAeL//v7ch7fPW8A33H+89NuM45QTnxnj4H7No5bBDwUDNNfLVDv6u0xvGG3dQhm00yD r4bS0Smoq6QduogHtwdOXwfu6XSJHZyQnyqGgcgGlwy+dJ3CXlAOn7+3olRWz/JXyiaij/i38/lO E6kCiZSJlz5TUlp27W8M7kdsmbMVz14weweACs3IU4BCYIHf84z2BJfzEcHsNx4Pd8Vy5BV4wbkF py/gNDS46BZG0g8Dycs3XB7iGSSKgZVQ1TYXoxHROlupgFJZvTxqYgreH4R6phR0z6RIKXjGReQ1 6SaJuk6BBSIEOQQmp8GIlALKx8KW+7Uqm0dDab9nKtsb+2MVfL0N8nkdQzDzYwiZq8oxBKUeorTx fUERqSdyur3h8tFKweyuGKq2udgDLITZiu9Jr5SXCmlVBOwJKNXz799FoP/33+Xzf/+LA824z1MK oJaYVvLa2KOPlCJS+oi3x8Y5KIvP65MGlcQBZKWS8OfFHvT4WSxztDXjWcr2xv5YbofNlE7C83sL xyLobJEsAMjCXze2W+R1p4rmo946Vwj+zTblSsFsXe9WK6xGqbDy6VFCNR5DFliOZhopjeR5Cnzs eQpKOym1VEJGH83z8v0c/J1nDOkrTHkMKH2EwLbSR+yBcNr8Xdsc56NnwveqJ9/SH7Rsb/wCYFHa 7e92Qo6viILJNUFl/i3qmIu0KWZwy8v53MNLKA2iZIBsmn3Uoxj2jleU8tKYgv55lNEWaikKNKtS yGJgjMxTUOoESkIF93//LdNkSzpSCrzVRaQk0K66UI6fA89a0vN8Tr/jsxaqvB7pLSit8crvHngm rGIIN4+gQvi1xBA8njtLfxWsnmx2FqMdQhWZLQfRXN8XN88+KnlbDKZI9qSkANTBy8ujkFRow9Jn Wgj0Ef6yc5ip5AWadaZSq6egMQXQRzzbiNcqoE9AOH59Xa7/8+dy7FFJ3I/UC4HC0HJxv/OEP7c7 6qDPjM/puogWxYBrOQj/KIAc4LeUvZVDP06GDjGbfX9RpwwUg7e1RCTAPCohmh1itt5BkvKYTx82 n7w3tR2gHJg2cMod9cWudQpbPIYokDoanjXL8LwE5vhrPIOSx5AFmjWm0OIpQHiy4EUavEYBx1Fs 4PNzmT4AwY/02WtgTwHlr13tjHsij4LPcTrsObQge/5HQxXDG/2YlDbKYghmyyBviWNUl7M0G0bT ls/5FkNY1uAQVAaYge7FazWKQSmbFgu5ByzclcoBv88WP4LI+NNVy3z+f/+7C3i+Dvex8B/pKXjx Kg4Ow1PQdQpQALwNBgQtAtVoM7NlTIHXXaiw5xlOSr96gh+/R7EGtAUrP/7eGmOAIuT1HVvBz8qj pNO3vl2F1VshtGNBF81ns++zmSGWcDtxP+aHrLN+NIYQ0UWsCHgWDAt/HLNn8PFJ8QSjvApKaG8U 8mYZVAw0j4BHzR1pxWneozwCL8jsnfc8BVUKpXaIpqSq5T5NyzpyX2AvF9dB+GvwWJ+V5zlw3iP7 u3oJI9Jj72OEYmAPLPN+3hiDOI7gXSxKQQW5giWidnyNJ0DJ8PFNMZxsnipmMj0pUKVDlAIyjBTD UXnrn6coskBzdL6kFEYEmlmgefQRLHiOBSh9BG+BYwOsIJi60U++PgpCj35mTnxsM/iZj1IMPPaz QPob/Vi+OY1cwGzKqVk9ZZQJCB6gPNCQ/k0xTFeqyIshvAbmuUIpbIkbRPC4+1Y6IPqNP6Pnm1n8 oIdAEf3333JNAQeTcY6pJA08Q+ArXaRrIWo9BaWLokAz+iwff37ex9Dn5739cX6el9eaXerFngnj v//u5dVzPFZ6MZJeVFpq1FbaULzsOWUxTDN7xxVaQFNOY8UgYKpIOf5V+iQ4lELQ382WLiGmmzrv Qrh5DC+IKk+hRzGM9gQiCtBT7BrL8JSSftdP9RaiY/YCvNXO6ol4SoGFoAoVpm8g1NAHeWx497Fn gOvV4tfvmp+2I3/Xa8zelrOH9xTVOqypIi+GwDdMy+89U07VSkN6fHxTANNV+OOvo9JetXZ+b0KE avqolSZjRTtaMXh0EFMxGtzV2T4soD3hzr+pZwBPgo///VsHodlrYAWQKQUcm+X9mj0DrFZGgBnt o8fwDFiYs6fAtJNeyyuiOX0oFsZiwab5VNdvBg/09xTVGKsVyv/+Xc84wsQL/GYDyBMgPCDZU2D3 HMeLhUInO3/82Y0u2vVNawGaYgpbPIZaeqQVkfXqeQaRt+B5F16sgYV5bfDZ8xTmOd5WW5VZqV9z efm8Cmn1FNjLVe+A8/Puw/ksRoOyw1Pg4/e2ExfwTKQ3lRSje8ppyYqNYgdKF3HnXcUosimnY/DU SsGsXTF4HtkoKGURHUdCzPMeor8WGskLPqt3grZRpcVlYys7qjesfKBGKTBFxAHj2j+PmmPlxe0P aomPXwXaX0eW/T1FNcAthmD0ie8JfcR/+M1NPxAONQEs3ub6lh/yeq3A8jwvW5Sb5ZDZR/xiotGK oYSSQOeAcRZM9lY0K5Wk92lgWT1Us1hhQjGwUAXwG1NE3nsRPPqIxwBvevf379LAyjwFPvf1td4u o3c9wDOBlawXdH+jH0uKhNxyCwS1Cn+mcxQq8NXyUuuGqSKze6f/+DCbTjZfVym/5JRT2nTvTM0y 2yVsg2Y4fErq0UrBLKaZStRQ5AVk59kbUIWk1raWLyo7LHEG+u9t/FzheQpmuXBnTyHzrErnPa/h J0Cf1U+q2zNhSRfN1wBzMDC2TDnFZyYMmLvl9K+B5QtV9MJTTq+eKVr1DI+BmmGlFEr11POeMIu8 gj0opJa8M4GuK5Y1uKyegnoHei+n6wXBW9rBux7ewjRdysKeAVYoM69vdp9KerMIPu/fEccrxRS4 7bxA80dhvLwylYSyjw6a/+q4AtFFE+9nhD2NPChdxAG4VfqiDDSQ5ykEuNG3HU5PZh8UQ3jxKafw y9DyqiNdT6FXMaj1eCTUao3OR1ZvFFze6jV4nsGoeqIPo6xmS2Gu/Tyqp9ZVr9e20nu3lJ3L9qJj qxu/dYqqP+UUYsq7YVp+92IIDHXtvM6P7+wqr/Ytuk45PZ3Mpo+94shPh5A+qlUMPBuFEXHlR0Cf O8OjPlR481+NQsgURaagRtXTCx6zYogUQUSh8cpmTyF4Y6sVrKx+u2LALCSz36wYkhiC2VLglGYX RTEEjzLitFaKgbyCF4whbEUaUygNVp6lBa8M4KDq0cqBeX2e7aPnaz2BbJ2C0ke4dm9PAWCPGFQS 58t0DgQ+Uz+sUPC+BaaTeLqq3qdptIwblBuK6ycFp1txsvNCGfwmxXChjK5///4zy2IIbO18FIK9 niKIptChA3PA+jZwLvmcPz7tt7gKzdtcQLh5Hh2f5+sfQSNp3loG/a3Goo7+VAGwl3BEgN2jknSa aVY3bQetC7eP911/21J+r1/9JvwaTyGccuodX+FRRqWOkg3+CBxD4Cmnl5O/pnNumn3EtMWzt5Nn HGTUUsnbzCgUFbZHQp9JRqOW2kHb4o03ehDHEPCnNwyMIXhpv2MIKTZPSWX3/9mhFjxTQ55i+P7O dz7lNCLaaY8YQgl4JmZ+jIG/My3k7UaqcYb3/Pw3erDatuI2lzrxDpgyyqa1sfVSY/EgPVBHC8ro EkO4vRfhF6JrncIrWZGZle8JcD0f3eel+yi6DOVu8Wq0Dl56b6/hjVHwt66ILnamnmaoGdhe+ot4 xTW4vOO2Fc+O4joFVc4q8FRYjBQcNcI14/ZrAszRFFLcy0K+dqbRI5UC11P3NMLv0foDfHrvT+Y/ hhfD4PTN3l7Gb8Nqr56vL/PpImeg8KwFnumin7ckAotMg14A7+yIkrqzmV6AGy8gi09lzlT14rXS FFSdBTYSpfQiyziLG2TXR0oF92dexDOhVNbsu5dW5jGUYhgvPr7eaET8prTKQVLjGdySl05XwsJK ue5SCy/hB6E0aSFqtpVSyJ4DuGde3MQZcEajUUqzJYgaCcjM4PDyUmEbKZJHIqKRahSFokQlqaeA 619hQsIb4+G/FKdBOLR0nFbL7KYYJrsphh+4FqGkGLxma1IKPNg5wVsBGui8LcjSVMFcCiijjEod 6XePMonye0bunekdb6qq1hWb5uF7qd0UrATwvF5FKTzDc/sRU1NnDNTZVvsZfcnWFVnH8BZKZQ/J G3yr9On4E2sPSDH8QMw2NTXbYRvivSJKQdg3fh4eqRheeXXzgi4qTTlVtAadsuB0Ie1LaSb6+z2o 7dtvpVBAyeN44+ehReaMBq9unmxebHf8zFhuf62uZKViaFEOtzexVWCRNko6mb1I244CewQZo/FW CpUoBaDf+Fl4tMdgZi/5Zrbmt6Ux9vQYbunfPYRXateRKMXl30qhEnsH0o8Ec/yvwPU/CiV6umXX hVa8FIU0R3TR9ZgbsnanzVsSFTNMsvu1/abXo46YUhyWpkykeccU3rDT6RJna/Xa37iDF9r+wIkr KU6LHU3nK53TEENo6XTRrIYIf/9SyZgqeq0FaSg7KMUlRTc4L4qbvpXCLwYv6PxtQm0kSi/9+qnw p5ziuAKtiqEF3pTT2/FrQWnEvRSD2UU5/AiloAMyGqAl2kTPe9dv2bDxaGRlV2DLF/zpDsVRWl5e NW2yd1vV7JvWU4Yo/R/9TogVhXOnilzFUKR0CJ8igjK6qCptOsbb0158yik8BrT1nkrB7AcoBSyo g8WL77x9g14fWXZsNXur7fVe3WTxmbDaALJQ1qhu0a4D3r2qUCIPZM+20rIrehfUZWnvPVgfiWkm umieJY5Qunnyv0fwVsVm8FYov1jc4Jnw8krBbK0Q+M1hKpRUyHlp6V9JYD6zYlClFpW1tt5RPaN7 Ir59b8WQCf1stXpt2mH/+cmK4UwW1pZtK/BZw1W27JuzWovASuHJBuUL4EcoBbNlv9AXw6jHgADh x8fFe9U+p5TK+Xxf3Ys/PtZzzwSuB1NE3ourtN58rf59fvoKV++J3py4txJFGSL0bPvO7ecq2B0D go/ENJ8vHsM8XxaozWezc4Ni8CyUDLrvTIZF8Pp0I7d+21qEEfgxSsEs59Ij2qNkzXpWb+QtsAV5 5AIoz+rnz4wC89pMvf2svlF5vLRryj4S+ky9LTsylMqm7fxj4MUQ5vnqGOB7sqdLjRuK36NNtvCp SmHV2F7nf3sJPfhRSmELSlx5iTLylAT+jvQaVJDXKK9IoWlbZHV/9llLWpfWZ9JKh/8UrGMIV0UQ 7TiZNVTJktAYQmlnxjSG8Ise0k749UqBqaSPj7WFz+d5HyRQRvoddJKZ3TajO7IuLKw92qdEC5Wo IY+CesZ4CgPtUlrJmd2L789cz9E4ff93+TLbRSF8f989BN39EQs2AG44tSQ8eFsUZ/vKLNYinEgx PLmV8gL49UoBqAmk1lrf+I5ZLkd7DBnt5XkF2XHUDp7H8MxeA+qFyQetylrb8bfgFkO4UUaiWXkr 3GwGQ4lzNFsqhJr9ZCiGYMYB5jd68NRKgYXY1hfZqNCCxa+/n05mf/4s++W/f8tAM3sFGmhGec2W 73g2a7dOa9uF6whDja39z89LnfDJ3/kTK5sj70G9Ai2HXnskMqWE5+PRetynavGTYwguXXRGMPm8 ttxh9ag34FkY2nARXcQPhK9Z0UWXT7u9He13UEdYZ3G20/DJDHhc5/OTKwWA3f8twjXjztWQUYHI r7OMArTsFeA+7tsYO6PftcBjzSt76Y+VgFr9UT0zD4KvOxKlvEsTWN4bHF6wmHJ68wQCzwAdSF+a 4bmcHnTKaWlwv9cimJnturoZj+sllILZWgC3Wni1FEqtYogUC3sRZssX2+wxK0nLsCWGwIohUgLe Oa+da1iCPVDKG0rbw7NNI34kLnSRkYdw9oU2LwoyiwdY1hk0hpBpblcpXL7/NrBiGD31eZpeSCmY 3YWuWa4YIiuXrXgOEiMtXDPPF2qFYln233/LfuvRRxD4f/4sFYC+i8GzTLUumVDV8cYb2/35c/9U 2ujv3yVtxMd8HVNKJYXiPaM9lUKWbmaglqhH77yX14oRseXnSyCacmpXbwGDgzstDxqzdSfURSlR jIHzVw/EddnIG7gFsyezW3D594G3vdhDMbyUUqiBCgYIe6Zx1JCJrH8VhjrDSJUCwH2bz2HBFCs3 Bv+mY0m5fB2PmWeg9Sh5Dd71WUD9SDyaz18Ywy8c2oxjCDIdlKec8gPP+FhF95TTy+dvpIsegR+n FMzWQhrHEODcHzmAnAWT//5djgGmlBBYBtVkdhesZss3t/37548FbwaeNwY94cyBYrX24Q2o16Ce QuRF8PdMqRypHDiucfRsICjhaTI73RTDayqH6fy9pIvQCb3AMirOgWa1pkr8ndJE2QyjhSs6Xd9A d/EQ3tgXP1IpmN2tcaY+o4BxZPRon1fvgCmoaLKEp6C8uMI0xbE2z7PhcpaEdY+X4MUdOP9Hew0Z S7EnTqel7fqqe3AuppyeKbCsdBEGFBo6oopKnaDGUwBIKby2X/ZaeGmlcON1nU+eisj92ROsEIT6 m573YgolpaCTMxDwjALOWnamsTiGoMoKf2zR1/61toMXr2HBvOLd5XgkamWRWTmgXBNDWJ2zFyA1 khjCWkhXTMXyrCn8nuVfFVSW1qQYwpO38kOwxyykl1YKZndL2WwdB0MfxW8aTAYtBKEGzl8FuNJF EOo45plFEPZKJZ3P95XC8NA9xeBRuZ5SYOHNx3//LgX+37/xWgX8eZ5C5DHU/M4eDMsO9ZpGPv8W xZBNQVUZp3XYE/OO/sY0n/0pp7eN7YgyMlt2Ohyrexo1ujYyewVep19QRdwOb0WQgfvKyDezvbxS ACB44RXwZxQPY4HrxRv0nAaaORZRoo/gAWhZo5lInJ4qBRXE7B3UegoR1RSxAlH76bmMmtvLW0Ab tdBXmdeAdDza7gjFsCdWMQRWCNzx0Lm5MbLO4VYm8EYirOgifH8jAnsKo2YiNSuFkqe4NT2g5OJn 6XAcIRPSOiMO+PNnKbzgDainwEKdlQM8BdzLU1I1dqfbx5TqzQIXHgeEOax9eAqsGOA5ZFNS8Zsq FlUwmSKJYgx63Npv9PqMrWhVCl7shr9rnfh4TwxRDIvKMV1kNp2/1p6BBn6Zc/XcVeUMvbw1oOx2 dKKLbp4JlMLODf1DUDNFlccNP1YcMzZ5CiyAzfoWZI1SChFUKDF1dD5fZg15Vi8sco0b6KZ3ZneO X2knppYwLuAx6ESPVqXAQhlKgoV2JNi3/GXCcW8BabYW1kdZ7a+Mqm0r2HLXQd3q7nEHLgWSFzzi e8rpUfDYFG9R7Wb6aCQloIJl9LYD7EGoUuCx4Fm1LGgjpaAeBisFFv663QXO16zQ9mIK7CkotQSF kCmF2viBKgNPie4JTt/zRN7w4cYQlMphz4AHc0QVRQ0exRCizr1SDG+lsDeY5eDHrBt3dsUUOA6V 7XJbAxU2pYBgCyAsze6fyA9rDHCOx0ok+NGQTBF9fd1/YyoJ3z36CN9rPQVVUqwU2LvhdQr/9/+u qaRoLQIrk+ic93eE5R4ppozFeMPuAeZ5vk43Pa87odndSuEgGFsEfBzBo4uyQYwOdFUG5/c6hN3B j5gNYz7uDjTz4NyqFLzZNl5fKsUz+Dz6uB6r18CeA1Mi6P837UktpZ4CBCPiCfAI2APBOGSFx17D VvqIPQWlkLZSSV47RIHkGiNyJKIYZ4nR2Ar1hpGN2wU5w6O1lFaWYggrz6BkiWRuYakM+rdO3Bat RzGEt0LoR+0U1UxGDpl9pJZbS4yBhSMHbiFQVTmwYC8t9NJtWvi8xhh0HyRP8DPgXeCcejmsILg8 rAjYYCuB21iFO69byOigLGAcKYaaGIInpPdCa169imElF7MwcBa53gGLga/rC7IYgtcoHlX0jiG8 FHQH1a0YNiVVhWarYjBbegvsxargxPmIk4egZ54Mn1pODhLz3kRQPLr2AELY7LJJHpQDzyaK6COl jHoDzRDuSh+x0OfZSJhhFG2B4XkXnqfAtKE+k6MCz6yIS6iJ2dTmdSpta8EBo515teW89POdHuJy aKfLtpZQyihrZG5UpYwixXAbfLw5yNs7GAm8a6FHMQxdp8DUDAvkWqhV7VnYgJ7zXqPpBVWU7sKn UkklT4HpJJ3BxPmjLTBeokBzCaWYgtK+NTRRjbfgeQqZrDuSNWlRQEM8BuO/wrBTF3jHhrkoBvqb r8oBSkKDvlljqJdQauQocB2BYghm1m3VvrHG03gKAAQTC9EWr4GVivJdUX6ZEtJ0VLjzMVY3Kw2k W2BjnMDK5nNsmLHX0OopeGPRiymcTmVPgZUHC/3MU9DjTGF4ZdwKNUyV3vaur0VENepxGCOZhPQo CUC2pAcohSVdBK/gqgjUUufOxa645zJzxbmhucwZXaQxBKnrYmbRhEZ9U0fPit1WNLPX8ExgC56V jxdnyDyFaNGbTuao9RS0nTyKBuUvTUllpeC9a0FjD+pZeJ6GtlHJmOyRgZye5rMHPaXeXRPrM3r+ dIJl8JCtchHSqiCiMjJHW4ohmC3TUQ9hVVhK43R6Tzl9IeymFGr62KOgggb9m6mkklJYLPb4vKcL oaW0Mi9eq6GPshk9KrCjQPPp1L4FRkQ9eXJDJ6h4ddgKvrd1EszWvDxPoSqvAy2fu2KAF3L1FjyK KBPaADq2cqse2POpoRmu4+UAABp+SURBVKOkYd+7nL4Gdt37CH0C/a51LQNb2lsEgdJPnA7GgK4+ ZsEDRcHl97ay4O/8+k2dYaRefbZOQS1ytZ49T0GDwafTkj7S9QbsOagXodtecHmgJLw4g9ahl0ri uqTUjvXJZq4PK8GP04XxmG4Z4M/JnAswWnNR3peUZzM72+I9CMrtR0KbOzk3rsevav2YnooUwnSl iRZa9kQewxvPBh6rh2yIp1RSi8fNsbraoCxDrXX9zLyBEn3EnoYqE/YM2LCC8kGaWZ2U0tJ2iTwF FXAlj0CVTxZYjqzpzGPoRUvavUb7yiNavA14zhXDYKzoIs478wq8RvBiCJk7pDEEL3awKOw9jXli F3IHvu+N4WAZeYhSYAMEfadVMXBarcoBwtfzHHBeg8l6zNfxGgTQTHzfx4fvGegxUDMhRKkaHs8a aGbh7sUU2HNg5aAeiFrOXh5sVe/J+XM+JfRMQTWTOi2moELwIsC7P06mcQOii9gbUE8hUgxKF2UP jQNkNd4B0jl92DydbD41PLQ3Hg6Ms0O3zmarGlqpBVvv43tZofAxKwagxlPgCRdMQ0XBZPYcGCUh psKehTSvtVCqpSZ+4HkYUV4lz2HP8d+qcHoUw+lKGd3/mLYpaPHBWMYRHM/A+8zg8XER1EMopQ3v 4JrufDqZvSmjl8KQbS7wWTNOmGKpvcfLi/txrSBSKgm/eVSS2fIYgheKQ5UCW/NsVNUqhZqys6Wu NLB3ToW+5wHwZ0QXRRQRKwXvudTWK/otO1cDj0r30gvLPS0Vw52+CTIYACiAS9KcnyiEKLAccvxU yVLk3rNYSp12ybndf7O3p/CM4Meuj3WIp6Dufc9W2lvzNluOkQhMJfFkCqWSYJUqXRStWj6fL4oj 28oioo9aENE5+p1nH+FaXgnNVBEC0uoheLOP9qKHkC7nXzJit+bFSqcULD8SHEOYmCKCQvA6U9Tp VQlox+iFcrrcKd+rlJ8eeGSQfTwJaBh9xPTMIwYWB5BLSom9Ax43TCWZLT1lnpnE955Ol+0u2Pv5 86cu0LwVW5WCUkVcHxWO6o3sTRFxn/G8lD3yizyhR2JNFQVTTvUzsjK0oiMDP6zJVx3k7R28Alhu oysVlQJz5jUZQKB6HH0tMi+YZ/rwNVy5Wm9XPQzNw2wpRDlWAOXDU1A58Iw0ddopr27OkLW3jnFv iqh6AJ5FnCmTaBpoyZquoWyiukYKKZNjWz0ur/0Wsu2WuFBGe4EqclMMM005jWYtlAK/ntbXxvTu 507LrpUXRJsms9OH2Wmy21TU92K1lwE7elVKwWxp5dZYUzqgt+6a6gkgPddrdbOHAWGPY44pcJ10 HKpCwW/M2fFYqokHRtPFtTyqFLwpqZlSyGRH5BWUnn+rYvDKwPKmJa9WqGx75BTURWW82IHGD7Qi DNXqPXkjfU5LHtJ7Ydr/b+/alhTXkWCZs///wRtnmn2AgnRSV0k29CwZwTC0baksS3XJkuTfDdSn ZfoI+2bVMIwkVEVe1yVYhgGPzRgGj0rS30gleYlifs2tlos5CxxbGEV4UIXtyYxjlD1+i1qqGAXr 4+mT7PlzIr9jGLK6vbpGgdHB7UNTUEXkNMPAnKWVTC5uLdGmi7y6sTx8sI+H9N0O+2+APs5WTkET rqocI2/WopI6BsKic7BvY7izbfPviWYqCb187f84NpE+Unmt/J8moa37i96nkCV3LeXO1EsWKeBv K8LIFHOm7PW+qv2lUzdj1AERgTr1N6xNePD6syFJFeyle6/t88AP/59/9lv6ZrAW1ahcuM5h95Ce pvQbMfxubNtgotmatRNVglED0wLRWMvqQaoTj6OX3gFSR/ytMmDeQIHjA89Tw2FFM+h4eWyAF/2z V82RApYfLTSzFp5hW2LkVAVfK7J/jllZfD0/90p/4bL4by4ttZGv+6COCpV7FVaF1b8xXYQJqMjy eaGedbNe3d4xq67HVNN7o32jhKVYQYuO4rQVzRYtMRv2R3Whwu1c6+UYImoJqR6kmHh6qmUYoskj HrdeMQrcFtz2/Dvi8bMO5hm0KAdaLTurKwPXFRnbaczcjJdDQG89qo8f7EjdOGA4TKUBvI8IzjUE 2asmO/jkvZjeZRjets0Fev9ZRNwFr0XoUEsqq5cwtqglPU+BY4xfemXJUlokGig3zyiI+BSRRRll yeVIiWLOBSMRr2Mjo9FVzqPGHvUattlSdK0N5wuQIvrzR+S//33eLCeasC60dPhwO3XjYOGBgGVu m1zlvdthP7f/GAe+vvJTjcPomqZqF7Bw+jYXInsvelXCmIFevxqH7vUcOXjfVuNj7gEjBUuWSHmi PAhW9p5RwHuJooaq91zRM3rP2QwqlqOLrmGoRkZL0CnUixIwl4DlWnyi9zArYR7XK7LnQrkOIyX/ DqyIGNQw6P8/ESNGAfOw3f59yJvXVPHhzaDF04Q1n99V3jigsV/j8c5qZwZGHOg4cQQQUVWrVzTr fXHCWOTV47fux3Im8VloOXg9RkcVJco5hIzCsWSpImvHKMm+bTfFctnuKu7RaX9EZhWO5yXwb6aJ mC7C67CBohkG/FCzuvU8NQRYF9JF290gbBghzCvSlXRQt97sfcZnGYooXaTHu8CtdjrG4dA3r0Xc /Oq6oogDZenOUvLGisjeCOnY47qtbTVGIhdLJjYKIrGT2IkMWJFzdNeFRU13o5RRuE60sL97FZGr yM/9+whlFU05ZW/DuhEv3MO/eQ2ZTTllo0ORwZF00bsMQ6XuMyOIlWwJ68Qsclcc+uY1K0mrBmL1 /khYXybLCJVkjTOOrr1oh+tdaRSYMuJjFtPACtIz1HgtU2AjYPq7I8ssLF26aYTARuHorbGZLrJy Cl4H8Sgiy2BU6xZ5ag+03ruyjjUKIp9nGN5FLc0mmLksnkGZoW0UULFlQC+b+5/IPqeF3jfWZUW/ FrAv67VMJbEsncZn5crRid4XjmsFLoBDGWbgRQp83Es2RfqD6R/MBVntapXNDAbrMXNriUCWCqI+ uaOPNpF/LiJypw+e7wODCGHkIWUdFgeAlTNAKsm6OfSutBGreQR8qF4OQd3J3UO5h1Syicixb057 p1Gw6mdqafW9R91rdcSAujajkl6MQsWLRY9xJJHByiBKNOOxCsWQUUkrwYaGZy1xO2J+Y4U3kOmB Ge+b2z0CU00Wo+ExHxXZRg2DabCO3MYi4thQEaNC9oyAdTPYsNzAlixe3Ug0o5cH5a2ccvpuZT8D ln2lYVgZEVRQpZJejAImU7PEByYyqnyViE15YGjD3ijn3TLjsHK1cwa9F2wrNBTWi3tWG6po9fOo UVDZq9dbtFW2m2u17BVTUOnuHquWRbekXqW4rFBR/46dQo3Bnz8i//7r3yDO5ca9znGputeQ1pRT nDus5Wj5u9Bykx955hNmsT3a+/eBtzT/Wbg1+Oykkw5wTIv4zuSLUWDPPTMMXb4qqivz8pmuqZZt JYBXgu8bDauInXxeXT+P8VUYzb9YlJEVNRwti1fP4W9SiyIFiz6K6s8aNWtIK0phl3HHRWIstcYo PG7llxsGXNuwEmdGDdgdLMNg0keoUCteNtIhXAHnC6zfaFD0eETJYgQcgWknpEJWP4Tovs9ARpvM gNvKu1dW+FlO1CqrQl12ZIkpNENxr4Ln0bCH4nGJ1k1UGnAEj/Lun02e//+0ufsjnsEivJNKmu2a 3AzsjONxM9HMlMhsiGNNy9TfR3rwIvskqWWMzqCWPCP3W8E6yUsgW/RRBd0V6JYsJl0lJ6s43DGR I4XIEIg8GxPfkqR/81ZLRoMJB/XLQ0FyZ76VDqeKOqH/6LJeB0wlnbkaeobx4PGHVJLmQ7WZwtlH 6KisWnDFU1SV3jlSOUf01NEKW+/7bzIKCovRiP7fiZ667WXNzLTqfovva71pybtBnEaHlpWtnEcZ ZQ3nPpTbZyVddLhhqMDjSCZwNJWUYVSXWOyKNWkonZKKCm2VYcDxgX3bmqLKN6BKvJvDwHqYsvIs 8CpFfjaVNItMVkv5WglkVszW2MxyVp1nwJSVNwXV9e0qCrUrvH40mYzTQK3ysbGspLLHh6Es3HAu x3YRueie4WoU1iVRRQqGYWaQVToIKoss99IYpLga+iI/p0cMo81mjUP0U0yjcDbVgUlqjCa8BLHl 8Xfg1eHNIvx/RTQ+PJp71CFb2c4vjrA7BdVRzB3DwOdauQL8RGW9hDSGZZ0BXT875XRpFHDkQLOo gQjNdlbD8On7J4nEU1KxmdzZR2cqRIwgrHUJlmFg5V4Fz3jy6lC5/l8NQzQ2LG+8Sw8xVuaWHvp0 U3XH21joimXn4UaePI8ma+sIEXvGj1emfnPDxvNq+9jQCMzlEJZTQ0cmFyPPDzHo2aBh+GSjwM3g UUnmOgVVhmcaBx1vTA0hZYT9BsMdTZRUgbQt18Eynd0OnwRvfHjvhK5E6B5mQmILOD13E5GL/NyH 690g/ARJrEwYK/7mJLL1fw9W3iBLLI/icrnRRiIiu7UIfSxPKB9tGHCSfnSeZfwDvJNK6gLztx6V 5M4+QkpH/+ZVot+Vfotlch2onLlua4x2VzszrOiEj3em5v5WZM+N29XKVeLfI1Qo4I6soSO9Pf3g bVc4JMm6wlhepxUV4P8tI1OhiqIQbCq5p/+MRQkpurJxOx6JKNciEkcUyUBZSSXNjhMGi96ekmoV iArU4t5xrFSUDLb9jPJdmWOIjv3tVFKWQ+DfUaRdccZGYckyFaV0heGVnbxq2DMCFrzkTPVmTuyQ rYigI9dIu62Ex6F4nsZfYhjYGcbAqLwhnkZUHqWCc16z6AupIpG90lXl3DEOes0qKgkNBN7L30wl ZXpInVj9P7IdI+XNRF5YNurU0XcytIRBGoIVGr48o0qFIGWEg6ziXZ3cGVtvO6vKhgY1W9m9Gp53 41FNWaeXPZX0KG7CMGTNWO262LUecl3tbS9au6Si52x59VkiwyqPPfXRvNqZVNLfahhEes8se05H RgyeLFV9Oi2MRRmNerzeDVQHwqdGDCI1d7drSFeBaQrWmN75BeW2cvXziohBRfamhaPuM6ek6iei Q73kLFai50bAskT2RhiVrx6P+g3KUs1xIKKN9DC60bbhuj/VUHSNLHccb4p8VQFH7dJtM5bjZffo +0z7bRN4k9pVRH5eFZDFg2Y3gudgOdYHwQ8Bcwh4U97r8LIOxsfIK7re0+1SzCO06aJZdxZpgyMH EnuLGPVZyTPu3I09qLPZSHp5xY9YYRhwco7HjF2vQaSQ5RGOBI6X6vTRVeB8B9eF7cJ///QIomsY 8P8Z1V1hOlYBZdnJtqm6C6agskffhTUFtVMexupehOA1crcRHw/l2RpVoyBwRQmZbF3Zjxrklka0 Brqeayn+KEs7IM5ZepaZHJZDxJmSyieiIn4X3Wclk88wDJ4RssYtRqKfahhGKDX9Rt3ljYHZmUdd 2V706eWp8p7TJe+VXh2PfgR63WiSlK2s9e018khoJSLYKocYBZE17uzM+RV4itx7fh615GVpB3Cm nlXRPTsnYhgFKwrtRHY4XioGFPs/hzbZ+40tCofPzeq2ZBd5NpBHF1kK0KKdqsjadcIZeSmnYhws h7YyyyeS04u8KnJYeDAv280gXDbcxgKNgsH7j9BHeB6Xw0qFBceRrxSRrkGw3qBWqZ/LfwE8RDKX VTxXgRfgGVtUCh1v7ghOVsu0OrIXLVyv9SytgcpMJNSzWnQHnWaydDM2S2oURoBjJuvjVjSAnrqI 7bl7XjwfyxQgP2cEy8XXRdTSSDtG16wyCpXy2IntytJ1GGcMw/7Nwdrw+GkiI3a7U07x/94eRl5D dzoRXb9/n3Leeab2KOJ2sYzCu6acMiIORcSnlrznlCi7M1c7T3SX3S28GIVVi7S8bVk9Aa0pqigs RxP4f3ZAOqud0WGw8gJ4DOHVzfdShXoHmWHoUkAR/hOQh9nMyEyW6lQ61YvVZ2TLc3uT2uWRN7je 6KLR1bbeILCigwzYiBoV4HbYmBzpyBLVdfsBK2trnSZdoTzaLhyhvRveYPOMNJ5vddZA2Z292rna XdT5tm7zkEgBy4qMLMPKI3jfTOsxulNUM17Pkt2re8SrRwNzFpXklcXUdmbQPVQiBu2cFboxjWBu pT4/M53ZupYpqA54ypSVR+jIEmHbRwltuijCSLt8UqSAsCIaL0/AEUYzojhz47xKE0dMTtsoaAEd xYR9IbvOo5JQweszQVkwl6CwDAjLpd+WMYqgUcUMXWSVWa07+l2tS78rhmEUFd2J7WcZbzROsR69 7r+zyrOH5s07juZqe4JjRGBZXUvJRL/Nh7I9v3eGoYluu+g1nxgpdI3thOLvUEkisWEY0bMsSvRb xKfYTfqokgc4apWvRyVpe49sg6HlWlQSR35WchvLsqglEfshdB3KqO4MHWoJHVZPCaMzmyG7z247 YJ0sy8v7Go4WjjucvhfBUn5MA6HwmFBetcEd1KXkmRTXIqRUUbddcDW3N3BGBvAsum2NMlaoJD4e bO3QXe28Ws9i0+vjsHSNGSlUp9+ipVn9rJnO0b+h519FRiVZDgDnoTBq8ahIq8wurLo7qBqGiB5i r7w6pip0URWYy7Ec693vWeGqglciBcv1spLKq5JDkEN4UkX1CCE1DBGq7cLHz0RVmXnXjUxJTaim 7mpnZjBmmhB1KetFhRkpOIbuBajAPOeJKZoOeJoWysJyZt41Kmg08vg3dgAs46H1YHlWG+H9duml UTqoQk/j+VE0wBNkENG9RM7BaPTDMzafU1Cf3tdjoF3pGyvvRgys9JACiaiHn59nMlkbD2cdee9Y HsV2b5CVU06jQW2d8+dPbBRGczEvAg8od/Xouh4O0wh8HAe5F1GozHT8xRjfj0VULrInM92Fb42b xc0pRNRaF5HR7QJlwkiCowoPbOTZMEQOANdXlfVoGpWp6VGjUsVsRDDiHDyjAlp+db2KPBLLP3sF 5Cm7qvCZMquEWJ6HkdW9GK0EMhuESMmzoex6QCNYQb1VgTSCV29Er0QKhcD65chm9HSgiGEU8KTO zKEImbLtAr3b6mwkRdQYLKtlEKv0joZns3RQBax/RsvoIDN03WR5du4+h0BrEx6VGcpqVvhM2WGD M01kGYcMB3oQqWGw7ttzSy3K6EyK6GzD4NGFzO10Zy0RmCI/yzCk9BHTKxUqKQOGLCLzhgYTjtpw +P/MMKhMep1FJeExlLXaFqP0UReWHhpB99rsvqJn0K3rwboIkiRX2fRNatefV0VW6QQWLLqocjP4 ADCpjG9PywzDwZ0lTTBzUtibacSJZfx9BmYVSBfeW9uQYhykkhhI7eKlRwBzDIow0YwGTo9ZnrN+ V/sy9vvouWLZ3rdFH1WpJD6Xx2tGJWVAi390/8U28Z7RKEYVv3Uty2LpyIgGu1FIz89Nv0EHZYUe wcoheB8LKKQVHVjRAtYVIWu42x/pu4iIVvMoIet8jhKwjCpmO+fZEQODZ69EVBK3j+YRnNXOyPkf HXxh+WlOoUL3ML+/8gYsHp+5eqaPqlSSyP7c6Fgh8jNlP4M+qsrSQUfe2XvjKIz16hRW5hAsYVFg 62U5kWfYbTgqI9rcbiiHwJFWNaewsgP8NmDbMZWURQSwXuGMbTCqcGcfsSLLDAPPsV8Z8iBdg+NV 6+Lf+P9ti2WZpZIyaLu82yioLFV0jfusM6CysYO9hCXIhNMHrA8K1yIwMGnM1os3uMOb8Bq/03DU OW9rE3Zx0/70DlXElBFSQp5RiCKJLpZ4AG8CTuUR2SvCZJ2EPqMfuTwMw7uNg5toRg+5+tzZq1+t CFku7zdTQlUmoUoldRXVJzlCR0YMI+cj2LFeahgqEUMlUvCE5Q9GDR4XVpXNqvtlG4vcI3Xr9igj rx067dTBJw2ULpAnHpipc+Y2GBnCRDP31UeyL8kDRKvw2LNnB4q9dLxWz0eKC+VEionvgaMKC9FG euo4FR2AF5zZ3y36GmfVdWXpvsI4kiVT/NjHHufK9ZFLuD3A6/PT8Vgzr5w534zXZ8WPkQKHPh6/ 7P3OHtSm/9w+JcXPvzGJbv32IgUu01IUozg6gXx0IpzbC5WKyP6bVjuL1I2Bdg9+DOzbjKCcaMZ+ U3lueH33Xc7YbtbNcQ5D/2ZRep3Es4h9nSX7Mg/2QHA78sSBDmbHEsoSGYSdMbio/zs5BXX1zfCN Mec1Ynmj8qunzkw5zb4PlPuQ66Nyz+RyWdmJzCUqCZ7Os/RuFSl9hB4m51SyiCGikjLlypSQ5Yx4 jWFRS10qia9j2TsG8p3A9lC6eFTe2bHEFHzVQFwESRJ1i+4Rw6hrtFIxWDOOVvHjzXJKCWb+WJQR //0E2Zdf72H1bJgMk9RSBIsqn6XwU/oI5bXolYph4D6owAgVz8Xy8TdaPqSS0Av1qKUulcTJ68YW 6kswUx7eJxv0ilHMGJboeKU/ZN/sdN+MgsCWDGAQmO6ootIQ1s1gZ8OIAAW3jMKMEgoiD8sImFtX IMdgUUQWZbQikWzxh6PXrgAOCH7+s4YC29iiC7U90RDoubxx3v24xTpZt2Tlfz29G4kuUqCPULmi l7mKQuH6lOpAAxFZPmwQi0ri3xbN5OGdVNJsWSjbSFmzeuBt6Aqenc8KzeO5Kl7tpNJhvjl8qxd7 Xx2q6Ggv+p0dhJUBY/beOzNSiMJ42AnNEW3bi25jOn8VQqMQbZTEuTMtjAzdkEC82hm9XU0+6rnc IFo/Gg2MMPC3dawSMeB1nAyPdtKdgWWIKkAd4C3EzDDb6UZlX4Ku8P/+6x9jhc/7eHe3xJ5oWJyu qFMZ9W1eJm3EtBB2Cv3NG9llr/9bhXd2EFQYCDaeI0BlVqERMMLdNtkuF9m27TlFddtE/tleghuL PZmF3nYrp4DWyvPqZ4DPxMoVREkUywGwfluRSSUJbcnlHZvd24nRbVd8LrOd5tdGDCI94SsRgxUl 8N8rXsEBEUNaH0cCTCPh7zPx7qiBf68cOB0agZTLtj2jwO0eMazMG0TYrmd4BV988cUXX/wKvCvA /+KLL7744gPxNQpffPHFF1888D9R8oZuj3FWiAAAAABJRU5ErkJggg== \"/>\n",
       "</g>\n",
       "<polyline clip-path=\"url(#clip7301)\" points=\"   70.9141,409.433 70.9141,409.433    \" style=\"stroke:#000000; stroke-width:1; stroke-opacity:1; fill:none\"/>\n",
       "<polyline clip-path=\"url(#clip7301)\" points=\"   65.4662,409.433 65.9202,409.433 67.2822,409.433 69.5521,409.433 70.9141,409.433 73.184,409.433 74.546,409.433 75,409.433 74.546,409.433    73.184,409.433 70.9141,409.433 69.5521,409.433 67.2822,409.433 65.9202,409.433 65.4662,409.433    \" style=\"stroke:#000000; stroke-width:1; stroke-opacity:1; fill:none\"/>\n",
       "<polyline clip-path=\"url(#clip7301)\" points=\"   74.092,409.433 74.546,409.433 75,409.433 74.546,409.433 74.092,409.433    \" style=\"stroke:#000000; stroke-width:1; stroke-opacity:1; fill:none\"/>\n",
       "<polyline clip-path=\"url(#clip7301)\" points=\"   67.7362,409.433 67.2822,409.433 66.3742,409.433 65.9202,409.433 65.4662,409.433 65.9202,409.433 66.3742,409.433 67.2822,409.433 68.1902,409.433    69.0982,409.433 70.4601,409.433 75,409.433    \" style=\"stroke:#000000; stroke-width:1; stroke-opacity:1; fill:none\"/>\n",
       "<polyline clip-path=\"url(#clip7301)\" points=\"   65.4662,409.433 65.9202,409.433 67.2822,409.433 69.5521,409.433 70.9141,409.433 73.184,409.433 74.546,409.433 75,409.433 74.546,409.433    73.184,409.433 70.9141,409.433 69.5521,409.433 67.2822,409.433 65.9202,409.433 65.4662,409.433    \" style=\"stroke:#000000; stroke-width:1; stroke-opacity:1; fill:none\"/>\n",
       "<polyline clip-path=\"url(#clip7301)\" points=\"   65.4662,409.433 65.9202,409.433 67.2822,409.433 69.5521,409.433 70.9141,409.433 73.184,409.433 74.546,409.433 75,409.433 74.546,409.433    73.184,409.433 70.9141,409.433 69.5521,409.433 67.2822,409.433 65.9202,409.433 65.4662,409.433    \" style=\"stroke:#000000; stroke-width:1; stroke-opacity:1; fill:none\"/>\n",
       "<polyline clip-path=\"url(#clip7301)\" points=\"   74.092,409.433 74.546,409.433 75,409.433 74.546,409.433 74.092,409.433    \" style=\"stroke:#000000; stroke-width:1; stroke-opacity:1; fill:none\"/>\n",
       "<polyline clip-path=\"url(#clip7301)\" points=\"   67.7362,409.433 67.2822,409.433 66.3742,409.433 65.9202,409.433 65.4662,409.433 65.9202,409.433 66.3742,409.433 67.2822,409.433 68.1902,409.433    69.0982,409.433 70.4601,409.433 75,409.433    \" style=\"stroke:#000000; stroke-width:1; stroke-opacity:1; fill:none\"/>\n",
       "<polyline clip-path=\"url(#clip7301)\" points=\"   75,393.75 75,393.75 75,401.695 75,393.75 75,397.722 75,393.75 75,401.695 75,393.75    75,397.722 75,393.75 75,401.695 75,393.75    \" style=\"stroke:#000000; stroke-width:1.05; stroke-opacity:1; fill:none\"/>\n",
       "<polyline clip-path=\"url(#clip7301)\" points=\"   145.436,401.901 144.982,401.901 144.074,401.901 143.62,401.901 143.166,401.901 143.62,401.901 144.074,401.901 144.982,401.901 145.89,401.901    146.798,401.901 148.16,401.901 152.7,401.901    \" style=\"stroke:#000000; stroke-width:1; stroke-opacity:1; fill:none\"/>\n",
       "<polyline clip-path=\"url(#clip7301)\" points=\"   143.166,401.901 143.62,401.901 144.982,401.901 147.252,401.901 148.614,401.901 150.884,401.901 152.246,401.901 152.7,401.901 152.246,401.901    150.884,401.901 148.614,401.901 147.252,401.901 144.982,401.901 143.62,401.901 143.166,401.901    \" style=\"stroke:#000000; stroke-width:1; stroke-opacity:1; fill:none\"/>\n",
       "<polyline clip-path=\"url(#clip7301)\" points=\"   220.866,401.901 227.222,401.901    \" style=\"stroke:#000000; stroke-width:1; stroke-opacity:1; fill:none\"/>\n",
       "<polyline clip-path=\"url(#clip7301)\" points=\"   220.866,401.901 230.4,401.901    \" style=\"stroke:#000000; stroke-width:1; stroke-opacity:1; fill:none\"/>\n",
       "<polyline clip-path=\"url(#clip7301)\" points=\"   220.866,401.901 221.32,401.901 222.682,401.901 224.952,401.901 226.314,401.901 228.584,401.901 229.946,401.901 230.4,401.901 229.946,401.901    228.584,401.901 226.314,401.901 224.952,401.901 222.682,401.901 221.32,401.901 220.866,401.901    \" style=\"stroke:#000000; stroke-width:1; stroke-opacity:1; fill:none\"/>\n",
       "<polyline clip-path=\"url(#clip7301)\" points=\"   299.928,401.901 299.02,401.901 298.566,401.901 299.02,401.901 300.382,401.901 302.652,401.901 304.922,401.901 306.738,401.901 307.646,401.901    308.1,401.901 307.646,401.901 306.738,401.901 305.376,401.901 304.922,401.901 303.56,401.901 302.652,401.901 302.198,401.901    302.652,401.901 303.56,401.901 304.922,401.901    \" style=\"stroke:#000000; stroke-width:1; stroke-opacity:1; fill:none\"/>\n",
       "<polyline clip-path=\"url(#clip7301)\" points=\"   298.566,401.901 299.02,401.901 300.382,401.901 302.652,401.901 304.014,401.901 306.284,401.901 307.646,401.901 308.1,401.901 307.646,401.901    306.284,401.901 304.014,401.901 302.652,401.901 300.382,401.901 299.02,401.901 298.566,401.901    \" style=\"stroke:#000000; stroke-width:1; stroke-opacity:1; fill:none\"/>\n",
       "<polyline clip-path=\"url(#clip7301)\" points=\"   376.266,401.901 376.72,401.901 377.628,401.901 378.536,401.901 379.444,401.901 379.898,401.901 380.352,401.901 380.806,401.901 381.714,401.901 382.622,401.901    383.984,401.901 384.892,401.901 385.346,401.901 385.8,401.901 385.346,401.901 384.892,401.901 383.984,401.901 382.622,401.901 381.714,401.901    380.806,401.901 380.352,401.901 379.898,401.901 379.444,401.901 378.536,401.901 377.628,401.901 376.72,401.901 376.266,401.901    \" style=\"stroke:#000000; stroke-width:1; stroke-opacity:1; fill:none\"/>\n",
       "<polyline clip-path=\"url(#clip7301)\" points=\"   376.266,401.901 376.72,401.901 378.082,401.901 380.352,401.901 381.714,401.901 383.984,401.901 385.346,401.901 385.8,401.901 385.346,401.901    383.984,401.901 381.714,401.901 380.352,401.901 378.082,401.901 376.72,401.901 376.266,401.901    \" style=\"stroke:#000000; stroke-width:1; stroke-opacity:1; fill:none\"/>\n",
       "<polyline clip-path=\"url(#clip7301)\" points=\"   455.782,401.901 455.328,401.901 453.966,401.901 463.5,401.901    \" style=\"stroke:#000000; stroke-width:1; stroke-opacity:1; fill:none\"/>\n",
       "<polyline clip-path=\"url(#clip7301)\" points=\"   453.966,401.901 454.42,401.901 455.782,401.901 458.052,401.901 459.414,401.901 461.684,401.901 463.046,401.901 463.5,401.901 463.046,401.901    461.684,401.901 459.414,401.901 458.052,401.901 455.782,401.901 454.42,401.901 453.966,401.901    \" style=\"stroke:#000000; stroke-width:1; stroke-opacity:1; fill:none\"/>\n",
       "<polyline clip-path=\"url(#clip7301)\" points=\"   453.966,401.901 454.42,401.901 455.782,401.901 458.052,401.901 459.414,401.901 461.684,401.901 463.046,401.901 463.5,401.901 463.046,401.901    461.684,401.901 459.414,401.901 458.052,401.901 455.782,401.901 454.42,401.901 453.966,401.901    \" style=\"stroke:#000000; stroke-width:1; stroke-opacity:1; fill:none\"/>\n",
       "<polyline clip-path=\"url(#clip7301)\" points=\"   75,393.75 75,393.75 75,401.695 75,393.75 113.85,393.75 113.85,397.722 113.85,393.75 152.7,393.75 152.7,401.695 152.7,393.75    191.55,393.75 191.55,397.722 191.55,393.75 230.4,393.75 230.4,401.695 230.4,393.75 269.25,393.75 269.25,397.722 269.25,393.75 308.1,393.75    308.1,401.695 308.1,393.75 346.95,393.75 346.95,397.722 346.95,393.75 385.8,393.75 385.8,401.695 385.8,393.75 424.65,393.75 424.65,397.722    424.65,393.75 463.5,393.75 463.5,401.695 463.5,393.75    \" style=\"stroke:#000000; stroke-width:1.05; stroke-opacity:1; fill:none\"/>\n",
       "<polyline clip-path=\"url(#clip7301)\" points=\"   468.153,325.516 467.699,325.516 466.791,325.516 466.337,325.516 465.883,325.516 466.337,325.516 466.791,325.516 467.699,325.516 468.607,325.516    469.515,325.516 470.877,325.516 475.417,325.516    \" style=\"stroke:#000000; stroke-width:1; stroke-opacity:1; fill:none\"/>\n",
       "<polyline clip-path=\"url(#clip7301)\" points=\"   465.883,325.516 466.337,325.516 467.699,325.516 469.969,325.516 471.331,325.516 473.601,325.516 474.963,325.516 475.417,325.516 474.963,325.516    473.601,325.516 471.331,325.516 469.969,325.516 467.699,325.516 466.337,325.516 465.883,325.516    \" style=\"stroke:#000000; stroke-width:1; stroke-opacity:1; fill:none\"/>\n",
       "<polyline clip-path=\"url(#clip7301)\" points=\"   465.883,253.516 472.239,253.516    \" style=\"stroke:#000000; stroke-width:1; stroke-opacity:1; fill:none\"/>\n",
       "<polyline clip-path=\"url(#clip7301)\" points=\"   465.883,253.516 475.417,253.516    \" style=\"stroke:#000000; stroke-width:1; stroke-opacity:1; fill:none\"/>\n",
       "<polyline clip-path=\"url(#clip7301)\" points=\"   465.883,253.516 466.337,253.516 467.699,253.516 469.969,253.516 471.331,253.516 473.601,253.516 474.963,253.516 475.417,253.516 474.963,253.516    473.601,253.516 471.331,253.516 469.969,253.516 467.699,253.516 466.337,253.516 465.883,253.516    \" style=\"stroke:#000000; stroke-width:1; stroke-opacity:1; fill:none\"/>\n",
       "<polyline clip-path=\"url(#clip7301)\" points=\"   467.245,181.516 466.337,181.516 465.883,181.516 466.337,181.516 467.699,181.516 469.969,181.516 472.239,181.516 474.055,181.516 474.963,181.516    475.417,181.516 474.963,181.516 474.055,181.516 472.693,181.516 472.239,181.516 470.877,181.516 469.969,181.516 469.515,181.516    469.969,181.516 470.877,181.516 472.239,181.516    \" style=\"stroke:#000000; stroke-width:1; stroke-opacity:1; fill:none\"/>\n",
       "<polyline clip-path=\"url(#clip7301)\" points=\"   465.883,181.516 466.337,181.516 467.699,181.516 469.969,181.516 471.331,181.516 473.601,181.516 474.963,181.516 475.417,181.516 474.963,181.516    473.601,181.516 471.331,181.516 469.969,181.516 467.699,181.516 466.337,181.516 465.883,181.516    \" style=\"stroke:#000000; stroke-width:1; stroke-opacity:1; fill:none\"/>\n",
       "<polyline clip-path=\"url(#clip7301)\" points=\"   465.883,109.516 466.337,109.516 467.245,109.516 468.153,109.516 469.061,109.516 469.515,109.516 469.969,109.516 470.423,109.516 471.331,109.516 472.239,109.516    473.601,109.516 474.509,109.516 474.963,109.516 475.417,109.516 474.963,109.516 474.509,109.516 473.601,109.516 472.239,109.516 471.331,109.516    470.423,109.516 469.969,109.516 469.515,109.516 469.061,109.516 468.153,109.516 467.245,109.516 466.337,109.516 465.883,109.516    \" style=\"stroke:#000000; stroke-width:1; stroke-opacity:1; fill:none\"/>\n",
       "<polyline clip-path=\"url(#clip7301)\" points=\"   465.883,109.516 466.337,109.516 467.699,109.516 469.969,109.516 471.331,109.516 473.601,109.516 474.963,109.516 475.417,109.516 474.963,109.516    473.601,109.516 471.331,109.516 469.969,109.516 467.699,109.516 466.337,109.516 465.883,109.516    \" style=\"stroke:#000000; stroke-width:1; stroke-opacity:1; fill:none\"/>\n",
       "<polyline clip-path=\"url(#clip7301)\" points=\"   467.699,37.5158 467.245,37.5158 465.883,37.5158 475.417,37.5158    \" style=\"stroke:#000000; stroke-width:1; stroke-opacity:1; fill:none\"/>\n",
       "<polyline clip-path=\"url(#clip7301)\" points=\"   465.883,37.5158 466.337,37.5158 467.699,37.5158 469.969,37.5158 471.331,37.5158 473.601,37.5158 474.963,37.5158 475.417,37.5158 474.963,37.5158    473.601,37.5158 471.331,37.5158 469.969,37.5158 467.699,37.5158 466.337,37.5158 465.883,37.5158    \" style=\"stroke:#000000; stroke-width:1; stroke-opacity:1; fill:none\"/>\n",
       "<polyline clip-path=\"url(#clip7301)\" points=\"   465.883,37.5158 466.337,37.5158 467.699,37.5158 469.969,37.5158 471.331,37.5158 473.601,37.5158 474.963,37.5158 475.417,37.5158 474.963,37.5158    473.601,37.5158 471.331,37.5158 469.969,37.5158 467.699,37.5158 466.337,37.5158 465.883,37.5158    \" style=\"stroke:#000000; stroke-width:1; stroke-opacity:1; fill:none\"/>\n",
       "<polyline clip-path=\"url(#clip7301)\" points=\"   463.5,393.75 463.5,393.75 471.445,393.75 463.5,393.75 463.5,357.75 467.472,357.75 463.5,357.75 463.5,321.75 471.445,321.75 463.5,321.75    463.5,285.75 467.472,285.75 463.5,285.75 463.5,249.75 471.445,249.75 463.5,249.75 463.5,213.75 467.472,213.75 463.5,213.75 463.5,177.75    471.445,177.75 463.5,177.75 463.5,141.75 467.472,141.75 463.5,141.75 463.5,105.75 471.445,105.75 463.5,105.75 463.5,69.75 467.472,69.75    463.5,69.75 463.5,33.75 471.445,33.75 463.5,33.75    \" style=\"stroke:#000000; stroke-width:1.05; stroke-opacity:1; fill:none\"/>\n",
       "<g clip-path=\"url(#clip7301)\">\n",
       "<text style=\"fill:#000000; fill-opacity:1; font-family:Arial,Helvetica Neue,Helvetica,sans-serif; font-size:14; text-anchor:start;\" transform=\"rotate(0, 217.213, 11.8219)\" x=\"217.213\" y=\"11.8219\">vortz - T = 20000</text>\n",
       "</g>\n",
       "<g clip-path=\"url(#clip7301)\">\n",
       "<text style=\"fill:#000000; fill-opacity:1; font-family:Arial,Helvetica Neue,Helvetica,sans-serif; font-size:14; text-anchor:start;\" transform=\"rotate(0, 265.93, 443.25)\" x=\"265.93\" y=\"443.25\">x</text>\n",
       "</g>\n",
       "<g clip-path=\"url(#clip7301)\">\n",
       "<text style=\"fill:#000000; fill-opacity:1; font-family:Arial,Helvetica Neue,Helvetica,sans-serif; font-size:14; text-anchor:start;\" transform=\"rotate(-90, 16.6781, 217.07)\" x=\"16.6781\" y=\"217.07\">y</text>\n",
       "</g>\n",
       "<defs>\n",
       "  <clipPath id=\"clip7302\">\n",
       "    <rect height=\"361\" width=\"19\" x=\"505\" y=\"33\"/>\n",
       "  </clipPath>\n",
       "</defs>\n",
       "<g clip-path=\"url(#clip7302)\">\n",
       "<image height=\"360\" transform=\"translate(506, 34)\" width=\"18\" xlink:href=\"data:image/png;base64, iVBORw0KGgoAAAANSUhEUgAAABIAAAFoCAYAAABaAKtEAAABD0lEQVR4nO3dwQnEQAzFUGdJ/yVn tgRd5mCEVIDh/Qb8nJkzF/rdODIz887vzq1rh6Jx+2htxIlpbcSJaW3EiWltxIlpbcSJaW3EReP2 0dqIE9PaiBPT2ogT09qIE9PaiBPT2oiLxu2jtREnprURJ6a1ESemtREnprURJ6a1EReN20drI05M ayNOTGsjTkxrI05MayNOTHvPPFcO3dvo+5Ydisbto7URJ6a1ESemtREnprURJ6a1ESemtREXjdtH ayNOTGsjTkxrI05MayNOTGsjTkxrIy4at4/WRpyY1kacmNZGnJjWRpyY1kacmNZGXDRuH62NODGt jTgxrY04Ma2NODGtjbh9tGfmXHkv8wfU6AXa2SJG/wAAAABJRU5ErkJggg== \"/>\n",
       "</g>\n",
       "<g clip-path=\"url(#clip7301)\">\n",
       "<text style=\"fill:#000000; fill-opacity:1; font-family:Arial,Helvetica Neue,Helvetica,sans-serif; font-size:11; text-anchor:start;\" transform=\"rotate(0, 532.5, 397.097)\" x=\"532.5\" y=\"397.097\">-</text>\n",
       "</g>\n",
       "<g clip-path=\"url(#clip7301)\">\n",
       "<text style=\"fill:#000000; fill-opacity:1; font-family:Arial,Helvetica Neue,Helvetica,sans-serif; font-size:11; text-anchor:start;\" transform=\"rotate(0, 539.393, 397.097)\" x=\"539.393\" y=\"397.097\">0.25</text>\n",
       "</g>\n",
       "<g clip-path=\"url(#clip7301)\">\n",
       "<text style=\"fill:#000000; fill-opacity:1; font-family:Arial,Helvetica Neue,Helvetica,sans-serif; font-size:11; text-anchor:start;\" transform=\"rotate(0, 532.5, 361.097)\" x=\"532.5\" y=\"361.097\">-</text>\n",
       "</g>\n",
       "<g clip-path=\"url(#clip7301)\">\n",
       "<text style=\"fill:#000000; fill-opacity:1; font-family:Arial,Helvetica Neue,Helvetica,sans-serif; font-size:11; text-anchor:start;\" transform=\"rotate(0, 539.393, 361.097)\" x=\"539.393\" y=\"361.097\">0.20</text>\n",
       "</g>\n",
       "<g clip-path=\"url(#clip7301)\">\n",
       "<text style=\"fill:#000000; fill-opacity:1; font-family:Arial,Helvetica Neue,Helvetica,sans-serif; font-size:11; text-anchor:start;\" transform=\"rotate(0, 532.5, 325.097)\" x=\"532.5\" y=\"325.097\">-</text>\n",
       "</g>\n",
       "<g clip-path=\"url(#clip7301)\">\n",
       "<text style=\"fill:#000000; fill-opacity:1; font-family:Arial,Helvetica Neue,Helvetica,sans-serif; font-size:11; text-anchor:start;\" transform=\"rotate(0, 539.393, 325.097)\" x=\"539.393\" y=\"325.097\">0.15</text>\n",
       "</g>\n",
       "<g clip-path=\"url(#clip7301)\">\n",
       "<text style=\"fill:#000000; fill-opacity:1; font-family:Arial,Helvetica Neue,Helvetica,sans-serif; font-size:11; text-anchor:start;\" transform=\"rotate(0, 532.5, 289.097)\" x=\"532.5\" y=\"289.097\">-</text>\n",
       "</g>\n",
       "<g clip-path=\"url(#clip7301)\">\n",
       "<text style=\"fill:#000000; fill-opacity:1; font-family:Arial,Helvetica Neue,Helvetica,sans-serif; font-size:11; text-anchor:start;\" transform=\"rotate(0, 539.393, 289.097)\" x=\"539.393\" y=\"289.097\">0.10</text>\n",
       "</g>\n",
       "<g clip-path=\"url(#clip7301)\">\n",
       "<text style=\"fill:#000000; fill-opacity:1; font-family:Arial,Helvetica Neue,Helvetica,sans-serif; font-size:11; text-anchor:start;\" transform=\"rotate(0, 532.5, 253.097)\" x=\"532.5\" y=\"253.097\">-</text>\n",
       "</g>\n",
       "<g clip-path=\"url(#clip7301)\">\n",
       "<text style=\"fill:#000000; fill-opacity:1; font-family:Arial,Helvetica Neue,Helvetica,sans-serif; font-size:11; text-anchor:start;\" transform=\"rotate(0, 539.393, 253.097)\" x=\"539.393\" y=\"253.097\">0.05</text>\n",
       "</g>\n",
       "<g clip-path=\"url(#clip7301)\">\n",
       "<text style=\"fill:#000000; fill-opacity:1; font-family:Arial,Helvetica Neue,Helvetica,sans-serif; font-size:11; text-anchor:start;\" transform=\"rotate(0, 532.5, 217.097)\" x=\"532.5\" y=\"217.097\">0</text>\n",
       "</g>\n",
       "<g clip-path=\"url(#clip7301)\">\n",
       "<text style=\"fill:#000000; fill-opacity:1; font-family:Arial,Helvetica Neue,Helvetica,sans-serif; font-size:11; text-anchor:start;\" transform=\"rotate(0, 532.5, 181.097)\" x=\"532.5\" y=\"181.097\">0.05</text>\n",
       "</g>\n",
       "<g clip-path=\"url(#clip7301)\">\n",
       "<text style=\"fill:#000000; fill-opacity:1; font-family:Arial,Helvetica Neue,Helvetica,sans-serif; font-size:11; text-anchor:start;\" transform=\"rotate(0, 532.5, 145.097)\" x=\"532.5\" y=\"145.097\">0.10</text>\n",
       "</g>\n",
       "<g clip-path=\"url(#clip7301)\">\n",
       "<text style=\"fill:#000000; fill-opacity:1; font-family:Arial,Helvetica Neue,Helvetica,sans-serif; font-size:11; text-anchor:start;\" transform=\"rotate(0, 532.5, 109.097)\" x=\"532.5\" y=\"109.097\">0.15</text>\n",
       "</g>\n",
       "<g clip-path=\"url(#clip7301)\">\n",
       "<text style=\"fill:#000000; fill-opacity:1; font-family:Arial,Helvetica Neue,Helvetica,sans-serif; font-size:11; text-anchor:start;\" transform=\"rotate(0, 532.5, 73.0974)\" x=\"532.5\" y=\"73.0974\">0.20</text>\n",
       "</g>\n",
       "<g clip-path=\"url(#clip7301)\">\n",
       "<text style=\"fill:#000000; fill-opacity:1; font-family:Arial,Helvetica Neue,Helvetica,sans-serif; font-size:11; text-anchor:start;\" transform=\"rotate(0, 532.5, 37.0974)\" x=\"532.5\" y=\"37.0974\">0.25</text>\n",
       "</g>\n",
       "<polyline clip-path=\"url(#clip7301)\" points=\"   523.5,393.75 523.5,393.75 529.5,393.75 523.5,393.75 523.5,357.75 529.5,357.75 523.5,357.75 523.5,321.75 529.5,321.75 523.5,321.75    523.5,285.75 529.5,285.75 523.5,285.75 523.5,249.75 529.5,249.75 523.5,249.75 523.5,213.75 529.5,213.75 523.5,213.75 523.5,177.75    529.5,177.75 523.5,177.75 523.5,141.75 529.5,141.75 523.5,141.75 523.5,105.75 529.5,105.75 523.5,105.75 523.5,69.75 529.5,69.75    523.5,69.75 523.5,33.75 529.5,33.75 523.5,33.75    \" style=\"stroke:#000000; stroke-width:1.05; stroke-opacity:1; fill:none\"/>\n",
       "</svg>"
      ],
      "text/plain": [
       "<IPython.core.display.SVG object>"
      ]
     },
     "metadata": {},
     "output_type": "display_data"
    },
    {
     "name": "stdout",
     "output_type": "stream",
     "text": [
      "Total time: 24.7124 sec for 20000 steps, 1.23562 ms/step\n"
     ]
    }
   ],
   "source": [
    "for t in range(T+1):\n",
    "    if t==1: # for JIT\n",
    "        startTime = time.time()\n",
    "    \n",
    "    # Plot\n",
    "    if plot_flag and t % plot_step == 0:\n",
    "        plot(t)\n",
    "        if plot_save: plt.savefig('dpsl_t%04d.pdf' % t)\n",
    "\n",
    "    # Step 1: Streaming / advection step: f'_i(x) <- f^n_i(x-c_i)\n",
    "    solver.stream()\n",
    "    \n",
    "    # Step 2: Apply boundary condition\n",
    "    solver.apply_periodic()\n",
    "    \n",
    "    # Step 3: Relaxation / collision step: f^{n+1}_i(x) <- f'_i + \\alpha\\beta [f^{eq}'_i(x,t) - f'_i(x,t)]\n",
    "    solver.relax()\n",
    "    \n",
    "    if solver.rho.min() <= 0.:\n",
    "        print('Density is negative!')\n",
    "        break\n",
    "\n",
    "# Done\n",
    "duration = time.time()-startTime\n",
    "print('Total time: {:3g} sec for {:d} steps, {:3g} ms/step'.format(duration, T, duration/T*1000))        "
   ]
  }
 ],
 "metadata": {
  "kernelspec": {
   "display_name": "Python 3",
   "language": "python",
   "name": "python3"
  },
  "language_info": {
   "codemirror_mode": {
    "name": "ipython",
    "version": 3
   },
   "file_extension": ".py",
   "mimetype": "text/x-python",
   "name": "python",
   "nbconvert_exporter": "python",
   "pygments_lexer": "ipython3",
   "version": "3.6.4"
  }
 },
 "nbformat": 4,
 "nbformat_minor": 2
}
